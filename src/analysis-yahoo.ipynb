{
 "cells": [
  {
   "cell_type": "code",
   "execution_count": 1,
   "id": "2cb2888e",
   "metadata": {},
   "outputs": [],
   "source": [
    "import argparse\n",
    "from numpy.core.numeric import cross\n",
    "import yaml\n",
    "import warnings\n",
    "import pandas as pd\n",
    "import glob, os\n",
    "import logging\n",
    "from scipy import stats\n",
    "from typing import Tuple\n",
    "import tensorflow as tf\n",
    "import numpy as np                                                         \n",
    "from utils.data_loader import load_coat, load_synthetic, load_yahoo\n",
    "from trainer import train_mf, train_mf_kfold, train_expoMF\n",
    "from evaluate.metrics import evaluator, evaluator_ranking"
   ]
  },
  {
   "cell_type": "code",
   "execution_count": 2,
   "id": "111e1f63",
   "metadata": {},
   "outputs": [
    {
     "name": "stdout",
     "output_type": "stream",
     "text": [
      "Requirement already satisfied: matplotlib in /ivi/ilps/personal/sgupta/anaconda3/envs/fair_ranking/lib/python3.6/site-packages (3.3.4)\r\n",
      "Requirement already satisfied: pyparsing!=2.0.4,!=2.1.2,!=2.1.6,>=2.0.3 in /home/sgupta/.local/lib/python3.6/site-packages (from matplotlib) (2.4.7)\r\n",
      "Requirement already satisfied: numpy>=1.15 in /ivi/ilps/personal/sgupta/anaconda3/envs/fair_ranking/lib/python3.6/site-packages (from matplotlib) (1.19.2)\r\n",
      "Requirement already satisfied: cycler>=0.10 in /ivi/ilps/personal/sgupta/anaconda3/envs/fair_ranking/lib/python3.6/site-packages (from matplotlib) (0.11.0)\r\n",
      "Requirement already satisfied: kiwisolver>=1.0.1 in /ivi/ilps/personal/sgupta/anaconda3/envs/fair_ranking/lib/python3.6/site-packages (from matplotlib) (1.3.1)\r\n",
      "Requirement already satisfied: pillow>=6.2.0 in /ivi/ilps/personal/sgupta/anaconda3/envs/fair_ranking/lib/python3.6/site-packages (from matplotlib) (8.2.0)\r\n",
      "Requirement already satisfied: python-dateutil>=2.1 in /home/sgupta/.local/lib/python3.6/site-packages (from matplotlib) (2.8.2)\r\n",
      "Requirement already satisfied: six>=1.5 in /home/sgupta/.local/lib/python3.6/site-packages (from python-dateutil>=2.1->matplotlib) (1.16.0)\r\n"
     ]
    }
   ],
   "source": [
    "!pip install matplotlib"
   ]
  },
  {
   "cell_type": "code",
   "execution_count": 3,
   "id": "e99a294a",
   "metadata": {},
   "outputs": [],
   "source": [
    "def load_yahoo() -> Tuple[np.ndarray, np.ndarray]:\n",
    "    \"\"\"\n",
    "    load_yahoo Loads yahoo dataset\n",
    "\n",
    "    Returns:\n",
    "        Tuple[np.ndarray, np.ndarray]: train, test dataset\n",
    "    \"\"\"    \n",
    "    cols = ['uid', 'pid', 'rating']\n",
    "    dir_path = '../data/raw/yahoo'\n",
    "    train_df = pd.read_csv(os.path.join(dir_path, 'ydata-ymusic-rating-study-v1_0-train.txt'),\\\n",
    "                    delimiter='\\t', names=cols)\n",
    "    test_dir_path = '../data/processed/'\n",
    "    test_df = pd.read_csv(os.path.join(test_dir_path, 'eval_split.dat'),\\\n",
    "                    delimiter='\\t', names=cols)\n",
    "    prop_df = pd.read_csv(os.path.join(test_dir_path, 'prop_split.dat'),\\\n",
    "                    delimiter='\\t', names=cols)\n",
    "\n",
    "    # train_raw_matrix = np.loadtxt(os.path.join('./data/raw/coat', 'train.ascii'))\n",
    "    # test_raw_matrix = np.loadtxt(os.path.join('./data/raw/coat', 'test.ascii'))\n",
    "    item_feats = np.loadtxt('../data/processed/item_attr_matrix.txt')\n",
    "    # train_df = pd.DataFrame(\n",
    "    #     {'uid': np.nonzero(train_raw_matrix)[0].tolist(),\n",
    "    #     'pid': np.nonzero(train_raw_matrix)[1].tolist(),\n",
    "    #     'rating': train_raw_matrix[np.nonzero(train_raw_matrix)]\n",
    "    #     })\n",
    "    \n",
    "    # test_df = pd.DataFrame(\n",
    "    #     {'uid': np.nonzero(test_raw_matrix)[0].tolist(),\n",
    "    #     'pid': np.nonzero(test_raw_matrix)[1].tolist(),\n",
    "    #     'rating': test_raw_matrix[np.nonzero(test_raw_matrix)]\n",
    "    #     })\n",
    "\n",
    "    col_names = []\n",
    "    n_clusts = item_feats.shape[1]\n",
    "    n_users = np.unique(train_df['uid']).shape[0]\n",
    "    for i in range(n_clusts):\n",
    "        col_names.append('f'  + str(i))\n",
    "    \n",
    "    col_name_df = {}\n",
    "    for i, col_name in enumerate(col_names):\n",
    "        col_name_df[col_name] = item_feats[:, i]\n",
    "        col_name_df['pid'] = range(0, item_feats.shape[0])\n",
    "    \n",
    "    item_feats_df = pd.DataFrame(col_name_df)\n",
    "    train_df_item = train_df.merge(item_feats_df, on='pid')\n",
    "    test_df_item = test_df.merge(item_feats_df, on='pid')\n",
    "    prop_df_item = prop_df.merge(item_feats_df, on='pid')\n",
    "\n",
    "    # Generating user * attribute matrix\n",
    "    col_names_idx = dict(zip(col_names, range(len(col_names))))\n",
    "    user_attr_train = np.zeros((n_users, len(col_names)))\n",
    "    user_attr_train_count = np.zeros((n_users, len(col_names)))\n",
    "\n",
    "    user_attr_test = np.zeros((n_users, len(col_names)))\n",
    "    user_attr_test_count = np.zeros((n_users, len(col_names)))\n",
    "\n",
    "    user_attr_prop = np.zeros((n_users, len(col_names)))\n",
    "    user_attr_prop_count = np.zeros((n_users, len(col_names)))\n",
    "\n",
    "    \n",
    "    for j, row in train_df_item.iterrows():\n",
    "        for col_name, idx in col_names_idx.items():\n",
    "            if int(row[col_name]) == 1:\n",
    "                user_attr_train[int(row['uid'])-1, idx] += row['rating']\n",
    "    \n",
    "    for j, row in train_df_item.iterrows():\n",
    "        for col_name, idx in col_names_idx.items():\n",
    "            if int(row[col_name]) == 1:\n",
    "                user_attr_train_count[int(row['uid'])-1, idx] += 1\n",
    "            \n",
    "    for j, row in test_df_item.iterrows():\n",
    "        for col_name, idx in col_names_idx.items():\n",
    "            if int(row[col_name]) == 1:\n",
    "                user_attr_test[int(row['uid'])-1, idx] += row['rating']\n",
    "    \n",
    "    for j, row in test_df_item.iterrows():\n",
    "        for col_name, idx in col_names_idx.items():\n",
    "            if int(row[col_name]) == 1:\n",
    "                user_attr_test_count[int(row['uid'])-1, idx] += 1\n",
    "\n",
    "    for j, row in prop_df_item.iterrows():\n",
    "        for col_name, idx in col_names_idx.items():\n",
    "            if int(row[col_name]) == 1:\n",
    "                user_attr_prop[int(row['uid'])-1, idx] += row['rating']\n",
    "    \n",
    "    for j, row in prop_df_item.iterrows():\n",
    "        for col_name, idx in col_names_idx.items():\n",
    "            if int(row[col_name]) == 1:\n",
    "                user_attr_prop_count[int(row['uid'])-1, idx] += 1\n",
    "\n",
    "\n",
    "    # replace count of ratings with average rating\n",
    "    user_attr_train /= user_attr_train_count\n",
    "    user_attr_test /= user_attr_test_count\n",
    "    user_attr_prop /= user_attr_prop_count\n",
    "    # replace division with 0 with -1\n",
    "    user_attr_train[np.isnan(user_attr_train)] = 0\n",
    "    user_attr_test[np.isnan(user_attr_test)] = 0\n",
    "    user_attr_prop[np.isnan(user_attr_prop)] = 0\n",
    "    # Convert float values to nearest int\n",
    "    user_attr_train = np.ceil(user_attr_train)\n",
    "    user_attr_test = np.ceil(user_attr_test)\n",
    "    user_attr_prop = np.ceil(user_attr_prop)\n",
    "\n",
    "    # train & test user * attribute dataframe\n",
    "    train_ua_df = pd.DataFrame(\n",
    "    {'uid': np.nonzero(user_attr_train)[0].tolist(),\n",
    "     'pid': np.nonzero(user_attr_train)[1].tolist(),\n",
    "     'rating': user_attr_train[np.nonzero(user_attr_train)]\n",
    "    })\n",
    "\n",
    "    # np.random.seed(12345)\n",
    "    # msk = np.random.rand(len(train_ua_df)) < 0.9\n",
    "    \n",
    "    # train_split_df = train_ua_df[msk]\n",
    "    # valid_split_df = train_ua_df[~msk]\n",
    "\n",
    "\n",
    "    test_ua_df = pd.DataFrame(\n",
    "    {'uid': np.nonzero(user_attr_test)[0].tolist(),\n",
    "     'pid': np.nonzero(user_attr_test)[1].tolist(),\n",
    "     'rating': user_attr_test[np.nonzero(user_attr_test)]\n",
    "    })\n",
    "\n",
    "    prop_ua_df = pd.DataFrame(\n",
    "    {'uid': np.nonzero(user_attr_prop)[0].tolist(),\n",
    "     'pid': np.nonzero(user_attr_prop)[1].tolist(),\n",
    "     'rating': user_attr_prop[np.nonzero(user_attr_prop)]\n",
    "    })\n",
    "    \n",
    "    return (train_df_item, test_df_item, train_ua_df, test_ua_df, prop_ua_df, item_feats_df)"
   ]
  },
  {
   "cell_type": "code",
   "execution_count": 4,
   "id": "53494be0",
   "metadata": {},
   "outputs": [],
   "source": [
    "config = yaml.safe_load(open('../config/consts.yaml', 'rb'))"
   ]
  },
  {
   "cell_type": "code",
   "execution_count": 5,
   "id": "659d3cd7",
   "metadata": {},
   "outputs": [
    {
     "name": "stderr",
     "output_type": "stream",
     "text": [
      "/home/sgupta/.local/lib/python3.6/site-packages/ipykernel_launcher.py:93: RuntimeWarning: invalid value encountered in true_divide\n",
      "/home/sgupta/.local/lib/python3.6/site-packages/ipykernel_launcher.py:94: RuntimeWarning: invalid value encountered in true_divide\n",
      "/home/sgupta/.local/lib/python3.6/site-packages/ipykernel_launcher.py:95: RuntimeWarning: invalid value encountered in true_divide\n"
     ]
    }
   ],
   "source": [
    "res = load_yahoo()"
   ]
  },
  {
   "cell_type": "code",
   "execution_count": 6,
   "id": "86f18b5d",
   "metadata": {},
   "outputs": [],
   "source": [
    "cross_val_files = glob.glob('../reports/results/cross_val_results_*')"
   ]
  },
  {
   "cell_type": "code",
   "execution_count": 7,
   "id": "3d1752c8",
   "metadata": {},
   "outputs": [
    {
     "data": {
      "text/plain": [
       "19"
      ]
     },
     "execution_count": 7,
     "metadata": {},
     "output_type": "execute_result"
    }
   ],
   "source": [
    "len(cross_val_files)"
   ]
  },
  {
   "cell_type": "code",
   "execution_count": 8,
   "id": "0639c9f5",
   "metadata": {},
   "outputs": [
    {
     "name": "stdout",
     "output_type": "stream",
     "text": [
      "   Dataset  Method  lf_dim  reg_param       MSE\n",
      "0    Yahoo      MF      40   0.000010  2.477533\n",
      "1    Yahoo  MF-IPS      40   0.000010  1.864583\n",
      "2    Yahoo  ExpoMF      40   0.000010  3.776678\n",
      "3    Yahoo      MF      10   0.010000  2.856141\n",
      "4    Yahoo  MF-IPS      10   0.010000  1.803867\n",
      "5    Yahoo  ExpoMF      10   0.010000  2.864383\n",
      "6    Yahoo      MF      40   0.001000  2.707495\n",
      "7    Yahoo  MF-IPS      40   0.001000  1.580855\n",
      "8    Yahoo  ExpoMF      40   0.001000  3.786762\n",
      "9    Yahoo      MF       5   0.000001  2.109482\n",
      "10   Yahoo  MF-IPS       5   0.000001  1.471964\n",
      "11   Yahoo  ExpoMF       5   0.000001  2.409982\n",
      "12   Yahoo      MF      10   0.000001  2.288510\n",
      "13   Yahoo  MF-IPS      10   0.000001  1.636119\n",
      "14   Yahoo  ExpoMF      10   0.000001  2.878583\n",
      "15   Yahoo      MF      10   0.000100  2.348285\n",
      "16   Yahoo  MF-IPS      10   0.000100  1.568825\n",
      "17   Yahoo  ExpoMF      10   0.000100  2.880083\n",
      "18   Yahoo      MF      40   0.000100  2.350146\n",
      "19   Yahoo  MF-IPS      40   0.000100  1.755587\n",
      "20   Yahoo  ExpoMF      40   0.000100  3.778452\n",
      "21   Yahoo      MF      20   0.000001  2.500215\n",
      "22   Yahoo  MF-IPS      20   0.000001  1.896659\n",
      "23   Yahoo  ExpoMF      20   0.000001  3.436293\n",
      "24   Yahoo      MF      40   0.000001  2.398036\n",
      "25   Yahoo  MF-IPS      40   0.000001  1.844454\n",
      "26   Yahoo  ExpoMF      40   0.000001  3.789102\n",
      "27   Yahoo      MF      10   0.001000  2.535155\n",
      "28   Yahoo  MF-IPS      10   0.001000  1.451969\n",
      "29   Yahoo  ExpoMF      10   0.001000  2.886076\n",
      "30   Yahoo      MF       5   0.000100  2.112302\n",
      "31   Yahoo  MF-IPS       5   0.000100  1.454995\n",
      "32   Yahoo  ExpoMF       5   0.000100  2.402840\n",
      "33   Yahoo      MF       5   0.001000  2.868616\n",
      "34   Yahoo  MF-IPS       5   0.001000  1.437752\n",
      "35   Yahoo  ExpoMF       5   0.001000  2.420471\n",
      "36   Yahoo      MF      40   0.010000  2.869694\n",
      "37   Yahoo  MF-IPS      40   0.010000  1.804252\n",
      "38   Yahoo  ExpoMF      40   0.010000  3.786183\n",
      "39   Yahoo      MF      20   0.010000  2.834067\n",
      "40   Yahoo  MF-IPS      20   0.010000  1.804012\n",
      "41   Yahoo  ExpoMF      20   0.010000  3.412395\n",
      "42   Yahoo      MF      20   0.000010  2.524776\n",
      "43   Yahoo  MF-IPS      20   0.000010  1.893689\n",
      "44   Yahoo  ExpoMF      20   0.000010  3.442629\n",
      "45   Yahoo      MF       5   0.010000  2.855014\n",
      "46   Yahoo  MF-IPS       5   0.010000  1.804489\n",
      "47   Yahoo  ExpoMF       5   0.010000  2.409300\n",
      "48   Yahoo      MF       5   0.000010  2.109674\n",
      "49   Yahoo  MF-IPS       5   0.000010  1.462732\n",
      "50   Yahoo  ExpoMF       5   0.000010  2.395127\n",
      "51   Yahoo      MF      20   0.000100  2.305410\n",
      "52   Yahoo  MF-IPS      20   0.000100  1.762448\n",
      "53   Yahoo  ExpoMF      20   0.000100  3.469285\n",
      "54   Yahoo      MF      20   0.001000  2.693480\n",
      "55   Yahoo  MF-IPS      20   0.001000  1.564974\n",
      "56   Yahoo  ExpoMF      20   0.001000  3.424169\n"
     ]
    }
   ],
   "source": [
    "df_results = []\n",
    "for cross_val_file in cross_val_files:\n",
    "    df_res = pd.read_csv(cross_val_file, delimiter='\\t')\n",
    "    df_results.append(df_res)\n",
    "df_params = pd.concat(df_results, ignore_index=True)\n",
    "print(df_params)"
   ]
  },
  {
   "cell_type": "code",
   "execution_count": 9,
   "id": "0a59c06f",
   "metadata": {},
   "outputs": [
    {
     "data": {
      "text/plain": [
       "'Dataset'"
      ]
     },
     "execution_count": 9,
     "metadata": {},
     "output_type": "execute_result"
    }
   ],
   "source": [
    "df_params.columns[0]"
   ]
  },
  {
   "cell_type": "code",
   "execution_count": 10,
   "id": "7bbd938e",
   "metadata": {},
   "outputs": [],
   "source": [
    "df_params = df_params[df_params['Dataset'] == 'Yahoo'].reset_index()\n",
    "df_params_mf = df_params[df_params['Method'] == 'MF'].reset_index()\n",
    "df_params_mfips = df_params[df_params['Method'] == 'MF-IPS'].reset_index()\n",
    "df_params_expomf = df_params[df_params['Method'] == 'ExpoMF'].reset_index()\n",
    "\n",
    "best_param_idx_mf = df_params_mf['MSE'].idxmin()\n",
    "best_param_idx_mfips = df_params_mfips['MSE'].idxmin()\n",
    "best_param_idx_expomf = df_params_expomf['MSE'].idxmin()\n"
   ]
  },
  {
   "cell_type": "code",
   "execution_count": 11,
   "id": "643d3195",
   "metadata": {},
   "outputs": [
    {
     "data": {
      "text/plain": [
       "16"
      ]
     },
     "execution_count": 11,
     "metadata": {},
     "output_type": "execute_result"
    }
   ],
   "source": [
    "best_param_idx_expomf"
   ]
  },
  {
   "cell_type": "code",
   "execution_count": 12,
   "id": "7cec9f51",
   "metadata": {},
   "outputs": [
    {
     "data": {
      "text/html": [
       "<div>\n",
       "<style scoped>\n",
       "    .dataframe tbody tr th:only-of-type {\n",
       "        vertical-align: middle;\n",
       "    }\n",
       "\n",
       "    .dataframe tbody tr th {\n",
       "        vertical-align: top;\n",
       "    }\n",
       "\n",
       "    .dataframe thead th {\n",
       "        text-align: right;\n",
       "    }\n",
       "</style>\n",
       "<table border=\"1\" class=\"dataframe\">\n",
       "  <thead>\n",
       "    <tr style=\"text-align: right;\">\n",
       "      <th></th>\n",
       "      <th>level_0</th>\n",
       "      <th>index</th>\n",
       "      <th>Dataset</th>\n",
       "      <th>Method</th>\n",
       "      <th>lf_dim</th>\n",
       "      <th>reg_param</th>\n",
       "      <th>MSE</th>\n",
       "    </tr>\n",
       "  </thead>\n",
       "  <tbody>\n",
       "    <tr>\n",
       "      <th>0</th>\n",
       "      <td>2</td>\n",
       "      <td>2</td>\n",
       "      <td>Yahoo</td>\n",
       "      <td>ExpoMF</td>\n",
       "      <td>40</td>\n",
       "      <td>0.000010</td>\n",
       "      <td>3.776678</td>\n",
       "    </tr>\n",
       "    <tr>\n",
       "      <th>1</th>\n",
       "      <td>5</td>\n",
       "      <td>5</td>\n",
       "      <td>Yahoo</td>\n",
       "      <td>ExpoMF</td>\n",
       "      <td>10</td>\n",
       "      <td>0.010000</td>\n",
       "      <td>2.864383</td>\n",
       "    </tr>\n",
       "    <tr>\n",
       "      <th>2</th>\n",
       "      <td>8</td>\n",
       "      <td>8</td>\n",
       "      <td>Yahoo</td>\n",
       "      <td>ExpoMF</td>\n",
       "      <td>40</td>\n",
       "      <td>0.001000</td>\n",
       "      <td>3.786762</td>\n",
       "    </tr>\n",
       "    <tr>\n",
       "      <th>3</th>\n",
       "      <td>11</td>\n",
       "      <td>11</td>\n",
       "      <td>Yahoo</td>\n",
       "      <td>ExpoMF</td>\n",
       "      <td>5</td>\n",
       "      <td>0.000001</td>\n",
       "      <td>2.409982</td>\n",
       "    </tr>\n",
       "    <tr>\n",
       "      <th>4</th>\n",
       "      <td>14</td>\n",
       "      <td>14</td>\n",
       "      <td>Yahoo</td>\n",
       "      <td>ExpoMF</td>\n",
       "      <td>10</td>\n",
       "      <td>0.000001</td>\n",
       "      <td>2.878583</td>\n",
       "    </tr>\n",
       "    <tr>\n",
       "      <th>5</th>\n",
       "      <td>17</td>\n",
       "      <td>17</td>\n",
       "      <td>Yahoo</td>\n",
       "      <td>ExpoMF</td>\n",
       "      <td>10</td>\n",
       "      <td>0.000100</td>\n",
       "      <td>2.880083</td>\n",
       "    </tr>\n",
       "    <tr>\n",
       "      <th>6</th>\n",
       "      <td>20</td>\n",
       "      <td>20</td>\n",
       "      <td>Yahoo</td>\n",
       "      <td>ExpoMF</td>\n",
       "      <td>40</td>\n",
       "      <td>0.000100</td>\n",
       "      <td>3.778452</td>\n",
       "    </tr>\n",
       "    <tr>\n",
       "      <th>7</th>\n",
       "      <td>23</td>\n",
       "      <td>23</td>\n",
       "      <td>Yahoo</td>\n",
       "      <td>ExpoMF</td>\n",
       "      <td>20</td>\n",
       "      <td>0.000001</td>\n",
       "      <td>3.436293</td>\n",
       "    </tr>\n",
       "    <tr>\n",
       "      <th>8</th>\n",
       "      <td>26</td>\n",
       "      <td>26</td>\n",
       "      <td>Yahoo</td>\n",
       "      <td>ExpoMF</td>\n",
       "      <td>40</td>\n",
       "      <td>0.000001</td>\n",
       "      <td>3.789102</td>\n",
       "    </tr>\n",
       "    <tr>\n",
       "      <th>9</th>\n",
       "      <td>29</td>\n",
       "      <td>29</td>\n",
       "      <td>Yahoo</td>\n",
       "      <td>ExpoMF</td>\n",
       "      <td>10</td>\n",
       "      <td>0.001000</td>\n",
       "      <td>2.886076</td>\n",
       "    </tr>\n",
       "    <tr>\n",
       "      <th>10</th>\n",
       "      <td>32</td>\n",
       "      <td>32</td>\n",
       "      <td>Yahoo</td>\n",
       "      <td>ExpoMF</td>\n",
       "      <td>5</td>\n",
       "      <td>0.000100</td>\n",
       "      <td>2.402840</td>\n",
       "    </tr>\n",
       "    <tr>\n",
       "      <th>11</th>\n",
       "      <td>35</td>\n",
       "      <td>35</td>\n",
       "      <td>Yahoo</td>\n",
       "      <td>ExpoMF</td>\n",
       "      <td>5</td>\n",
       "      <td>0.001000</td>\n",
       "      <td>2.420471</td>\n",
       "    </tr>\n",
       "    <tr>\n",
       "      <th>12</th>\n",
       "      <td>38</td>\n",
       "      <td>38</td>\n",
       "      <td>Yahoo</td>\n",
       "      <td>ExpoMF</td>\n",
       "      <td>40</td>\n",
       "      <td>0.010000</td>\n",
       "      <td>3.786183</td>\n",
       "    </tr>\n",
       "    <tr>\n",
       "      <th>13</th>\n",
       "      <td>41</td>\n",
       "      <td>41</td>\n",
       "      <td>Yahoo</td>\n",
       "      <td>ExpoMF</td>\n",
       "      <td>20</td>\n",
       "      <td>0.010000</td>\n",
       "      <td>3.412395</td>\n",
       "    </tr>\n",
       "    <tr>\n",
       "      <th>14</th>\n",
       "      <td>44</td>\n",
       "      <td>44</td>\n",
       "      <td>Yahoo</td>\n",
       "      <td>ExpoMF</td>\n",
       "      <td>20</td>\n",
       "      <td>0.000010</td>\n",
       "      <td>3.442629</td>\n",
       "    </tr>\n",
       "    <tr>\n",
       "      <th>15</th>\n",
       "      <td>47</td>\n",
       "      <td>47</td>\n",
       "      <td>Yahoo</td>\n",
       "      <td>ExpoMF</td>\n",
       "      <td>5</td>\n",
       "      <td>0.010000</td>\n",
       "      <td>2.409300</td>\n",
       "    </tr>\n",
       "    <tr>\n",
       "      <th>16</th>\n",
       "      <td>50</td>\n",
       "      <td>50</td>\n",
       "      <td>Yahoo</td>\n",
       "      <td>ExpoMF</td>\n",
       "      <td>5</td>\n",
       "      <td>0.000010</td>\n",
       "      <td>2.395127</td>\n",
       "    </tr>\n",
       "    <tr>\n",
       "      <th>17</th>\n",
       "      <td>53</td>\n",
       "      <td>53</td>\n",
       "      <td>Yahoo</td>\n",
       "      <td>ExpoMF</td>\n",
       "      <td>20</td>\n",
       "      <td>0.000100</td>\n",
       "      <td>3.469285</td>\n",
       "    </tr>\n",
       "    <tr>\n",
       "      <th>18</th>\n",
       "      <td>56</td>\n",
       "      <td>56</td>\n",
       "      <td>Yahoo</td>\n",
       "      <td>ExpoMF</td>\n",
       "      <td>20</td>\n",
       "      <td>0.001000</td>\n",
       "      <td>3.424169</td>\n",
       "    </tr>\n",
       "  </tbody>\n",
       "</table>\n",
       "</div>"
      ],
      "text/plain": [
       "    level_0  index Dataset  Method  lf_dim  reg_param       MSE\n",
       "0         2      2   Yahoo  ExpoMF      40   0.000010  3.776678\n",
       "1         5      5   Yahoo  ExpoMF      10   0.010000  2.864383\n",
       "2         8      8   Yahoo  ExpoMF      40   0.001000  3.786762\n",
       "3        11     11   Yahoo  ExpoMF       5   0.000001  2.409982\n",
       "4        14     14   Yahoo  ExpoMF      10   0.000001  2.878583\n",
       "5        17     17   Yahoo  ExpoMF      10   0.000100  2.880083\n",
       "6        20     20   Yahoo  ExpoMF      40   0.000100  3.778452\n",
       "7        23     23   Yahoo  ExpoMF      20   0.000001  3.436293\n",
       "8        26     26   Yahoo  ExpoMF      40   0.000001  3.789102\n",
       "9        29     29   Yahoo  ExpoMF      10   0.001000  2.886076\n",
       "10       32     32   Yahoo  ExpoMF       5   0.000100  2.402840\n",
       "11       35     35   Yahoo  ExpoMF       5   0.001000  2.420471\n",
       "12       38     38   Yahoo  ExpoMF      40   0.010000  3.786183\n",
       "13       41     41   Yahoo  ExpoMF      20   0.010000  3.412395\n",
       "14       44     44   Yahoo  ExpoMF      20   0.000010  3.442629\n",
       "15       47     47   Yahoo  ExpoMF       5   0.010000  2.409300\n",
       "16       50     50   Yahoo  ExpoMF       5   0.000010  2.395127\n",
       "17       53     53   Yahoo  ExpoMF      20   0.000100  3.469285\n",
       "18       56     56   Yahoo  ExpoMF      20   0.001000  3.424169"
      ]
     },
     "execution_count": 12,
     "metadata": {},
     "output_type": "execute_result"
    }
   ],
   "source": [
    "df_params_expomf"
   ]
  },
  {
   "cell_type": "code",
   "execution_count": 13,
   "id": "8e08b797",
   "metadata": {},
   "outputs": [],
   "source": [
    "lf_dim_best_mf, reg_param_best_mf = df_params_mf.iloc[best_param_idx_mf]['lf_dim'],\\\n",
    "                                    df_params_mf.iloc[best_param_idx_mf]['reg_param']\n",
    "\n",
    "lf_dim_best_mfips, reg_param_best_mfips = df_params_mfips.iloc[best_param_idx_mfips]['lf_dim'],\\\n",
    "                            df_params_mfips.iloc[best_param_idx_mfips]['reg_param']\n",
    "\n",
    "lf_dim_best_expomf, reg_param_best_expomf = df_params_expomf.iloc[best_param_idx_expomf]['lf_dim'],\\\n",
    "                            df_params_expomf.iloc[best_param_idx_expomf]['reg_param']"
   ]
  },
  {
   "cell_type": "code",
   "execution_count": 14,
   "id": "50812498",
   "metadata": {},
   "outputs": [],
   "source": [
    "train_df_item, test_df_item, train_ua_df, test_ua_df, prop_ua_df, item_feats_df = res[0], res[1], res[2], res[3], res[4], res[5]"
   ]
  },
  {
   "cell_type": "code",
   "execution_count": 15,
   "id": "90f8b4d7",
   "metadata": {},
   "outputs": [
    {
     "data": {
      "text/plain": [
       "999"
      ]
     },
     "execution_count": 15,
     "metadata": {},
     "output_type": "execute_result"
    }
   ],
   "source": [
    "train_df_item['pid'].max()"
   ]
  },
  {
   "cell_type": "code",
   "execution_count": 34,
   "id": "39b7ff6f",
   "metadata": {},
   "outputs": [
    {
     "name": "stdout",
     "output_type": "stream",
     "text": [
      "Starting cross-val hyper-param tuning\n",
      "Model: \"model_3\"\n",
      "__________________________________________________________________________________________________\n",
      "Layer (type)                    Output Shape         Param #     Connected to                     \n",
      "==================================================================================================\n",
      "input_8 (InputLayer)            [(None, 1)]          0                                            \n",
      "__________________________________________________________________________________________________\n",
      "input_9 (InputLayer)            [(None, 1)]          0                                            \n",
      "__________________________________________________________________________________________________\n",
      "embedding_7 (Embedding)         (None, 1, 5)         77000       input_8[0][0]                    \n",
      "__________________________________________________________________________________________________\n",
      "embedding_8 (Embedding)         (None, 1, 5)         750         input_9[0][0]                    \n",
      "__________________________________________________________________________________________________\n",
      "reshape_6 (Reshape)             (None, 5)            0           embedding_7[0][0]                \n",
      "__________________________________________________________________________________________________\n",
      "reshape_7 (Reshape)             (None, 5)            0           embedding_8[0][0]                \n",
      "__________________________________________________________________________________________________\n",
      "dot_3 (Dot)                     (None, 1)            0           reshape_6[0][0]                  \n",
      "                                                                 reshape_7[0][0]                  \n",
      "__________________________________________________________________________________________________\n",
      "dense_3 (Dense)                 (None, 1)            2           dot_3[0][0]                      \n",
      "==================================================================================================\n",
      "Total params: 77,752\n",
      "Trainable params: 77,752\n",
      "Non-trainable params: 0\n",
      "__________________________________________________________________________________________________\n",
      "MF trained\n",
      "Model: \"model_4\"\n",
      "__________________________________________________________________________________________________\n",
      "Layer (type)                    Output Shape         Param #     Connected to                     \n",
      "==================================================================================================\n",
      "input_10 (InputLayer)           [(None, 1)]          0                                            \n",
      "__________________________________________________________________________________________________\n",
      "input_11 (InputLayer)           [(None, 1)]          0                                            \n",
      "__________________________________________________________________________________________________\n",
      "embedding_9 (Embedding)         (None, 1, 5)         77000       input_10[0][0]                   \n",
      "__________________________________________________________________________________________________\n",
      "embedding_10 (Embedding)        (None, 1, 5)         750         input_11[0][0]                   \n",
      "__________________________________________________________________________________________________\n",
      "reshape_8 (Reshape)             (None, 5)            0           embedding_9[0][0]                \n",
      "__________________________________________________________________________________________________\n",
      "reshape_9 (Reshape)             (None, 5)            0           embedding_10[0][0]               \n",
      "__________________________________________________________________________________________________\n",
      "dot_4 (Dot)                     (None, 1)            0           reshape_8[0][0]                  \n",
      "                                                                 reshape_9[0][0]                  \n",
      "__________________________________________________________________________________________________\n",
      "dense_4 (Dense)                 (None, 1)            2           dot_4[0][0]                      \n",
      "==================================================================================================\n",
      "Total params: 77,752\n",
      "Trainable params: 77,752\n",
      "Non-trainable params: 0\n",
      "__________________________________________________________________________________________________\n",
      "MF-IPS trained\n",
      "expoMF trained\n",
      "Kurtosis-Expomf 36.989582\n",
      "Kurtosis-mf 20.757217\n",
      "Kurtosis-mf IPS 10.711196\n",
      "kl-Expomf 0.824764\n",
      "KL-mf 0.957362\n",
      "KL-mf IPS 1.233870\n",
      "Model: \"model_5\"\n",
      "__________________________________________________________________________________________________\n",
      "Layer (type)                    Output Shape         Param #     Connected to                     \n",
      "==================================================================================================\n",
      "input_12 (InputLayer)           [(None, 1)]          0                                            \n",
      "__________________________________________________________________________________________________\n",
      "input_13 (InputLayer)           [(None, 1)]          0                                            \n",
      "__________________________________________________________________________________________________\n",
      "embedding_11 (Embedding)        (None, 1, 5)         77000       input_12[0][0]                   \n",
      "__________________________________________________________________________________________________\n",
      "embedding_12 (Embedding)        (None, 1, 5)         750         input_13[0][0]                   \n",
      "__________________________________________________________________________________________________\n",
      "reshape_10 (Reshape)            (None, 5)            0           embedding_11[0][0]               \n",
      "__________________________________________________________________________________________________\n",
      "reshape_11 (Reshape)            (None, 5)            0           embedding_12[0][0]               \n",
      "__________________________________________________________________________________________________\n",
      "dot_5 (Dot)                     (None, 1)            0           reshape_10[0][0]                 \n",
      "                                                                 reshape_11[0][0]                 \n",
      "__________________________________________________________________________________________________\n",
      "dense_5 (Dense)                 (None, 1)            2           dot_5[0][0]                      \n",
      "==================================================================================================\n",
      "Total params: 77,752\n",
      "Trainable params: 77,752\n",
      "Non-trainable params: 0\n",
      "__________________________________________________________________________________________________\n",
      "MF trained\n",
      "Model: \"model_6\"\n",
      "__________________________________________________________________________________________________\n",
      "Layer (type)                    Output Shape         Param #     Connected to                     \n",
      "==================================================================================================\n",
      "input_14 (InputLayer)           [(None, 1)]          0                                            \n",
      "__________________________________________________________________________________________________\n",
      "input_15 (InputLayer)           [(None, 1)]          0                                            \n",
      "__________________________________________________________________________________________________\n",
      "embedding_13 (Embedding)        (None, 1, 5)         77000       input_14[0][0]                   \n",
      "__________________________________________________________________________________________________\n",
      "embedding_14 (Embedding)        (None, 1, 5)         750         input_15[0][0]                   \n",
      "__________________________________________________________________________________________________\n",
      "reshape_12 (Reshape)            (None, 5)            0           embedding_13[0][0]               \n",
      "__________________________________________________________________________________________________\n",
      "reshape_13 (Reshape)            (None, 5)            0           embedding_14[0][0]               \n",
      "__________________________________________________________________________________________________\n",
      "dot_6 (Dot)                     (None, 1)            0           reshape_12[0][0]                 \n",
      "                                                                 reshape_13[0][0]                 \n",
      "__________________________________________________________________________________________________\n",
      "dense_6 (Dense)                 (None, 1)            2           dot_6[0][0]                      \n",
      "==================================================================================================\n",
      "Total params: 77,752\n",
      "Trainable params: 77,752\n",
      "Non-trainable params: 0\n",
      "__________________________________________________________________________________________________\n"
     ]
    },
    {
     "name": "stdout",
     "output_type": "stream",
     "text": [
      "MF-IPS trained\n",
      "expoMF trained\n",
      "Kurtosis-Expomf 62.909689\n",
      "Kurtosis-mf 33.461535\n",
      "Kurtosis-mf IPS 26.658448\n",
      "kl-Expomf 1.910567\n",
      "KL-mf 1.947596\n",
      "KL-mf IPS 2.505435\n",
      "Model: \"model_7\"\n",
      "__________________________________________________________________________________________________\n",
      "Layer (type)                    Output Shape         Param #     Connected to                     \n",
      "==================================================================================================\n",
      "input_16 (InputLayer)           [(None, 1)]          0                                            \n",
      "__________________________________________________________________________________________________\n",
      "input_17 (InputLayer)           [(None, 1)]          0                                            \n",
      "__________________________________________________________________________________________________\n",
      "embedding_15 (Embedding)        (None, 1, 5)         77000       input_16[0][0]                   \n",
      "__________________________________________________________________________________________________\n",
      "embedding_16 (Embedding)        (None, 1, 5)         750         input_17[0][0]                   \n",
      "__________________________________________________________________________________________________\n",
      "reshape_14 (Reshape)            (None, 5)            0           embedding_15[0][0]               \n",
      "__________________________________________________________________________________________________\n",
      "reshape_15 (Reshape)            (None, 5)            0           embedding_16[0][0]               \n",
      "__________________________________________________________________________________________________\n",
      "dot_7 (Dot)                     (None, 1)            0           reshape_14[0][0]                 \n",
      "                                                                 reshape_15[0][0]                 \n",
      "__________________________________________________________________________________________________\n",
      "dense_7 (Dense)                 (None, 1)            2           dot_7[0][0]                      \n",
      "==================================================================================================\n",
      "Total params: 77,752\n",
      "Trainable params: 77,752\n",
      "Non-trainable params: 0\n",
      "__________________________________________________________________________________________________\n",
      "MF trained\n",
      "Model: \"model_8\"\n",
      "__________________________________________________________________________________________________\n",
      "Layer (type)                    Output Shape         Param #     Connected to                     \n",
      "==================================================================================================\n",
      "input_18 (InputLayer)           [(None, 1)]          0                                            \n",
      "__________________________________________________________________________________________________\n",
      "input_19 (InputLayer)           [(None, 1)]          0                                            \n",
      "__________________________________________________________________________________________________\n",
      "embedding_17 (Embedding)        (None, 1, 5)         77000       input_18[0][0]                   \n",
      "__________________________________________________________________________________________________\n",
      "embedding_18 (Embedding)        (None, 1, 5)         750         input_19[0][0]                   \n",
      "__________________________________________________________________________________________________\n",
      "reshape_16 (Reshape)            (None, 5)            0           embedding_17[0][0]               \n",
      "__________________________________________________________________________________________________\n",
      "reshape_17 (Reshape)            (None, 5)            0           embedding_18[0][0]               \n",
      "__________________________________________________________________________________________________\n",
      "dot_8 (Dot)                     (None, 1)            0           reshape_16[0][0]                 \n",
      "                                                                 reshape_17[0][0]                 \n",
      "__________________________________________________________________________________________________\n",
      "dense_8 (Dense)                 (None, 1)            2           dot_8[0][0]                      \n",
      "==================================================================================================\n",
      "Total params: 77,752\n",
      "Trainable params: 77,752\n",
      "Non-trainable params: 0\n",
      "__________________________________________________________________________________________________\n",
      "MF-IPS trained\n",
      "expoMF trained\n",
      "Kurtosis-Expomf 72.050574\n",
      "Kurtosis-mf 65.650288\n",
      "Kurtosis-mf IPS 38.244889\n",
      "kl-Expomf 2.743394\n",
      "KL-mf 3.050316\n",
      "KL-mf IPS 3.771719\n",
      "Model: \"model_9\"\n",
      "__________________________________________________________________________________________________\n",
      "Layer (type)                    Output Shape         Param #     Connected to                     \n",
      "==================================================================================================\n",
      "input_20 (InputLayer)           [(None, 1)]          0                                            \n",
      "__________________________________________________________________________________________________\n",
      "input_21 (InputLayer)           [(None, 1)]          0                                            \n",
      "__________________________________________________________________________________________________\n",
      "embedding_19 (Embedding)        (None, 1, 5)         77000       input_20[0][0]                   \n",
      "__________________________________________________________________________________________________\n",
      "embedding_20 (Embedding)        (None, 1, 5)         750         input_21[0][0]                   \n",
      "__________________________________________________________________________________________________\n",
      "reshape_18 (Reshape)            (None, 5)            0           embedding_19[0][0]               \n",
      "__________________________________________________________________________________________________\n",
      "reshape_19 (Reshape)            (None, 5)            0           embedding_20[0][0]               \n",
      "__________________________________________________________________________________________________\n",
      "dot_9 (Dot)                     (None, 1)            0           reshape_18[0][0]                 \n",
      "                                                                 reshape_19[0][0]                 \n",
      "__________________________________________________________________________________________________\n",
      "dense_9 (Dense)                 (None, 1)            2           dot_9[0][0]                      \n",
      "==================================================================================================\n",
      "Total params: 77,752\n",
      "Trainable params: 77,752\n",
      "Non-trainable params: 0\n",
      "__________________________________________________________________________________________________\n",
      "MF trained\n",
      "Model: \"model_10\"\n",
      "__________________________________________________________________________________________________\n",
      "Layer (type)                    Output Shape         Param #     Connected to                     \n",
      "==================================================================================================\n",
      "input_22 (InputLayer)           [(None, 1)]          0                                            \n",
      "__________________________________________________________________________________________________\n",
      "input_23 (InputLayer)           [(None, 1)]          0                                            \n",
      "__________________________________________________________________________________________________\n",
      "embedding_21 (Embedding)        (None, 1, 5)         77000       input_22[0][0]                   \n",
      "__________________________________________________________________________________________________\n",
      "embedding_22 (Embedding)        (None, 1, 5)         750         input_23[0][0]                   \n",
      "__________________________________________________________________________________________________\n",
      "reshape_20 (Reshape)            (None, 5)            0           embedding_21[0][0]               \n",
      "__________________________________________________________________________________________________\n",
      "reshape_21 (Reshape)            (None, 5)            0           embedding_22[0][0]               \n",
      "__________________________________________________________________________________________________\n",
      "dot_10 (Dot)                    (None, 1)            0           reshape_20[0][0]                 \n",
      "                                                                 reshape_21[0][0]                 \n",
      "__________________________________________________________________________________________________\n",
      "dense_10 (Dense)                (None, 1)            2           dot_10[0][0]                     \n",
      "==================================================================================================\n",
      "Total params: 77,752\n",
      "Trainable params: 77,752\n",
      "Non-trainable params: 0\n",
      "__________________________________________________________________________________________________\n"
     ]
    },
    {
     "name": "stdout",
     "output_type": "stream",
     "text": [
      "MF-IPS trained\n",
      "expoMF trained\n",
      "Kurtosis-Expomf 92.290703\n",
      "Kurtosis-mf 100.826516\n",
      "Kurtosis-mf IPS 48.987686\n",
      "kl-Expomf 3.753697\n",
      "KL-mf 4.126713\n",
      "KL-mf IPS 4.867712\n",
      "Model: \"model_11\"\n",
      "__________________________________________________________________________________________________\n",
      "Layer (type)                    Output Shape         Param #     Connected to                     \n",
      "==================================================================================================\n",
      "input_24 (InputLayer)           [(None, 1)]          0                                            \n",
      "__________________________________________________________________________________________________\n",
      "input_25 (InputLayer)           [(None, 1)]          0                                            \n",
      "__________________________________________________________________________________________________\n",
      "embedding_23 (Embedding)        (None, 1, 5)         77000       input_24[0][0]                   \n",
      "__________________________________________________________________________________________________\n",
      "embedding_24 (Embedding)        (None, 1, 5)         750         input_25[0][0]                   \n",
      "__________________________________________________________________________________________________\n",
      "reshape_22 (Reshape)            (None, 5)            0           embedding_23[0][0]               \n",
      "__________________________________________________________________________________________________\n",
      "reshape_23 (Reshape)            (None, 5)            0           embedding_24[0][0]               \n",
      "__________________________________________________________________________________________________\n",
      "dot_11 (Dot)                    (None, 1)            0           reshape_22[0][0]                 \n",
      "                                                                 reshape_23[0][0]                 \n",
      "__________________________________________________________________________________________________\n",
      "dense_11 (Dense)                (None, 1)            2           dot_11[0][0]                     \n",
      "==================================================================================================\n",
      "Total params: 77,752\n",
      "Trainable params: 77,752\n",
      "Non-trainable params: 0\n",
      "__________________________________________________________________________________________________\n",
      "MF trained\n",
      "Model: \"model_12\"\n",
      "__________________________________________________________________________________________________\n",
      "Layer (type)                    Output Shape         Param #     Connected to                     \n",
      "==================================================================================================\n",
      "input_26 (InputLayer)           [(None, 1)]          0                                            \n",
      "__________________________________________________________________________________________________\n",
      "input_27 (InputLayer)           [(None, 1)]          0                                            \n",
      "__________________________________________________________________________________________________\n",
      "embedding_25 (Embedding)        (None, 1, 5)         77000       input_26[0][0]                   \n",
      "__________________________________________________________________________________________________\n",
      "embedding_26 (Embedding)        (None, 1, 5)         750         input_27[0][0]                   \n",
      "__________________________________________________________________________________________________\n",
      "reshape_24 (Reshape)            (None, 5)            0           embedding_25[0][0]               \n",
      "__________________________________________________________________________________________________\n",
      "reshape_25 (Reshape)            (None, 5)            0           embedding_26[0][0]               \n",
      "__________________________________________________________________________________________________\n",
      "dot_12 (Dot)                    (None, 1)            0           reshape_24[0][0]                 \n",
      "                                                                 reshape_25[0][0]                 \n",
      "__________________________________________________________________________________________________\n",
      "dense_12 (Dense)                (None, 1)            2           dot_12[0][0]                     \n",
      "==================================================================================================\n",
      "Total params: 77,752\n",
      "Trainable params: 77,752\n",
      "Non-trainable params: 0\n",
      "__________________________________________________________________________________________________\n",
      "MF-IPS trained\n",
      "expoMF trained\n",
      "Kurtosis-Expomf 104.554604\n",
      "Kurtosis-mf 123.803957\n",
      "Kurtosis-mf IPS 58.716785\n",
      "kl-Expomf 4.750539\n",
      "KL-mf 5.237500\n",
      "KL-mf IPS 6.026100\n",
      "Model: \"model_13\"\n",
      "__________________________________________________________________________________________________\n",
      "Layer (type)                    Output Shape         Param #     Connected to                     \n",
      "==================================================================================================\n",
      "input_28 (InputLayer)           [(None, 1)]          0                                            \n",
      "__________________________________________________________________________________________________\n",
      "input_29 (InputLayer)           [(None, 1)]          0                                            \n",
      "__________________________________________________________________________________________________\n",
      "embedding_27 (Embedding)        (None, 1, 5)         77000       input_28[0][0]                   \n",
      "__________________________________________________________________________________________________\n",
      "embedding_28 (Embedding)        (None, 1, 5)         750         input_29[0][0]                   \n",
      "__________________________________________________________________________________________________\n",
      "reshape_26 (Reshape)            (None, 5)            0           embedding_27[0][0]               \n",
      "__________________________________________________________________________________________________\n",
      "reshape_27 (Reshape)            (None, 5)            0           embedding_28[0][0]               \n",
      "__________________________________________________________________________________________________\n",
      "dot_13 (Dot)                    (None, 1)            0           reshape_26[0][0]                 \n",
      "                                                                 reshape_27[0][0]                 \n",
      "__________________________________________________________________________________________________\n",
      "dense_13 (Dense)                (None, 1)            2           dot_13[0][0]                     \n",
      "==================================================================================================\n",
      "Total params: 77,752\n",
      "Trainable params: 77,752\n",
      "Non-trainable params: 0\n",
      "__________________________________________________________________________________________________\n",
      "MF trained\n",
      "Model: \"model_14\"\n",
      "__________________________________________________________________________________________________\n",
      "Layer (type)                    Output Shape         Param #     Connected to                     \n",
      "==================================================================================================\n",
      "input_30 (InputLayer)           [(None, 1)]          0                                            \n",
      "__________________________________________________________________________________________________\n",
      "input_31 (InputLayer)           [(None, 1)]          0                                            \n",
      "__________________________________________________________________________________________________\n",
      "embedding_29 (Embedding)        (None, 1, 5)         77000       input_30[0][0]                   \n",
      "__________________________________________________________________________________________________\n",
      "embedding_30 (Embedding)        (None, 1, 5)         750         input_31[0][0]                   \n",
      "__________________________________________________________________________________________________\n",
      "reshape_28 (Reshape)            (None, 5)            0           embedding_29[0][0]               \n",
      "__________________________________________________________________________________________________\n",
      "reshape_29 (Reshape)            (None, 5)            0           embedding_30[0][0]               \n",
      "__________________________________________________________________________________________________\n",
      "dot_14 (Dot)                    (None, 1)            0           reshape_28[0][0]                 \n",
      "                                                                 reshape_29[0][0]                 \n",
      "__________________________________________________________________________________________________\n",
      "dense_14 (Dense)                (None, 1)            2           dot_14[0][0]                     \n",
      "==================================================================================================\n",
      "Total params: 77,752\n",
      "Trainable params: 77,752\n",
      "Non-trainable params: 0\n",
      "__________________________________________________________________________________________________\n"
     ]
    },
    {
     "name": "stdout",
     "output_type": "stream",
     "text": [
      "MF-IPS trained\n",
      "expoMF trained\n",
      "Kurtosis-Expomf 111.132336\n",
      "Kurtosis-mf 146.961998\n",
      "Kurtosis-mf IPS 68.556909\n",
      "kl-Expomf 5.821991\n",
      "KL-mf 6.209306\n",
      "KL-mf IPS 7.251119\n",
      "Model: \"model_15\"\n",
      "__________________________________________________________________________________________________\n",
      "Layer (type)                    Output Shape         Param #     Connected to                     \n",
      "==================================================================================================\n",
      "input_32 (InputLayer)           [(None, 1)]          0                                            \n",
      "__________________________________________________________________________________________________\n",
      "input_33 (InputLayer)           [(None, 1)]          0                                            \n",
      "__________________________________________________________________________________________________\n",
      "embedding_31 (Embedding)        (None, 1, 5)         77000       input_32[0][0]                   \n",
      "__________________________________________________________________________________________________\n",
      "embedding_32 (Embedding)        (None, 1, 5)         750         input_33[0][0]                   \n",
      "__________________________________________________________________________________________________\n",
      "reshape_30 (Reshape)            (None, 5)            0           embedding_31[0][0]               \n",
      "__________________________________________________________________________________________________\n",
      "reshape_31 (Reshape)            (None, 5)            0           embedding_32[0][0]               \n",
      "__________________________________________________________________________________________________\n",
      "dot_15 (Dot)                    (None, 1)            0           reshape_30[0][0]                 \n",
      "                                                                 reshape_31[0][0]                 \n",
      "__________________________________________________________________________________________________\n",
      "dense_15 (Dense)                (None, 1)            2           dot_15[0][0]                     \n",
      "==================================================================================================\n",
      "Total params: 77,752\n",
      "Trainable params: 77,752\n",
      "Non-trainable params: 0\n",
      "__________________________________________________________________________________________________\n",
      "MF trained\n",
      "Model: \"model_16\"\n",
      "__________________________________________________________________________________________________\n",
      "Layer (type)                    Output Shape         Param #     Connected to                     \n",
      "==================================================================================================\n",
      "input_34 (InputLayer)           [(None, 1)]          0                                            \n",
      "__________________________________________________________________________________________________\n",
      "input_35 (InputLayer)           [(None, 1)]          0                                            \n",
      "__________________________________________________________________________________________________\n",
      "embedding_33 (Embedding)        (None, 1, 5)         77000       input_34[0][0]                   \n",
      "__________________________________________________________________________________________________\n",
      "embedding_34 (Embedding)        (None, 1, 5)         750         input_35[0][0]                   \n",
      "__________________________________________________________________________________________________\n",
      "reshape_32 (Reshape)            (None, 5)            0           embedding_33[0][0]               \n",
      "__________________________________________________________________________________________________\n",
      "reshape_33 (Reshape)            (None, 5)            0           embedding_34[0][0]               \n",
      "__________________________________________________________________________________________________\n",
      "dot_16 (Dot)                    (None, 1)            0           reshape_32[0][0]                 \n",
      "                                                                 reshape_33[0][0]                 \n",
      "__________________________________________________________________________________________________\n",
      "dense_16 (Dense)                (None, 1)            2           dot_16[0][0]                     \n",
      "==================================================================================================\n",
      "Total params: 77,752\n",
      "Trainable params: 77,752\n",
      "Non-trainable params: 0\n",
      "__________________________________________________________________________________________________\n",
      "MF-IPS trained\n",
      "expoMF trained\n",
      "Kurtosis-Expomf 136.218623\n",
      "Kurtosis-mf 174.087720\n",
      "Kurtosis-mf IPS 82.569658\n",
      "kl-Expomf 6.820240\n",
      "KL-mf 7.086528\n",
      "KL-mf IPS 8.648586\n",
      "Model: \"model_17\"\n",
      "__________________________________________________________________________________________________\n",
      "Layer (type)                    Output Shape         Param #     Connected to                     \n",
      "==================================================================================================\n",
      "input_36 (InputLayer)           [(None, 1)]          0                                            \n",
      "__________________________________________________________________________________________________\n",
      "input_37 (InputLayer)           [(None, 1)]          0                                            \n",
      "__________________________________________________________________________________________________\n",
      "embedding_35 (Embedding)        (None, 1, 5)         77000       input_36[0][0]                   \n",
      "__________________________________________________________________________________________________\n",
      "embedding_36 (Embedding)        (None, 1, 5)         750         input_37[0][0]                   \n",
      "__________________________________________________________________________________________________\n",
      "reshape_34 (Reshape)            (None, 5)            0           embedding_35[0][0]               \n",
      "__________________________________________________________________________________________________\n",
      "reshape_35 (Reshape)            (None, 5)            0           embedding_36[0][0]               \n",
      "__________________________________________________________________________________________________\n",
      "dot_17 (Dot)                    (None, 1)            0           reshape_34[0][0]                 \n",
      "                                                                 reshape_35[0][0]                 \n",
      "__________________________________________________________________________________________________\n",
      "dense_17 (Dense)                (None, 1)            2           dot_17[0][0]                     \n",
      "==================================================================================================\n",
      "Total params: 77,752\n",
      "Trainable params: 77,752\n",
      "Non-trainable params: 0\n",
      "__________________________________________________________________________________________________\n",
      "MF trained\n",
      "Model: \"model_18\"\n",
      "__________________________________________________________________________________________________\n",
      "Layer (type)                    Output Shape         Param #     Connected to                     \n",
      "==================================================================================================\n",
      "input_38 (InputLayer)           [(None, 1)]          0                                            \n",
      "__________________________________________________________________________________________________\n",
      "input_39 (InputLayer)           [(None, 1)]          0                                            \n",
      "__________________________________________________________________________________________________\n",
      "embedding_37 (Embedding)        (None, 1, 5)         77000       input_38[0][0]                   \n",
      "__________________________________________________________________________________________________\n",
      "embedding_38 (Embedding)        (None, 1, 5)         750         input_39[0][0]                   \n",
      "__________________________________________________________________________________________________\n",
      "reshape_36 (Reshape)            (None, 5)            0           embedding_37[0][0]               \n",
      "__________________________________________________________________________________________________\n",
      "reshape_37 (Reshape)            (None, 5)            0           embedding_38[0][0]               \n",
      "__________________________________________________________________________________________________\n",
      "dot_18 (Dot)                    (None, 1)            0           reshape_36[0][0]                 \n",
      "                                                                 reshape_37[0][0]                 \n",
      "__________________________________________________________________________________________________\n",
      "dense_18 (Dense)                (None, 1)            2           dot_18[0][0]                     \n",
      "==================================================================================================\n",
      "Total params: 77,752\n",
      "Trainable params: 77,752\n",
      "Non-trainable params: 0\n",
      "__________________________________________________________________________________________________\n"
     ]
    },
    {
     "name": "stdout",
     "output_type": "stream",
     "text": [
      "MF-IPS trained\n",
      "expoMF trained\n",
      "Kurtosis-Expomf 155.508229\n",
      "Kurtosis-mf 196.705742\n",
      "Kurtosis-mf IPS 93.895801\n",
      "kl-Expomf 7.673480\n",
      "KL-mf 8.112213\n",
      "KL-mf IPS 9.726076\n",
      "Model: \"model_19\"\n",
      "__________________________________________________________________________________________________\n",
      "Layer (type)                    Output Shape         Param #     Connected to                     \n",
      "==================================================================================================\n",
      "input_40 (InputLayer)           [(None, 1)]          0                                            \n",
      "__________________________________________________________________________________________________\n",
      "input_41 (InputLayer)           [(None, 1)]          0                                            \n",
      "__________________________________________________________________________________________________\n",
      "embedding_39 (Embedding)        (None, 1, 5)         77000       input_40[0][0]                   \n",
      "__________________________________________________________________________________________________\n",
      "embedding_40 (Embedding)        (None, 1, 5)         750         input_41[0][0]                   \n",
      "__________________________________________________________________________________________________\n",
      "reshape_38 (Reshape)            (None, 5)            0           embedding_39[0][0]               \n",
      "__________________________________________________________________________________________________\n",
      "reshape_39 (Reshape)            (None, 5)            0           embedding_40[0][0]               \n",
      "__________________________________________________________________________________________________\n",
      "dot_19 (Dot)                    (None, 1)            0           reshape_38[0][0]                 \n",
      "                                                                 reshape_39[0][0]                 \n",
      "__________________________________________________________________________________________________\n",
      "dense_19 (Dense)                (None, 1)            2           dot_19[0][0]                     \n",
      "==================================================================================================\n",
      "Total params: 77,752\n",
      "Trainable params: 77,752\n",
      "Non-trainable params: 0\n",
      "__________________________________________________________________________________________________\n",
      "MF trained\n",
      "Model: \"model_20\"\n",
      "__________________________________________________________________________________________________\n",
      "Layer (type)                    Output Shape         Param #     Connected to                     \n",
      "==================================================================================================\n",
      "input_42 (InputLayer)           [(None, 1)]          0                                            \n",
      "__________________________________________________________________________________________________\n",
      "input_43 (InputLayer)           [(None, 1)]          0                                            \n",
      "__________________________________________________________________________________________________\n",
      "embedding_41 (Embedding)        (None, 1, 5)         77000       input_42[0][0]                   \n",
      "__________________________________________________________________________________________________\n",
      "embedding_42 (Embedding)        (None, 1, 5)         750         input_43[0][0]                   \n",
      "__________________________________________________________________________________________________\n",
      "reshape_40 (Reshape)            (None, 5)            0           embedding_41[0][0]               \n",
      "__________________________________________________________________________________________________\n",
      "reshape_41 (Reshape)            (None, 5)            0           embedding_42[0][0]               \n",
      "__________________________________________________________________________________________________\n",
      "dot_20 (Dot)                    (None, 1)            0           reshape_40[0][0]                 \n",
      "                                                                 reshape_41[0][0]                 \n",
      "__________________________________________________________________________________________________\n",
      "dense_20 (Dense)                (None, 1)            2           dot_20[0][0]                     \n",
      "==================================================================================================\n",
      "Total params: 77,752\n",
      "Trainable params: 77,752\n",
      "Non-trainable params: 0\n",
      "__________________________________________________________________________________________________\n",
      "MF-IPS trained\n",
      "expoMF trained\n",
      "Kurtosis-Expomf 160.486354\n",
      "Kurtosis-mf 228.671765\n",
      "Kurtosis-mf IPS 107.134493\n",
      "kl-Expomf 8.550149\n",
      "KL-mf 9.158640\n",
      "KL-mf IPS 11.040708\n",
      "Model: \"model_21\"\n",
      "__________________________________________________________________________________________________\n",
      "Layer (type)                    Output Shape         Param #     Connected to                     \n",
      "==================================================================================================\n",
      "input_44 (InputLayer)           [(None, 1)]          0                                            \n",
      "__________________________________________________________________________________________________\n",
      "input_45 (InputLayer)           [(None, 1)]          0                                            \n",
      "__________________________________________________________________________________________________\n",
      "embedding_43 (Embedding)        (None, 1, 5)         77000       input_44[0][0]                   \n",
      "__________________________________________________________________________________________________\n",
      "embedding_44 (Embedding)        (None, 1, 5)         750         input_45[0][0]                   \n",
      "__________________________________________________________________________________________________\n",
      "reshape_42 (Reshape)            (None, 5)            0           embedding_43[0][0]               \n",
      "__________________________________________________________________________________________________\n",
      "reshape_43 (Reshape)            (None, 5)            0           embedding_44[0][0]               \n",
      "__________________________________________________________________________________________________\n",
      "dot_21 (Dot)                    (None, 1)            0           reshape_42[0][0]                 \n",
      "                                                                 reshape_43[0][0]                 \n",
      "__________________________________________________________________________________________________\n",
      "dense_21 (Dense)                (None, 1)            2           dot_21[0][0]                     \n",
      "==================================================================================================\n",
      "Total params: 77,752\n",
      "Trainable params: 77,752\n",
      "Non-trainable params: 0\n",
      "__________________________________________________________________________________________________\n",
      "MF trained\n",
      "Model: \"model_22\"\n",
      "__________________________________________________________________________________________________\n",
      "Layer (type)                    Output Shape         Param #     Connected to                     \n",
      "==================================================================================================\n",
      "input_46 (InputLayer)           [(None, 1)]          0                                            \n",
      "__________________________________________________________________________________________________\n",
      "input_47 (InputLayer)           [(None, 1)]          0                                            \n",
      "__________________________________________________________________________________________________\n",
      "embedding_45 (Embedding)        (None, 1, 5)         77000       input_46[0][0]                   \n",
      "__________________________________________________________________________________________________\n",
      "embedding_46 (Embedding)        (None, 1, 5)         750         input_47[0][0]                   \n",
      "__________________________________________________________________________________________________\n",
      "reshape_44 (Reshape)            (None, 5)            0           embedding_45[0][0]               \n",
      "__________________________________________________________________________________________________\n",
      "reshape_45 (Reshape)            (None, 5)            0           embedding_46[0][0]               \n",
      "__________________________________________________________________________________________________\n",
      "dot_22 (Dot)                    (None, 1)            0           reshape_44[0][0]                 \n",
      "                                                                 reshape_45[0][0]                 \n",
      "__________________________________________________________________________________________________\n",
      "dense_22 (Dense)                (None, 1)            2           dot_22[0][0]                     \n",
      "==================================================================================================\n",
      "Total params: 77,752\n",
      "Trainable params: 77,752\n",
      "Non-trainable params: 0\n",
      "__________________________________________________________________________________________________\n"
     ]
    },
    {
     "name": "stdout",
     "output_type": "stream",
     "text": [
      "MF-IPS trained\n",
      "expoMF trained\n",
      "Kurtosis-Expomf 183.448952\n",
      "Kurtosis-mf 251.263856\n",
      "Kurtosis-mf IPS 121.927596\n",
      "kl-Expomf 9.561956\n",
      "KL-mf 10.063884\n",
      "KL-mf IPS 12.341908\n"
     ]
    }
   ],
   "source": [
    "import pdb\n",
    "X_test = [test_ua_df[['uid', 'pid']].values[:, 0], test_ua_df[['uid', 'pid']].values[:, 1]]\n",
    "y_gt = test_ua_df['rating'].values\n",
    "# train MF plain model\n",
    "per_dict = {}\n",
    "per_dict_ips = {}\n",
    "print(\"Starting cross-val hyper-param tuning\")\n",
    "#for ulf_dim in ulf_range:\n",
    "#for ilf_dim in ilf_range:\n",
    "#for reg_param in reg_param_range:\n",
    "#ulf_dim = args.user_lf\n",
    "#reg_param = args.reg_param\n",
    "\n",
    "maes_mf, mses_mf, maes_mfips, mses_mfips, maes_expomf, mses_expomf = [], [], [], [], [], []\n",
    "ndcgs_mf, ndcgs_mfips, ndcgs_expomf = [], [], []\n",
    "\n",
    "logging.info('Starting final %d runs for COAT data to get models performance metric'%(config['runs']))\n",
    "runs = 10\n",
    "kurtosis_mf = 0.0\n",
    "kurtosis_mfips = 0.0\n",
    "kurtosis_expomf = 0.0\n",
    "kl_mf = 0.0\n",
    "kl_mfips = 0.0\n",
    "kl_expomf = 0.0\n",
    "\n",
    "for run in range(runs):\n",
    "    history_mf = train_mf(train_ua_df, test_ua_df, prop_ua_df, \\\n",
    "                ulf_dim=lf_dim_best_mf, ilf_dim=lf_dim_best_mf, reg_param=reg_param_best_mf, \\\n",
    "                ips=0, config=config)\n",
    "    print(\"MF trained\")\n",
    "    history_mfips = train_mf(train_ua_df, test_ua_df, prop_ua_df, \\\n",
    "                    ulf_dim=lf_dim_best_mfips, ilf_dim=lf_dim_best_mfips, reg_param=reg_param_best_mfips, \\\n",
    "                        ips=1, config=config)\n",
    "    print(\"MF-IPS trained\")\n",
    "    history_expomf = train_expoMF(train_ua_df, test_ua_df,  \\\n",
    "                    ulf_dim=lf_dim_best_expomf, reg_param=reg_param_best_expomf, \\\n",
    "                        ips=1, config=config, logging=logging)\n",
    "    print(\"expoMF trained\")\n",
    "    user_topic_scores = (history_mf.model.get_weights()[2] * (history_mf.model.get_weights()[0] @ history_mf.model.get_weights()[1].T) + history_mf.model.get_weights()[3] )\n",
    "    user_topic_scores_expomf = (history_expomf.theta @ history_expomf.beta.T) \n",
    "    user_topic_scores_ips = (history_mfips.model.get_weights()[2] * (history_mfips.model.get_weights()[0] @ history_mfips.model.get_weights()[1].T) + history_mfips.model.get_weights()[3] )\n",
    "    \n",
    "    count_mf = Counter((user_topic_scores).argmax(axis=1).flatten())\n",
    "    count_mf = {k: v for k, v in sorted(count_mf.items(), key=lambda item: item[1])}\n",
    "    count_mf = np.array(list(count_mf.values()))/ sum(count_mf.values())\n",
    "    unif_mf = [1/float(len(count_mf))] * len(count_mf)\n",
    "    #pdb.set_trace()\n",
    "    kl_mf += sum(kl_div(count_mf, unif_mf))\n",
    "    \n",
    "    count_mfips = Counter((user_topic_scores_ips).argmax(axis=1).flatten())\n",
    "    count_mfips = {k: v for k, v in sorted(count_mfips.items(), key=lambda item: item[1])}\n",
    "    count_mfips = np.array(list(count_mfips.values()))/ sum(count_mfips.values())\n",
    "    unif_mfips = [1/float(len(count_mfips))] * len(count_mfips)\n",
    "    #pdb.set_trace()\n",
    "    kl_mfips += sum(kl_div(count_mfips, unif_mfips))\n",
    "    \n",
    "    count_expomf = Counter((user_topic_scores_expomf).argmax(axis=1).flatten())\n",
    "    count_expomf = {k: v for k, v in sorted(count_expomf.items(), key=lambda item: item[1])}\n",
    "    count_expomf = np.array(list(count_expomf.values()))/ sum(count_expomf.values())\n",
    "    unif_expomf = [1/float(len(count_expomf))] * len(count_expomf)\n",
    "    #pdb.set_trace()\n",
    "    kl_expomf += sum(kl_div(count_expomf, unif_expomf))\n",
    "    \n",
    "    \n",
    "    kurtosis_mfips += kurtosis(list(Counter((user_topic_scores_ips).argmax(axis=1).flatten()).values()))\n",
    "    kurtosis_mf += kurtosis(list(Counter((user_topic_scores+1).argmax(axis=1).flatten()).values()))\n",
    "    kurtosis_expomf += kurtosis(list(Counter((user_topic_scores_expomf).argmax(axis=1).flatten()).values()))\n",
    "\n",
    "    print(\"Kurtosis-Expomf %f\"%(kurtosis_expomf))\n",
    "    print(\"Kurtosis-mf %f\"%(kurtosis_mf))\n",
    "    print(\"Kurtosis-mf IPS %f\"%(kurtosis_mfips))\n",
    "    \n",
    "    print(\"kl-Expomf %f\"%(kl_expomf))\n",
    "    print(\"KL-mf %f\"%(kl_mf))\n",
    "    print(\"KL-mf IPS %f\"%(kl_mfips))"
   ]
  },
  {
   "cell_type": "code",
   "execution_count": 35,
   "id": "3264200b",
   "metadata": {},
   "outputs": [
    {
     "data": {
      "text/plain": [
       "-1.5"
      ]
     },
     "execution_count": 35,
     "metadata": {},
     "output_type": "execute_result"
    }
   ],
   "source": [
    "kurtosis([3,1,2])"
   ]
  },
  {
   "cell_type": "code",
   "execution_count": 36,
   "id": "6ea5f056",
   "metadata": {},
   "outputs": [
    {
     "name": "stdout",
     "output_type": "stream",
     "text": [
      "Kurtosis-Expomf 18.344895\n",
      "Kurtosis-mf 25.126386\n",
      "Kurtosis-mf IPS 12.192760\n"
     ]
    }
   ],
   "source": [
    "print(\"Kurtosis-Expomf %f\"%(kurtosis_expomf/10))\n",
    "print(\"Kurtosis-mf %f\"%(kurtosis_mf/10))\n",
    "print(\"Kurtosis-mf IPS %f\"%(kurtosis_mfips/10))"
   ]
  },
  {
   "cell_type": "code",
   "execution_count": 37,
   "id": "9b190748",
   "metadata": {},
   "outputs": [
    {
     "name": "stdout",
     "output_type": "stream",
     "text": [
      "kl-Expomf 0.956196\n",
      "KL-mf 1.006388\n",
      "KL-mf IPS 1.234191\n"
     ]
    }
   ],
   "source": [
    "print(\"kl-Expomf %f\"%(kl_expomf/10))\n",
    "print(\"KL-mf %f\"%(kl_mf/10))\n",
    "print(\"KL-mf IPS %f\"%(kl_mfips/10))"
   ]
  },
  {
   "cell_type": "code",
   "execution_count": 318,
   "id": "46558590",
   "metadata": {},
   "outputs": [
    {
     "data": {
      "text/plain": [
       "{'loss': [7.087019443511963,\n",
       "  1.223165512084961,\n",
       "  0.8820462822914124,\n",
       "  0.8666879534721375,\n",
       "  0.8511831760406494,\n",
       "  0.826255738735199,\n",
       "  0.7945048809051514,\n",
       "  0.7547330260276794,\n",
       "  0.7128660678863525,\n",
       "  0.6650223731994629]}"
      ]
     },
     "execution_count": 318,
     "metadata": {},
     "output_type": "execute_result"
    }
   ],
   "source": [
    "history_mf.history"
   ]
  },
  {
   "cell_type": "code",
   "execution_count": 20,
   "id": "d68e0f66",
   "metadata": {},
   "outputs": [],
   "source": [
    "user_topic_scores = (history_mf.model.get_weights()[2] * (history_mf.model.get_weights()[0] @ history_mf.model.get_weights()[1].T) + history_mf.model.get_weights()[3] )"
   ]
  },
  {
   "cell_type": "code",
   "execution_count": 21,
   "id": "83fcd1db",
   "metadata": {},
   "outputs": [
    {
     "data": {
      "text/plain": [
       "Counter({138: 4027,\n",
       "         119: 107,\n",
       "         3: 227,\n",
       "         70: 65,\n",
       "         23: 201,\n",
       "         96: 1296,\n",
       "         144: 703,\n",
       "         15: 152,\n",
       "         43: 74,\n",
       "         132: 769,\n",
       "         113: 135,\n",
       "         19: 221,\n",
       "         76: 281,\n",
       "         5: 312,\n",
       "         130: 357,\n",
       "         58: 648,\n",
       "         112: 636,\n",
       "         29: 173,\n",
       "         116: 1077,\n",
       "         49: 176,\n",
       "         54: 665,\n",
       "         105: 313,\n",
       "         69: 73,\n",
       "         83: 68,\n",
       "         120: 39,\n",
       "         78: 96,\n",
       "         121: 79,\n",
       "         106: 17,\n",
       "         128: 471,\n",
       "         18: 227,\n",
       "         118: 104,\n",
       "         134: 57,\n",
       "         80: 40,\n",
       "         44: 240,\n",
       "         141: 10,\n",
       "         109: 92,\n",
       "         101: 68,\n",
       "         50: 78,\n",
       "         74: 52,\n",
       "         12: 37,\n",
       "         85: 127,\n",
       "         38: 207,\n",
       "         48: 21,\n",
       "         131: 31,\n",
       "         33: 111,\n",
       "         97: 41,\n",
       "         60: 29,\n",
       "         94: 11,\n",
       "         16: 11,\n",
       "         100: 14,\n",
       "         93: 26,\n",
       "         143: 55,\n",
       "         148: 22,\n",
       "         63: 52,\n",
       "         73: 14,\n",
       "         61: 11,\n",
       "         117: 13,\n",
       "         41: 28,\n",
       "         22: 10,\n",
       "         21: 11,\n",
       "         37: 11,\n",
       "         47: 4,\n",
       "         135: 10,\n",
       "         142: 12,\n",
       "         67: 5,\n",
       "         115: 9,\n",
       "         4: 25,\n",
       "         92: 5,\n",
       "         133: 3,\n",
       "         127: 2,\n",
       "         103: 1,\n",
       "         6: 1,\n",
       "         129: 1,\n",
       "         42: 2,\n",
       "         24: 1})"
      ]
     },
     "execution_count": 21,
     "metadata": {},
     "output_type": "execute_result"
    }
   ],
   "source": [
    "Counter(user_topic_scores.argmax(axis=1).flatten())"
   ]
  },
  {
   "cell_type": "code",
   "execution_count": 22,
   "id": "2c70af39",
   "metadata": {},
   "outputs": [
    {
     "data": {
      "text/plain": [
       "(15400,)"
      ]
     },
     "execution_count": 22,
     "metadata": {},
     "output_type": "execute_result"
    }
   ],
   "source": [
    "user_topic_scores.argmax(axis=1).shape"
   ]
  },
  {
   "cell_type": "code",
   "execution_count": 23,
   "id": "dd9f2172",
   "metadata": {},
   "outputs": [
    {
     "ename": "NameError",
     "evalue": "name 'plot' is not defined",
     "output_type": "error",
     "traceback": [
      "\u001b[0;31m---------------------------------------------------------------------------\u001b[0m",
      "\u001b[0;31mNameError\u001b[0m                                 Traceback (most recent call last)",
      "\u001b[0;32m<ipython-input-23-6a48e35fb1e0>\u001b[0m in \u001b[0;36m<module>\u001b[0;34m\u001b[0m\n\u001b[1;32m      2\u001b[0m \u001b[0;31m#topic_counts = list(Counter(user_topic_scores.astype(np.int).flatten()).values())\u001b[0m\u001b[0;34m\u001b[0m\u001b[0;34m\u001b[0m\u001b[0;34m\u001b[0m\u001b[0m\n\u001b[1;32m      3\u001b[0m \u001b[0mtopic_counts\u001b[0m \u001b[0;34m=\u001b[0m \u001b[0mlist\u001b[0m\u001b[0;34m(\u001b[0m\u001b[0mCounter\u001b[0m\u001b[0;34m(\u001b[0m\u001b[0muser_topic_scores\u001b[0m\u001b[0;34m.\u001b[0m\u001b[0margmax\u001b[0m\u001b[0;34m(\u001b[0m\u001b[0maxis\u001b[0m\u001b[0;34m=\u001b[0m\u001b[0;36m1\u001b[0m\u001b[0;34m)\u001b[0m\u001b[0;34m.\u001b[0m\u001b[0mflatten\u001b[0m\u001b[0;34m(\u001b[0m\u001b[0;34m)\u001b[0m\u001b[0;34m)\u001b[0m\u001b[0;34m.\u001b[0m\u001b[0mvalues\u001b[0m\u001b[0;34m(\u001b[0m\u001b[0;34m)\u001b[0m\u001b[0;34m)\u001b[0m\u001b[0;34m\u001b[0m\u001b[0;34m\u001b[0m\u001b[0m\n\u001b[0;32m----> 4\u001b[0;31m \u001b[0mplot\u001b[0m\u001b[0;34m.\u001b[0m\u001b[0mbar\u001b[0m\u001b[0;34m(\u001b[0m\u001b[0mrange\u001b[0m\u001b[0;34m(\u001b[0m\u001b[0mlen\u001b[0m\u001b[0;34m(\u001b[0m\u001b[0mtopic_counts\u001b[0m\u001b[0;34m)\u001b[0m\u001b[0;34m)\u001b[0m\u001b[0;34m,\u001b[0m\u001b[0msorted\u001b[0m\u001b[0;34m(\u001b[0m\u001b[0mtopic_counts\u001b[0m\u001b[0;34m,\u001b[0m \u001b[0mreverse\u001b[0m\u001b[0;34m=\u001b[0m\u001b[0;32mTrue\u001b[0m\u001b[0;34m)\u001b[0m\u001b[0;34m,\u001b[0m\u001b[0malign\u001b[0m\u001b[0;34m=\u001b[0m\u001b[0;34m'center'\u001b[0m\u001b[0;34m)\u001b[0m\u001b[0;34m\u001b[0m\u001b[0;34m\u001b[0m\u001b[0m\n\u001b[0m\u001b[1;32m      5\u001b[0m \u001b[0;31m#list(Counter(user_topic_scores.argmax(axis=1)).values())\u001b[0m\u001b[0;34m\u001b[0m\u001b[0;34m\u001b[0m\u001b[0;34m\u001b[0m\u001b[0m\n",
      "\u001b[0;31mNameError\u001b[0m: name 'plot' is not defined"
     ]
    }
   ],
   "source": [
    "from collections import Counter\n",
    "#topic_counts = list(Counter(user_topic_scores.astype(np.int).flatten()).values())\n",
    "topic_counts = list(Counter(user_topic_scores.argmax(axis=1).flatten()).values())\n",
    "plot.bar(range(len(topic_counts)),sorted(topic_counts, reverse=True),align='center')\n",
    "#list(Counter(user_topic_scores.argmax(axis=1)).values())"
   ]
  },
  {
   "cell_type": "code",
   "execution_count": 24,
   "id": "f16534f0",
   "metadata": {},
   "outputs": [
    {
     "data": {
      "text/plain": [
       "75"
      ]
     },
     "execution_count": 24,
     "metadata": {},
     "output_type": "execute_result"
    }
   ],
   "source": [
    "len(Counter((user_topic_scores+1).argmax(axis=1).flatten()))"
   ]
  },
  {
   "cell_type": "code",
   "execution_count": 25,
   "id": "fb2e74f9",
   "metadata": {},
   "outputs": [
    {
     "data": {
      "text/plain": [
       "(15400,)"
      ]
     },
     "execution_count": 25,
     "metadata": {},
     "output_type": "execute_result"
    }
   ],
   "source": [
    "(user_topic_scores_ips+1).argmax(axis=1).shape"
   ]
  },
  {
   "cell_type": "code",
   "execution_count": 26,
   "id": "d0769b2d",
   "metadata": {},
   "outputs": [],
   "source": [
    "user_topic_scores_ips = (history_mfips.model.get_weights()[2] * (history_mfips.model.get_weights()[0] @ history_mfips.model.get_weights()[1].T) + history_mfips.model.get_weights()[3] )"
   ]
  },
  {
   "cell_type": "code",
   "execution_count": 27,
   "id": "70878e23",
   "metadata": {},
   "outputs": [
    {
     "ename": "NameError",
     "evalue": "name 'plot' is not defined",
     "output_type": "error",
     "traceback": [
      "\u001b[0;31m---------------------------------------------------------------------------\u001b[0m",
      "\u001b[0;31mNameError\u001b[0m                                 Traceback (most recent call last)",
      "\u001b[0;32m<ipython-input-27-5872bc682da8>\u001b[0m in \u001b[0;36m<module>\u001b[0;34m\u001b[0m\n\u001b[1;32m      1\u001b[0m \u001b[0;31m#topic_counts = list(Counter((user_topic_scores_ips+1).astype(np.int).flatten()).values())\u001b[0m\u001b[0;34m\u001b[0m\u001b[0;34m\u001b[0m\u001b[0;34m\u001b[0m\u001b[0m\n\u001b[1;32m      2\u001b[0m \u001b[0mtopic_counts\u001b[0m \u001b[0;34m=\u001b[0m \u001b[0mlist\u001b[0m\u001b[0;34m(\u001b[0m\u001b[0mCounter\u001b[0m\u001b[0;34m(\u001b[0m\u001b[0;34m(\u001b[0m\u001b[0muser_topic_scores_ips\u001b[0m\u001b[0;34m+\u001b[0m\u001b[0;36m1\u001b[0m\u001b[0;34m)\u001b[0m\u001b[0;34m.\u001b[0m\u001b[0margmax\u001b[0m\u001b[0;34m(\u001b[0m\u001b[0maxis\u001b[0m\u001b[0;34m=\u001b[0m\u001b[0;36m1\u001b[0m\u001b[0;34m)\u001b[0m\u001b[0;34m.\u001b[0m\u001b[0mflatten\u001b[0m\u001b[0;34m(\u001b[0m\u001b[0;34m)\u001b[0m\u001b[0;34m)\u001b[0m\u001b[0;34m.\u001b[0m\u001b[0mvalues\u001b[0m\u001b[0;34m(\u001b[0m\u001b[0;34m)\u001b[0m\u001b[0;34m)\u001b[0m\u001b[0;34m\u001b[0m\u001b[0;34m\u001b[0m\u001b[0m\n\u001b[0;32m----> 3\u001b[0;31m \u001b[0mplot\u001b[0m\u001b[0;34m.\u001b[0m\u001b[0mbar\u001b[0m\u001b[0;34m(\u001b[0m\u001b[0mrange\u001b[0m\u001b[0;34m(\u001b[0m\u001b[0mlen\u001b[0m\u001b[0;34m(\u001b[0m\u001b[0mtopic_counts\u001b[0m\u001b[0;34m)\u001b[0m\u001b[0;34m)\u001b[0m\u001b[0;34m,\u001b[0m\u001b[0msorted\u001b[0m\u001b[0;34m(\u001b[0m\u001b[0mtopic_counts\u001b[0m\u001b[0;34m,\u001b[0m \u001b[0mreverse\u001b[0m\u001b[0;34m=\u001b[0m\u001b[0;32mTrue\u001b[0m\u001b[0;34m)\u001b[0m\u001b[0;34m,\u001b[0m\u001b[0malign\u001b[0m\u001b[0;34m=\u001b[0m\u001b[0;34m'center'\u001b[0m\u001b[0;34m)\u001b[0m\u001b[0;34m\u001b[0m\u001b[0;34m\u001b[0m\u001b[0m\n\u001b[0m",
      "\u001b[0;31mNameError\u001b[0m: name 'plot' is not defined"
     ]
    }
   ],
   "source": [
    "#topic_counts = list(Counter((user_topic_scores_ips+1).astype(np.int).flatten()).values())\n",
    "topic_counts = list(Counter((user_topic_scores_ips+1).argmax(axis=1).flatten()).values())\n",
    "plot.bar(range(len(topic_counts)),sorted(topic_counts, reverse=True),align='center')\n"
   ]
  },
  {
   "cell_type": "code",
   "execution_count": 28,
   "id": "b499ed56",
   "metadata": {},
   "outputs": [
    {
     "data": {
      "text/plain": [
       "69"
      ]
     },
     "execution_count": 28,
     "metadata": {},
     "output_type": "execute_result"
    }
   ],
   "source": [
    "len(Counter((user_topic_scores_ips+1).argmax(axis=1).flatten()))"
   ]
  },
  {
   "cell_type": "code",
   "execution_count": 29,
   "id": "47a186da",
   "metadata": {},
   "outputs": [],
   "source": [
    "from scipy.stats import norm, kurtosis\n",
    "from scipy.special import kl_div"
   ]
  },
  {
   "cell_type": "code",
   "execution_count": 30,
   "id": "bfbcf40d",
   "metadata": {},
   "outputs": [
    {
     "data": {
      "text/plain": [
       "14.53215055152788"
      ]
     },
     "execution_count": 30,
     "metadata": {},
     "output_type": "execute_result"
    }
   ],
   "source": [
    "kurtosis(list(Counter((user_topic_scores_ips).argmax(axis=1).flatten()).values()))"
   ]
  },
  {
   "cell_type": "code",
   "execution_count": 32,
   "id": "71339029",
   "metadata": {},
   "outputs": [
    {
     "data": {
      "text/plain": [
       "39.995986862700654"
      ]
     },
     "execution_count": 32,
     "metadata": {},
     "output_type": "execute_result"
    }
   ],
   "source": [
    "kurtosis(list(Counter((user_topic_scores).argmax(axis=1).flatten()).values()))"
   ]
  },
  {
   "cell_type": "code",
   "execution_count": 99,
   "id": "00653b6f",
   "metadata": {},
   "outputs": [
    {
     "data": {
      "text/plain": [
       "Counter({11: 135, 31: 30, 22: 1, 19: 17, 2: 73, 8: 3, 12: 1, 4: 23, 25: 7})"
      ]
     },
     "execution_count": 99,
     "metadata": {},
     "output_type": "execute_result"
    }
   ],
   "source": [
    "Counter(user_topic_scores.argmax(axis=1))"
   ]
  },
  {
   "cell_type": "code",
   "execution_count": 222,
   "id": "463283b9",
   "metadata": {},
   "outputs": [],
   "source": [
    "y_pred_mf = history_mf.model.predict(X_test)\n",
    "y_pred_mfips = history_mfips.model.predict(X_test)"
   ]
  },
  {
   "cell_type": "code",
   "execution_count": 228,
   "id": "8f47938d",
   "metadata": {},
   "outputs": [
    {
     "data": {
      "text/plain": [
       "Counter({3: 1476, 2: 2509, 1: 711, 4: 183, 5: 11})"
      ]
     },
     "execution_count": 228,
     "metadata": {},
     "output_type": "execute_result"
    }
   ],
   "source": [
    "Counter(y_pred_mf.flatten().astype(np.int))"
   ]
  },
  {
   "cell_type": "code",
   "execution_count": 229,
   "id": "e4479cb7",
   "metadata": {},
   "outputs": [
    {
     "data": {
      "text/plain": [
       "Counter({4: 156, 2: 2320, 3: 979, 1: 1399, 0: 24, 5: 12})"
      ]
     },
     "execution_count": 229,
     "metadata": {},
     "output_type": "execute_result"
    }
   ],
   "source": [
    "Counter(y_pred_mfips.flatten().astype(np.int))"
   ]
  },
  {
   "cell_type": "code",
   "execution_count": 113,
   "id": "769ced34",
   "metadata": {},
   "outputs": [
    {
     "ename": "AttributeError",
     "evalue": "'Line2D' object has no property 'density'",
     "output_type": "error",
     "traceback": [
      "\u001b[0;31m---------------------------------------------------------------------------\u001b[0m",
      "\u001b[0;31mAttributeError\u001b[0m                            Traceback (most recent call last)",
      "\u001b[0;32m<ipython-input-113-a91e91076571>\u001b[0m in \u001b[0;36m<module>\u001b[0;34m\u001b[0m\n\u001b[1;32m      1\u001b[0m \u001b[0;32mimport\u001b[0m \u001b[0mmatplotlib\u001b[0m\u001b[0;34m.\u001b[0m\u001b[0mpyplot\u001b[0m \u001b[0;32mas\u001b[0m \u001b[0mplot\u001b[0m\u001b[0;34m\u001b[0m\u001b[0;34m\u001b[0m\u001b[0m\n\u001b[1;32m      2\u001b[0m \u001b[0;34m\u001b[0m\u001b[0m\n\u001b[0;32m----> 3\u001b[0;31m \u001b[0mplot\u001b[0m\u001b[0;34m.\u001b[0m\u001b[0mplot\u001b[0m\u001b[0;34m(\u001b[0m\u001b[0mlist\u001b[0m\u001b[0;34m(\u001b[0m\u001b[0mCounter\u001b[0m\u001b[0;34m(\u001b[0m\u001b[0muser_topic_scores\u001b[0m\u001b[0;34m.\u001b[0m\u001b[0margmax\u001b[0m\u001b[0;34m(\u001b[0m\u001b[0maxis\u001b[0m\u001b[0;34m=\u001b[0m\u001b[0;36m1\u001b[0m\u001b[0;34m)\u001b[0m\u001b[0;34m)\u001b[0m\u001b[0;34m.\u001b[0m\u001b[0mvalues\u001b[0m\u001b[0;34m(\u001b[0m\u001b[0;34m)\u001b[0m\u001b[0;34m)\u001b[0m\u001b[0;34m,\u001b[0m\u001b[0mdensity\u001b[0m\u001b[0;34m=\u001b[0m\u001b[0;36m1\u001b[0m\u001b[0;34m,\u001b[0m \u001b[0mbins\u001b[0m\u001b[0;34m=\u001b[0m\u001b[0;36m20\u001b[0m\u001b[0;34m)\u001b[0m\u001b[0;34m\u001b[0m\u001b[0;34m\u001b[0m\u001b[0m\n\u001b[0m",
      "\u001b[0;32m/ivi/ilps/personal/sgupta/anaconda3/envs/fair_ranking/lib/python3.6/site-packages/matplotlib/pyplot.py\u001b[0m in \u001b[0;36mplot\u001b[0;34m(scalex, scaley, data, *args, **kwargs)\u001b[0m\n\u001b[1;32m   2840\u001b[0m     return gca().plot(\n\u001b[1;32m   2841\u001b[0m         \u001b[0;34m*\u001b[0m\u001b[0margs\u001b[0m\u001b[0;34m,\u001b[0m \u001b[0mscalex\u001b[0m\u001b[0;34m=\u001b[0m\u001b[0mscalex\u001b[0m\u001b[0;34m,\u001b[0m \u001b[0mscaley\u001b[0m\u001b[0;34m=\u001b[0m\u001b[0mscaley\u001b[0m\u001b[0;34m,\u001b[0m\u001b[0;34m\u001b[0m\u001b[0;34m\u001b[0m\u001b[0m\n\u001b[0;32m-> 2842\u001b[0;31m         **({\"data\": data} if data is not None else {}), **kwargs)\n\u001b[0m\u001b[1;32m   2843\u001b[0m \u001b[0;34m\u001b[0m\u001b[0m\n\u001b[1;32m   2844\u001b[0m \u001b[0;34m\u001b[0m\u001b[0m\n",
      "\u001b[0;32m/ivi/ilps/personal/sgupta/anaconda3/envs/fair_ranking/lib/python3.6/site-packages/matplotlib/axes/_axes.py\u001b[0m in \u001b[0;36mplot\u001b[0;34m(self, scalex, scaley, data, *args, **kwargs)\u001b[0m\n\u001b[1;32m   1741\u001b[0m         \"\"\"\n\u001b[1;32m   1742\u001b[0m         \u001b[0mkwargs\u001b[0m \u001b[0;34m=\u001b[0m \u001b[0mcbook\u001b[0m\u001b[0;34m.\u001b[0m\u001b[0mnormalize_kwargs\u001b[0m\u001b[0;34m(\u001b[0m\u001b[0mkwargs\u001b[0m\u001b[0;34m,\u001b[0m \u001b[0mmlines\u001b[0m\u001b[0;34m.\u001b[0m\u001b[0mLine2D\u001b[0m\u001b[0;34m)\u001b[0m\u001b[0;34m\u001b[0m\u001b[0;34m\u001b[0m\u001b[0m\n\u001b[0;32m-> 1743\u001b[0;31m         \u001b[0mlines\u001b[0m \u001b[0;34m=\u001b[0m \u001b[0;34m[\u001b[0m\u001b[0;34m*\u001b[0m\u001b[0mself\u001b[0m\u001b[0;34m.\u001b[0m\u001b[0m_get_lines\u001b[0m\u001b[0;34m(\u001b[0m\u001b[0;34m*\u001b[0m\u001b[0margs\u001b[0m\u001b[0;34m,\u001b[0m \u001b[0mdata\u001b[0m\u001b[0;34m=\u001b[0m\u001b[0mdata\u001b[0m\u001b[0;34m,\u001b[0m \u001b[0;34m**\u001b[0m\u001b[0mkwargs\u001b[0m\u001b[0;34m)\u001b[0m\u001b[0;34m]\u001b[0m\u001b[0;34m\u001b[0m\u001b[0;34m\u001b[0m\u001b[0m\n\u001b[0m\u001b[1;32m   1744\u001b[0m         \u001b[0;32mfor\u001b[0m \u001b[0mline\u001b[0m \u001b[0;32min\u001b[0m \u001b[0mlines\u001b[0m\u001b[0;34m:\u001b[0m\u001b[0;34m\u001b[0m\u001b[0;34m\u001b[0m\u001b[0m\n\u001b[1;32m   1745\u001b[0m             \u001b[0mself\u001b[0m\u001b[0;34m.\u001b[0m\u001b[0madd_line\u001b[0m\u001b[0;34m(\u001b[0m\u001b[0mline\u001b[0m\u001b[0;34m)\u001b[0m\u001b[0;34m\u001b[0m\u001b[0;34m\u001b[0m\u001b[0m\n",
      "\u001b[0;32m/ivi/ilps/personal/sgupta/anaconda3/envs/fair_ranking/lib/python3.6/site-packages/matplotlib/axes/_base.py\u001b[0m in \u001b[0;36m__call__\u001b[0;34m(self, data, *args, **kwargs)\u001b[0m\n\u001b[1;32m    271\u001b[0m                 \u001b[0mthis\u001b[0m \u001b[0;34m+=\u001b[0m \u001b[0margs\u001b[0m\u001b[0;34m[\u001b[0m\u001b[0;36m0\u001b[0m\u001b[0;34m]\u001b[0m\u001b[0;34m,\u001b[0m\u001b[0;34m\u001b[0m\u001b[0;34m\u001b[0m\u001b[0m\n\u001b[1;32m    272\u001b[0m                 \u001b[0margs\u001b[0m \u001b[0;34m=\u001b[0m \u001b[0margs\u001b[0m\u001b[0;34m[\u001b[0m\u001b[0;36m1\u001b[0m\u001b[0;34m:\u001b[0m\u001b[0;34m]\u001b[0m\u001b[0;34m\u001b[0m\u001b[0;34m\u001b[0m\u001b[0m\n\u001b[0;32m--> 273\u001b[0;31m             \u001b[0;32myield\u001b[0m \u001b[0;32mfrom\u001b[0m \u001b[0mself\u001b[0m\u001b[0;34m.\u001b[0m\u001b[0m_plot_args\u001b[0m\u001b[0;34m(\u001b[0m\u001b[0mthis\u001b[0m\u001b[0;34m,\u001b[0m \u001b[0mkwargs\u001b[0m\u001b[0;34m)\u001b[0m\u001b[0;34m\u001b[0m\u001b[0;34m\u001b[0m\u001b[0m\n\u001b[0m\u001b[1;32m    274\u001b[0m \u001b[0;34m\u001b[0m\u001b[0m\n\u001b[1;32m    275\u001b[0m     \u001b[0;32mdef\u001b[0m \u001b[0mget_next_color\u001b[0m\u001b[0;34m(\u001b[0m\u001b[0mself\u001b[0m\u001b[0;34m)\u001b[0m\u001b[0;34m:\u001b[0m\u001b[0;34m\u001b[0m\u001b[0;34m\u001b[0m\u001b[0m\n",
      "\u001b[0;32m/ivi/ilps/personal/sgupta/anaconda3/envs/fair_ranking/lib/python3.6/site-packages/matplotlib/axes/_base.py\u001b[0m in \u001b[0;36m_plot_args\u001b[0;34m(self, tup, kwargs)\u001b[0m\n\u001b[1;32m    417\u001b[0m             \u001b[0;32mraise\u001b[0m \u001b[0mValueError\u001b[0m\u001b[0;34m(\u001b[0m\u001b[0;34mf\"x has {ncx} columns but y has {ncy} columns\"\u001b[0m\u001b[0;34m)\u001b[0m\u001b[0;34m\u001b[0m\u001b[0;34m\u001b[0m\u001b[0m\n\u001b[1;32m    418\u001b[0m         return [func(x[:, j % ncx], y[:, j % ncy], kw, kwargs)\n\u001b[0;32m--> 419\u001b[0;31m                 for j in range(max(ncx, ncy))]\n\u001b[0m\u001b[1;32m    420\u001b[0m \u001b[0;34m\u001b[0m\u001b[0m\n\u001b[1;32m    421\u001b[0m \u001b[0;34m\u001b[0m\u001b[0m\n",
      "\u001b[0;32m/ivi/ilps/personal/sgupta/anaconda3/envs/fair_ranking/lib/python3.6/site-packages/matplotlib/axes/_base.py\u001b[0m in \u001b[0;36m<listcomp>\u001b[0;34m(.0)\u001b[0m\n\u001b[1;32m    417\u001b[0m             \u001b[0;32mraise\u001b[0m \u001b[0mValueError\u001b[0m\u001b[0;34m(\u001b[0m\u001b[0;34mf\"x has {ncx} columns but y has {ncy} columns\"\u001b[0m\u001b[0;34m)\u001b[0m\u001b[0;34m\u001b[0m\u001b[0;34m\u001b[0m\u001b[0m\n\u001b[1;32m    418\u001b[0m         return [func(x[:, j % ncx], y[:, j % ncy], kw, kwargs)\n\u001b[0;32m--> 419\u001b[0;31m                 for j in range(max(ncx, ncy))]\n\u001b[0m\u001b[1;32m    420\u001b[0m \u001b[0;34m\u001b[0m\u001b[0m\n\u001b[1;32m    421\u001b[0m \u001b[0;34m\u001b[0m\u001b[0m\n",
      "\u001b[0;32m/ivi/ilps/personal/sgupta/anaconda3/envs/fair_ranking/lib/python3.6/site-packages/matplotlib/axes/_base.py\u001b[0m in \u001b[0;36m_makeline\u001b[0;34m(self, x, y, kw, kwargs)\u001b[0m\n\u001b[1;32m    310\u001b[0m         \u001b[0mdefault_dict\u001b[0m \u001b[0;34m=\u001b[0m \u001b[0mself\u001b[0m\u001b[0;34m.\u001b[0m\u001b[0m_getdefaults\u001b[0m\u001b[0;34m(\u001b[0m\u001b[0mset\u001b[0m\u001b[0;34m(\u001b[0m\u001b[0;34m)\u001b[0m\u001b[0;34m,\u001b[0m \u001b[0mkw\u001b[0m\u001b[0;34m)\u001b[0m\u001b[0;34m\u001b[0m\u001b[0;34m\u001b[0m\u001b[0m\n\u001b[1;32m    311\u001b[0m         \u001b[0mself\u001b[0m\u001b[0;34m.\u001b[0m\u001b[0m_setdefaults\u001b[0m\u001b[0;34m(\u001b[0m\u001b[0mdefault_dict\u001b[0m\u001b[0;34m,\u001b[0m \u001b[0mkw\u001b[0m\u001b[0;34m)\u001b[0m\u001b[0;34m\u001b[0m\u001b[0;34m\u001b[0m\u001b[0m\n\u001b[0;32m--> 312\u001b[0;31m         \u001b[0mseg\u001b[0m \u001b[0;34m=\u001b[0m \u001b[0mmlines\u001b[0m\u001b[0;34m.\u001b[0m\u001b[0mLine2D\u001b[0m\u001b[0;34m(\u001b[0m\u001b[0mx\u001b[0m\u001b[0;34m,\u001b[0m \u001b[0my\u001b[0m\u001b[0;34m,\u001b[0m \u001b[0;34m**\u001b[0m\u001b[0mkw\u001b[0m\u001b[0;34m)\u001b[0m\u001b[0;34m\u001b[0m\u001b[0;34m\u001b[0m\u001b[0m\n\u001b[0m\u001b[1;32m    313\u001b[0m         \u001b[0;32mreturn\u001b[0m \u001b[0mseg\u001b[0m\u001b[0;34m\u001b[0m\u001b[0;34m\u001b[0m\u001b[0m\n\u001b[1;32m    314\u001b[0m \u001b[0;34m\u001b[0m\u001b[0m\n",
      "\u001b[0;32m/ivi/ilps/personal/sgupta/anaconda3/envs/fair_ranking/lib/python3.6/site-packages/matplotlib/lines.py\u001b[0m in \u001b[0;36m__init__\u001b[0;34m(self, xdata, ydata, linewidth, linestyle, color, marker, markersize, markeredgewidth, markeredgecolor, markerfacecolor, markerfacecoloralt, fillstyle, antialiased, dash_capstyle, solid_capstyle, dash_joinstyle, solid_joinstyle, pickradius, drawstyle, markevery, **kwargs)\u001b[0m\n\u001b[1;32m    388\u001b[0m         \u001b[0;31m# update kwargs before updating data to give the caller a\u001b[0m\u001b[0;34m\u001b[0m\u001b[0;34m\u001b[0m\u001b[0;34m\u001b[0m\u001b[0m\n\u001b[1;32m    389\u001b[0m         \u001b[0;31m# chance to init axes (and hence unit support)\u001b[0m\u001b[0;34m\u001b[0m\u001b[0;34m\u001b[0m\u001b[0;34m\u001b[0m\u001b[0m\n\u001b[0;32m--> 390\u001b[0;31m         \u001b[0mself\u001b[0m\u001b[0;34m.\u001b[0m\u001b[0mupdate\u001b[0m\u001b[0;34m(\u001b[0m\u001b[0mkwargs\u001b[0m\u001b[0;34m)\u001b[0m\u001b[0;34m\u001b[0m\u001b[0;34m\u001b[0m\u001b[0m\n\u001b[0m\u001b[1;32m    391\u001b[0m         \u001b[0mself\u001b[0m\u001b[0;34m.\u001b[0m\u001b[0mpickradius\u001b[0m \u001b[0;34m=\u001b[0m \u001b[0mpickradius\u001b[0m\u001b[0;34m\u001b[0m\u001b[0;34m\u001b[0m\u001b[0m\n\u001b[1;32m    392\u001b[0m         \u001b[0mself\u001b[0m\u001b[0;34m.\u001b[0m\u001b[0mind_offset\u001b[0m \u001b[0;34m=\u001b[0m \u001b[0;36m0\u001b[0m\u001b[0;34m\u001b[0m\u001b[0;34m\u001b[0m\u001b[0m\n",
      "\u001b[0;32m/ivi/ilps/personal/sgupta/anaconda3/envs/fair_ranking/lib/python3.6/site-packages/matplotlib/artist.py\u001b[0m in \u001b[0;36mupdate\u001b[0;34m(self, props)\u001b[0m\n\u001b[1;32m    994\u001b[0m                     \u001b[0mfunc\u001b[0m \u001b[0;34m=\u001b[0m \u001b[0mgetattr\u001b[0m\u001b[0;34m(\u001b[0m\u001b[0mself\u001b[0m\u001b[0;34m,\u001b[0m \u001b[0;34mf\"set_{k}\"\u001b[0m\u001b[0;34m,\u001b[0m \u001b[0;32mNone\u001b[0m\u001b[0;34m)\u001b[0m\u001b[0;34m\u001b[0m\u001b[0;34m\u001b[0m\u001b[0m\n\u001b[1;32m    995\u001b[0m                     \u001b[0;32mif\u001b[0m \u001b[0;32mnot\u001b[0m \u001b[0mcallable\u001b[0m\u001b[0;34m(\u001b[0m\u001b[0mfunc\u001b[0m\u001b[0;34m)\u001b[0m\u001b[0;34m:\u001b[0m\u001b[0;34m\u001b[0m\u001b[0;34m\u001b[0m\u001b[0m\n\u001b[0;32m--> 996\u001b[0;31m                         raise AttributeError(f\"{type(self).__name__!r} object \"\n\u001b[0m\u001b[1;32m    997\u001b[0m                                              f\"has no property {k!r}\")\n\u001b[1;32m    998\u001b[0m                     \u001b[0mret\u001b[0m\u001b[0;34m.\u001b[0m\u001b[0mappend\u001b[0m\u001b[0;34m(\u001b[0m\u001b[0mfunc\u001b[0m\u001b[0;34m(\u001b[0m\u001b[0mv\u001b[0m\u001b[0;34m)\u001b[0m\u001b[0;34m)\u001b[0m\u001b[0;34m\u001b[0m\u001b[0;34m\u001b[0m\u001b[0m\n",
      "\u001b[0;31mAttributeError\u001b[0m: 'Line2D' object has no property 'density'"
     ]
    },
    {
     "data": {
      "image/png": "[encoded data removed]",
      "text/plain": [
       "<Figure size 432x288 with 1 Axes>"
      ]
     },
     "metadata": {
      "needs_background": "light"
     },
     "output_type": "display_data"
    }
   ],
   "source": [
    "import matplotlib.pyplot as plot\n",
    "\n",
    "plot.plot(list(Counter(user_topic_scores.argmax(axis=1)).values()),density=1, bins=20) "
   ]
  },
  {
   "cell_type": "code",
   "execution_count": null,
   "id": "4aeb9a0e",
   "metadata": {},
   "outputs": [],
   "source": []
  },
  {
   "cell_type": "code",
   "execution_count": 67,
   "id": "0dba28dd",
   "metadata": {},
   "outputs": [],
   "source": [
    "col_names = []\n",
    "for line in open(os.path.join('../data/raw/coat/user_item_features', 'item_features_map.txt'), 'r'):\n",
    "    col_names.append(line.strip())\n"
   ]
  },
  {
   "cell_type": "code",
   "execution_count": 68,
   "id": "a5b8e920",
   "metadata": {},
   "outputs": [
    {
     "data": {
      "text/plain": [
       "['gender:men',\n",
       " 'gender:women',\n",
       " 'jackettype:bomber',\n",
       " 'jackettype:cropped',\n",
       " 'jackettype:field',\n",
       " 'jackettype:fleece',\n",
       " 'jackettype:insulated',\n",
       " 'jackettype:motorcycle',\n",
       " 'jackettype:other',\n",
       " 'jackettype:packable',\n",
       " 'jackettype:parkas',\n",
       " 'jackettype:pea',\n",
       " 'jackettype:rain',\n",
       " 'jackettype:shells',\n",
       " 'jackettype:track',\n",
       " 'jackettype:trench',\n",
       " 'jackettype:vests',\n",
       " 'jackettype:waterproof',\n",
       " 'color:beige',\n",
       " 'color:black',\n",
       " 'color:blue',\n",
       " 'color:brown',\n",
       " 'color:gray',\n",
       " 'color:green',\n",
       " 'color:multi',\n",
       " 'color:navy',\n",
       " 'color:olive',\n",
       " 'color:other',\n",
       " 'color:pink',\n",
       " 'color:purple',\n",
       " 'color:red',\n",
       " 'onfrontpage:yes',\n",
       " 'onfrontpage:no']"
      ]
     },
     "execution_count": 68,
     "metadata": {},
     "output_type": "execute_result"
    }
   ],
   "source": [
    "col_names"
   ]
  },
  {
   "cell_type": "code",
   "execution_count": 69,
   "id": "2eb71fdc",
   "metadata": {},
   "outputs": [],
   "source": [
    "item_feats = np.loadtxt(os.path.join('../data/raw/coat/user_item_features', 'item_features.ascii'))"
   ]
  },
  {
   "cell_type": "code",
   "execution_count": 82,
   "id": "7aea2734",
   "metadata": {},
   "outputs": [
    {
     "data": {
      "text/plain": [
       "(array([ 0,  0,  0, ..., 32, 32, 32]),\n",
       " array([  0,   1,   2, ..., 297, 298, 299]))"
      ]
     },
     "execution_count": 82,
     "metadata": {},
     "output_type": "execute_result"
    }
   ],
   "source": [
    "np.where(item_feats.T == 1)"
   ]
  },
  {
   "cell_type": "code",
   "execution_count": 41,
   "id": "3b6be4c8",
   "metadata": {},
   "outputs": [],
   "source": [
    "y_pred_mf = history_mf.model.predict(X_test)"
   ]
  },
  {
   "cell_type": "code",
   "execution_count": 51,
   "id": "ff6e8692",
   "metadata": {},
   "outputs": [
    {
     "data": {
      "text/plain": [
       "5.536191"
      ]
     },
     "execution_count": 51,
     "metadata": {},
     "output_type": "execute_result"
    }
   ],
   "source": [
    "y_pred_mf.max()"
   ]
  },
  {
   "cell_type": "code",
   "execution_count": 94,
   "id": "6e12b410",
   "metadata": {},
   "outputs": [
    {
     "data": {
      "text/plain": [
       "[array([[-0.19978216, -0.1537097 , -0.19424263, ...,  0.17286858,\n",
       "         -0.25711918,  0.10904978],\n",
       "        [-0.05090541, -0.03899537, -0.09592912, ...,  0.08447007,\n",
       "         -0.07513382,  0.14959675],\n",
       "        [-0.10448894, -0.13059027, -0.10833335, ...,  0.16680837,\n",
       "          0.04283736,  0.06519396],\n",
       "        ...,\n",
       "        [-0.09738317, -0.08344048, -0.16746895, ...,  0.11266895,\n",
       "          0.16250823,  0.14642015],\n",
       "        [-0.10171963, -0.07801136, -0.12614352, ...,  0.10504811,\n",
       "         -0.04448077,  0.14472958],\n",
       "        [-0.07229791, -0.1351395 , -0.12186116, ...,  0.09137271,\n",
       "          0.07827122,  0.1677315 ]], dtype=float32),\n",
       " array([[-0.3667073 , -0.37699977, -0.31040722, ...,  0.14624433,\n",
       "         -0.10071659,  0.45431462],\n",
       "        [-0.15642197, -0.3445183 , -0.35588202, ...,  0.42915514,\n",
       "         -0.18906666,  0.09793819],\n",
       "        [-0.33941808, -0.34788367, -0.2758867 , ...,  0.2938753 ,\n",
       "          0.02278627,  0.420508  ],\n",
       "        ...,\n",
       "        [-0.22543044, -0.38158324, -0.29385322, ...,  0.3275117 ,\n",
       "         -0.28176528,  0.25368613],\n",
       "        [-0.26243082, -0.26818758, -0.2791798 , ...,  0.28502974,\n",
       "         -0.00556685,  0.4165544 ],\n",
       "        [-0.37544352, -0.33595276, -0.4554681 , ...,  0.32824263,\n",
       "         -0.07577147,  0.3577781 ]], dtype=float32),\n",
       " array([[1.5454867]], dtype=float32),\n",
       " array([0.48592383], dtype=float32)]"
      ]
     },
     "execution_count": 94,
     "metadata": {},
     "output_type": "execute_result"
    }
   ],
   "source": [
    "history_mf.model.get_weights()"
   ]
  },
  {
   "cell_type": "code",
   "execution_count": null,
   "id": "7c80f566",
   "metadata": {},
   "outputs": [],
   "source": []
  }
 ],
 "metadata": {
  "kernelspec": {
   "display_name": "Python 3",
   "language": "python",
   "name": "python3"
  },
  "language_info": {
   "codemirror_mode": {
    "name": "ipython",
    "version": 3
   },
   "file_extension": ".py",
   "mimetype": "text/x-python",
   "name": "python",
   "nbconvert_exporter": "python",
   "pygments_lexer": "ipython3",
   "version": "3.6.13"
  }
 },
 "nbformat": 4,
 "nbformat_minor": 5
}
