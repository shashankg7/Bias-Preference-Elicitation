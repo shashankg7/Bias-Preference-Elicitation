{
 "cells": [
  {
   "cell_type": "code",
   "execution_count": 7,
   "id": "2cb2888e",
   "metadata": {},
   "outputs": [],
   "source": [
    "import argparse\n",
    "from numpy.core.numeric import cross\n",
    "import yaml\n",
    "import warnings\n",
    "import pandas as pd\n",
    "import glob, os\n",
    "import logging\n",
    "from scipy import stats\n",
    "from typing import Tuple\n",
    "import tensorflow as tf\n",
    "import numpy as np                                                         \n",
    "from utils.data_loader import load_coat, load_synthetic, load_yahoo\n",
    "from trainer import train_mf, train_mf_kfold, train_expoMF\n",
    "from evaluate.metrics import evaluator, evaluator_ranking"
   ]
  },
  {
   "cell_type": "code",
   "execution_count": 84,
   "id": "111e1f63",
   "metadata": {},
   "outputs": [
    {
     "name": "stdout",
     "output_type": "stream",
     "text": [
      "Collecting matplotlib\n",
      "  Using cached matplotlib-3.3.4-cp36-cp36m-manylinux1_x86_64.whl (11.5 MB)\n",
      "Requirement already satisfied: pyparsing!=2.0.4,!=2.1.2,!=2.1.6,>=2.0.3 in /home/sgupta/.local/lib/python3.6/site-packages (from matplotlib) (2.4.7)\n",
      "Requirement already satisfied: numpy>=1.15 in /ivi/ilps/personal/sgupta/anaconda3/envs/fair_ranking/lib/python3.6/site-packages (from matplotlib) (1.19.2)\n",
      "Collecting kiwisolver>=1.0.1\n",
      "  Using cached kiwisolver-1.3.1-cp36-cp36m-manylinux1_x86_64.whl (1.1 MB)\n",
      "Requirement already satisfied: pillow>=6.2.0 in /ivi/ilps/personal/sgupta/anaconda3/envs/fair_ranking/lib/python3.6/site-packages (from matplotlib) (8.2.0)\n",
      "Requirement already satisfied: python-dateutil>=2.1 in /home/sgupta/.local/lib/python3.6/site-packages (from matplotlib) (2.8.2)\n",
      "Collecting cycler>=0.10\n",
      "  Using cached cycler-0.11.0-py3-none-any.whl (6.4 kB)\n",
      "Requirement already satisfied: six>=1.5 in /home/sgupta/.local/lib/python3.6/site-packages (from python-dateutil>=2.1->matplotlib) (1.16.0)\n",
      "Installing collected packages: kiwisolver, cycler, matplotlib\n",
      "Successfully installed cycler-0.11.0 kiwisolver-1.3.1 matplotlib-3.3.4\n"
     ]
    }
   ],
   "source": [
    "!pip install matplotlib"
   ]
  },
  {
   "cell_type": "code",
   "execution_count": 8,
   "id": "e99a294a",
   "metadata": {},
   "outputs": [],
   "source": [
    "def load_coat() -> Tuple[np.ndarray, np.ndarray]:\n",
    "    \"\"\"\n",
    "    load_coat: Loads coat dataset\n",
    "\n",
    "    Returns:\n",
    "        List[np.ndarray, np.ndarray, np.ndarray]: returns train dataframe, test dataframe joined with item feats.\n",
    "    \"\"\"    \n",
    "    train_raw_matrix = np.loadtxt(os.path.join('../data/raw/coat', 'train.ascii'))\n",
    "    test_raw_matrix = np.loadtxt(os.path.join('../data/raw/coat', 'test.ascii'))\n",
    "    item_feats = np.loadtxt(os.path.join('../data/raw/coat/user_item_features', 'item_features.ascii'))\n",
    "    train_df = pd.DataFrame(\n",
    "        {'uid': np.nonzero(train_raw_matrix)[0].tolist(),\n",
    "        'pid': np.nonzero(train_raw_matrix)[1].tolist(),\n",
    "        'rating': train_raw_matrix[np.nonzero(train_raw_matrix)]\n",
    "        })\n",
    "    \n",
    "    test_df = pd.DataFrame(\n",
    "        {'uid': np.nonzero(test_raw_matrix)[0].tolist(),\n",
    "        'pid': np.nonzero(test_raw_matrix)[1].tolist(),\n",
    "        'rating': test_raw_matrix[np.nonzero(test_raw_matrix)]\n",
    "        })\n",
    "\n",
    "    col_names = []\n",
    "    for line in open(os.path.join('../data/raw/coat/user_item_features', 'item_features_map.txt'), 'r'):\n",
    "        col_names.append(line.strip())\n",
    "    \n",
    "    col_name_df = {}\n",
    "    for i, col_name in enumerate(col_names):\n",
    "        col_name_df[col_name] = item_feats[:, i]\n",
    "        col_name_df['pid'] = range(0, item_feats.shape[0])\n",
    "    \n",
    "    item_feats_df = pd.DataFrame(col_name_df)\n",
    "    train_df_item = train_df.merge(item_feats_df, on='pid')\n",
    "    test_df_item = test_df.merge(item_feats_df, on='pid')\n",
    "\n",
    "    # Generating user * attribute matrix\n",
    "    col_names_idx = dict(zip(col_names, range(len(col_names))))\n",
    "    user_attr_train = np.zeros((train_raw_matrix.shape[0], len(col_names)))\n",
    "    user_attr_train_count = np.zeros((train_raw_matrix.shape[0], len(col_names)))\n",
    "\n",
    "    user_attr_test = np.zeros((test_raw_matrix.shape[0], len(col_names)))\n",
    "    user_attr_test_count = np.zeros((test_raw_matrix.shape[0], len(col_names)))\n",
    "\n",
    "    for j, row in train_df_item.iterrows():\n",
    "        for col_name, idx in col_names_idx.items():\n",
    "            if int(row[col_name]) == 1:\n",
    "                user_attr_train[int(row['uid']), idx] += row['rating']\n",
    "    \n",
    "    for j, row in train_df_item.iterrows():\n",
    "        for col_name, idx in col_names_idx.items():\n",
    "            if int(row[col_name]) == 1:\n",
    "                user_attr_train_count[int(row['uid']), idx] += 1\n",
    "            \n",
    "    for j, row in test_df_item.iterrows():\n",
    "        for col_name, idx in col_names_idx.items():\n",
    "            if int(row[col_name]) == 1:\n",
    "                user_attr_test[int(row['uid']), idx] += row['rating']\n",
    "    \n",
    "    for j, row in test_df_item.iterrows():\n",
    "        for col_name, idx in col_names_idx.items():\n",
    "            if int(row[col_name]) == 1:\n",
    "                user_attr_test_count[int(row['uid']), idx] += 1\n",
    "\n",
    "    # replace count of ratings with average rating\n",
    "    user_attr_train /= user_attr_train_count\n",
    "    user_attr_test /= user_attr_test_count\n",
    "    # replace division with 0 with -1\n",
    "    user_attr_train[np.isnan(user_attr_train)] = 0\n",
    "    user_attr_test[np.isnan(user_attr_test)] = 0\n",
    "    # Convert float values to nearest int\n",
    "    user_attr_train = np.ceil(user_attr_train)\n",
    "    user_attr_test = np.ceil(user_attr_test)\n",
    "\n",
    "    # train & test user * attribute dataframe\n",
    "    train_ua_df = pd.DataFrame(\n",
    "    {'uid': np.nonzero(user_attr_train)[0].tolist(),\n",
    "     'pid': np.nonzero(user_attr_train)[1].tolist(),\n",
    "     'rating': user_attr_train[np.nonzero(user_attr_train)]\n",
    "    })\n",
    "\n",
    "    # np.random.seed(12345)\n",
    "    # msk = np.random.rand(len(train_ua_df)) < 0.9\n",
    "    \n",
    "    # train_split_df = train_ua_df[msk]\n",
    "    # valid_split_df = train_ua_df[~msk]\n",
    "\n",
    "\n",
    "    test_ua_df = pd.DataFrame(\n",
    "    {'uid': np.nonzero(user_attr_test)[0].tolist(),\n",
    "     'pid': np.nonzero(user_attr_test)[1].tolist(),\n",
    "     'rating': user_attr_test[np.nonzero(user_attr_test)]\n",
    "    })\n",
    "    np.random.seed(12345)\n",
    "    msk = np.random.rand(len(test_ua_df)) < 0.8\n",
    "    \n",
    "    eval_split_df = test_ua_df[msk]\n",
    "    prop_split_df = test_ua_df[~msk]\n",
    "\n",
    "    return (train_df_item, test_df_item, train_ua_df, eval_split_df, prop_split_df, item_feats_df)"
   ]
  },
  {
   "cell_type": "code",
   "execution_count": 25,
   "id": "53494be0",
   "metadata": {},
   "outputs": [],
   "source": [
    "config = yaml.safe_load(open('../config/consts.yaml', 'rb'))"
   ]
  },
  {
   "cell_type": "code",
   "execution_count": 9,
   "id": "659d3cd7",
   "metadata": {},
   "outputs": [
    {
     "name": "stderr",
     "output_type": "stream",
     "text": [
      "/home/sgupta/.local/lib/python3.6/site-packages/ipykernel_launcher.py:65: RuntimeWarning: invalid value encountered in true_divide\n",
      "/home/sgupta/.local/lib/python3.6/site-packages/ipykernel_launcher.py:66: RuntimeWarning: invalid value encountered in true_divide\n"
     ]
    }
   ],
   "source": [
    "res = load_coat()"
   ]
  },
  {
   "cell_type": "code",
   "execution_count": 11,
   "id": "86f18b5d",
   "metadata": {},
   "outputs": [],
   "source": [
    "cross_val_files = glob.glob('../reports/results/cross_val_results_*')"
   ]
  },
  {
   "cell_type": "code",
   "execution_count": 13,
   "id": "3d1752c8",
   "metadata": {},
   "outputs": [
    {
     "data": {
      "text/plain": [
       "20"
      ]
     },
     "execution_count": 13,
     "metadata": {},
     "output_type": "execute_result"
    }
   ],
   "source": [
    "len(cross_val_files)"
   ]
  },
  {
   "cell_type": "code",
   "execution_count": 14,
   "id": "0639c9f5",
   "metadata": {},
   "outputs": [
    {
     "name": "stdout",
     "output_type": "stream",
     "text": [
      "   Dataset  Method  lf_dim  reg_param       MSE\n",
      "0     COAT      MF      20   0.000001  0.288339\n",
      "1     COAT  MF-IPS      20   0.000001  0.275247\n",
      "2     COAT  ExpoMF      20   0.000001  0.911770\n",
      "3     COAT      MF      40   0.000001  0.280432\n",
      "4     COAT  MF-IPS      40   0.000001  0.270734\n",
      "5     COAT  ExpoMF      40   0.000001  0.950467\n",
      "6     COAT      MF      40   0.000100  0.276840\n",
      "7     COAT  MF-IPS      40   0.000100  0.272443\n",
      "8     COAT  ExpoMF      40   0.000100  0.950467\n",
      "9     COAT      MF       5   0.010000  0.307331\n",
      "10    COAT  MF-IPS       5   0.010000  0.321628\n",
      "11    COAT  ExpoMF       5   0.010000  0.391928\n",
      "12    COAT      MF       5   0.000010  0.292085\n",
      "13    COAT  MF-IPS       5   0.000010  0.279713\n",
      "14    COAT  ExpoMF       5   0.000010  0.391928\n",
      "15    COAT      MF      40   0.001000  0.279734\n",
      "16    COAT  MF-IPS      40   0.001000  0.269620\n",
      "17    COAT  ExpoMF      40   0.001000  0.950467\n",
      "18    COAT      MF      40   0.000010  0.279671\n",
      "19    COAT  MF-IPS      40   0.000010  0.269759\n",
      "20    COAT  ExpoMF      40   0.000010  0.950467\n",
      "21    COAT      MF      10   0.010000  0.324052\n",
      "22    COAT  MF-IPS      10   0.010000  0.320116\n",
      "23    COAT  ExpoMF      10   0.010000  0.567461\n",
      "24    COAT      MF       5   0.000100  0.292759\n",
      "25    COAT  MF-IPS       5   0.000100  0.279608\n",
      "26    COAT  ExpoMF       5   0.000100  0.391928\n",
      "27    COAT      MF       5   0.001000  0.291287\n",
      "28    COAT  MF-IPS       5   0.001000  0.279716\n",
      "29    COAT  ExpoMF       5   0.001000  0.391928\n",
      "30    COAT      MF      10   0.001000  0.288030\n",
      "31    COAT  MF-IPS      10   0.001000  0.278617\n",
      "32    COAT  ExpoMF      10   0.001000  0.567461\n",
      "33    COAT      MF      10   0.000010  0.291467\n",
      "34    COAT  MF-IPS      10   0.000010  0.277245\n",
      "35    COAT  ExpoMF      10   0.000010  0.567461\n",
      "36    COAT      MF      20   0.000100  0.289226\n",
      "37    COAT  MF-IPS      20   0.000100  0.277340\n",
      "38    COAT  ExpoMF      20   0.000100  0.911770\n",
      "39    COAT      MF      20   0.001000  0.290478\n",
      "40    COAT  MF-IPS      20   0.001000  0.278796\n",
      "41    COAT  ExpoMF      20   0.001000  0.911770\n",
      "42    COAT      MF       5   0.000001  0.292592\n",
      "43    COAT  MF-IPS       5   0.000001  0.280198\n",
      "44    COAT  ExpoMF       5   0.000001  0.391928\n",
      "45    COAT      MF      10   0.000001  0.289496\n",
      "46    COAT  MF-IPS      10   0.000001  0.275725\n",
      "47    COAT  ExpoMF      10   0.000001  0.567461\n",
      "48    COAT      MF      10   0.000100  0.290322\n",
      "49    COAT  MF-IPS      10   0.000100  0.279525\n",
      "50    COAT  ExpoMF      10   0.000100  0.567461\n",
      "51    COAT      MF      20   0.010000  0.305401\n",
      "52    COAT  MF-IPS      20   0.010000  0.291412\n",
      "53    COAT  ExpoMF      20   0.010000  0.911770\n",
      "54    COAT      MF      20   0.000010  0.288763\n",
      "55    COAT  MF-IPS      20   0.000010  0.276699\n",
      "56    COAT  ExpoMF      20   0.000010  0.911770\n",
      "57    COAT      MF      40   0.010000  0.322485\n",
      "58    COAT  MF-IPS      40   0.010000  0.308495\n",
      "59    COAT  ExpoMF      40   0.010000  0.950467\n"
     ]
    }
   ],
   "source": [
    "df_results = []\n",
    "for cross_val_file in cross_val_files:\n",
    "    df_res = pd.read_csv(cross_val_file, delimiter='\\t')\n",
    "    df_results.append(df_res)\n",
    "df_params = pd.concat(df_results, ignore_index=True)\n",
    "print(df_params)"
   ]
  },
  {
   "cell_type": "code",
   "execution_count": 15,
   "id": "0a59c06f",
   "metadata": {},
   "outputs": [
    {
     "data": {
      "text/plain": [
       "'Dataset'"
      ]
     },
     "execution_count": 15,
     "metadata": {},
     "output_type": "execute_result"
    }
   ],
   "source": [
    "df_params.columns[0]"
   ]
  },
  {
   "cell_type": "code",
   "execution_count": 16,
   "id": "7bbd938e",
   "metadata": {},
   "outputs": [],
   "source": [
    "df_params = df_params[df_params['Dataset'] == 'COAT'].reset_index()\n",
    "df_params_mf = df_params[df_params['Method'] == 'MF'].reset_index()\n",
    "df_params_mfips = df_params[df_params['Method'] == 'MF-IPS'].reset_index()\n",
    "df_params_expomf = df_params[df_params['Method'] == 'ExpoMF'].reset_index()\n",
    "\n",
    "best_param_idx_mf = df_params_mf['MSE'].idxmin()\n",
    "best_param_idx_mfips = df_params_mfips['MSE'].idxmin()\n",
    "best_param_idx_expomf = df_params_expomf['MSE'].idxmin()\n"
   ]
  },
  {
   "cell_type": "code",
   "execution_count": 20,
   "id": "643d3195",
   "metadata": {},
   "outputs": [
    {
     "data": {
      "text/plain": [
       "3"
      ]
     },
     "execution_count": 20,
     "metadata": {},
     "output_type": "execute_result"
    }
   ],
   "source": [
    "best_param_idx_expomf"
   ]
  },
  {
   "cell_type": "code",
   "execution_count": 19,
   "id": "7cec9f51",
   "metadata": {},
   "outputs": [
    {
     "data": {
      "text/html": [
       "<div>\n",
       "<style scoped>\n",
       "    .dataframe tbody tr th:only-of-type {\n",
       "        vertical-align: middle;\n",
       "    }\n",
       "\n",
       "    .dataframe tbody tr th {\n",
       "        vertical-align: top;\n",
       "    }\n",
       "\n",
       "    .dataframe thead th {\n",
       "        text-align: right;\n",
       "    }\n",
       "</style>\n",
       "<table border=\"1\" class=\"dataframe\">\n",
       "  <thead>\n",
       "    <tr style=\"text-align: right;\">\n",
       "      <th></th>\n",
       "      <th>level_0</th>\n",
       "      <th>index</th>\n",
       "      <th>Dataset</th>\n",
       "      <th>Method</th>\n",
       "      <th>lf_dim</th>\n",
       "      <th>reg_param</th>\n",
       "      <th>MSE</th>\n",
       "    </tr>\n",
       "  </thead>\n",
       "  <tbody>\n",
       "    <tr>\n",
       "      <th>0</th>\n",
       "      <td>2</td>\n",
       "      <td>2</td>\n",
       "      <td>COAT</td>\n",
       "      <td>ExpoMF</td>\n",
       "      <td>20</td>\n",
       "      <td>0.000001</td>\n",
       "      <td>0.911770</td>\n",
       "    </tr>\n",
       "    <tr>\n",
       "      <th>1</th>\n",
       "      <td>5</td>\n",
       "      <td>5</td>\n",
       "      <td>COAT</td>\n",
       "      <td>ExpoMF</td>\n",
       "      <td>40</td>\n",
       "      <td>0.000001</td>\n",
       "      <td>0.950467</td>\n",
       "    </tr>\n",
       "    <tr>\n",
       "      <th>2</th>\n",
       "      <td>8</td>\n",
       "      <td>8</td>\n",
       "      <td>COAT</td>\n",
       "      <td>ExpoMF</td>\n",
       "      <td>40</td>\n",
       "      <td>0.000100</td>\n",
       "      <td>0.950467</td>\n",
       "    </tr>\n",
       "    <tr>\n",
       "      <th>3</th>\n",
       "      <td>11</td>\n",
       "      <td>11</td>\n",
       "      <td>COAT</td>\n",
       "      <td>ExpoMF</td>\n",
       "      <td>5</td>\n",
       "      <td>0.010000</td>\n",
       "      <td>0.391928</td>\n",
       "    </tr>\n",
       "    <tr>\n",
       "      <th>4</th>\n",
       "      <td>14</td>\n",
       "      <td>14</td>\n",
       "      <td>COAT</td>\n",
       "      <td>ExpoMF</td>\n",
       "      <td>5</td>\n",
       "      <td>0.000010</td>\n",
       "      <td>0.391928</td>\n",
       "    </tr>\n",
       "    <tr>\n",
       "      <th>5</th>\n",
       "      <td>17</td>\n",
       "      <td>17</td>\n",
       "      <td>COAT</td>\n",
       "      <td>ExpoMF</td>\n",
       "      <td>40</td>\n",
       "      <td>0.001000</td>\n",
       "      <td>0.950467</td>\n",
       "    </tr>\n",
       "    <tr>\n",
       "      <th>6</th>\n",
       "      <td>20</td>\n",
       "      <td>20</td>\n",
       "      <td>COAT</td>\n",
       "      <td>ExpoMF</td>\n",
       "      <td>40</td>\n",
       "      <td>0.000010</td>\n",
       "      <td>0.950467</td>\n",
       "    </tr>\n",
       "    <tr>\n",
       "      <th>7</th>\n",
       "      <td>23</td>\n",
       "      <td>23</td>\n",
       "      <td>COAT</td>\n",
       "      <td>ExpoMF</td>\n",
       "      <td>10</td>\n",
       "      <td>0.010000</td>\n",
       "      <td>0.567461</td>\n",
       "    </tr>\n",
       "    <tr>\n",
       "      <th>8</th>\n",
       "      <td>26</td>\n",
       "      <td>26</td>\n",
       "      <td>COAT</td>\n",
       "      <td>ExpoMF</td>\n",
       "      <td>5</td>\n",
       "      <td>0.000100</td>\n",
       "      <td>0.391928</td>\n",
       "    </tr>\n",
       "    <tr>\n",
       "      <th>9</th>\n",
       "      <td>29</td>\n",
       "      <td>29</td>\n",
       "      <td>COAT</td>\n",
       "      <td>ExpoMF</td>\n",
       "      <td>5</td>\n",
       "      <td>0.001000</td>\n",
       "      <td>0.391928</td>\n",
       "    </tr>\n",
       "    <tr>\n",
       "      <th>10</th>\n",
       "      <td>32</td>\n",
       "      <td>32</td>\n",
       "      <td>COAT</td>\n",
       "      <td>ExpoMF</td>\n",
       "      <td>10</td>\n",
       "      <td>0.001000</td>\n",
       "      <td>0.567461</td>\n",
       "    </tr>\n",
       "    <tr>\n",
       "      <th>11</th>\n",
       "      <td>35</td>\n",
       "      <td>35</td>\n",
       "      <td>COAT</td>\n",
       "      <td>ExpoMF</td>\n",
       "      <td>10</td>\n",
       "      <td>0.000010</td>\n",
       "      <td>0.567461</td>\n",
       "    </tr>\n",
       "    <tr>\n",
       "      <th>12</th>\n",
       "      <td>38</td>\n",
       "      <td>38</td>\n",
       "      <td>COAT</td>\n",
       "      <td>ExpoMF</td>\n",
       "      <td>20</td>\n",
       "      <td>0.000100</td>\n",
       "      <td>0.911770</td>\n",
       "    </tr>\n",
       "    <tr>\n",
       "      <th>13</th>\n",
       "      <td>41</td>\n",
       "      <td>41</td>\n",
       "      <td>COAT</td>\n",
       "      <td>ExpoMF</td>\n",
       "      <td>20</td>\n",
       "      <td>0.001000</td>\n",
       "      <td>0.911770</td>\n",
       "    </tr>\n",
       "    <tr>\n",
       "      <th>14</th>\n",
       "      <td>44</td>\n",
       "      <td>44</td>\n",
       "      <td>COAT</td>\n",
       "      <td>ExpoMF</td>\n",
       "      <td>5</td>\n",
       "      <td>0.000001</td>\n",
       "      <td>0.391928</td>\n",
       "    </tr>\n",
       "    <tr>\n",
       "      <th>15</th>\n",
       "      <td>47</td>\n",
       "      <td>47</td>\n",
       "      <td>COAT</td>\n",
       "      <td>ExpoMF</td>\n",
       "      <td>10</td>\n",
       "      <td>0.000001</td>\n",
       "      <td>0.567461</td>\n",
       "    </tr>\n",
       "    <tr>\n",
       "      <th>16</th>\n",
       "      <td>50</td>\n",
       "      <td>50</td>\n",
       "      <td>COAT</td>\n",
       "      <td>ExpoMF</td>\n",
       "      <td>10</td>\n",
       "      <td>0.000100</td>\n",
       "      <td>0.567461</td>\n",
       "    </tr>\n",
       "    <tr>\n",
       "      <th>17</th>\n",
       "      <td>53</td>\n",
       "      <td>53</td>\n",
       "      <td>COAT</td>\n",
       "      <td>ExpoMF</td>\n",
       "      <td>20</td>\n",
       "      <td>0.010000</td>\n",
       "      <td>0.911770</td>\n",
       "    </tr>\n",
       "    <tr>\n",
       "      <th>18</th>\n",
       "      <td>56</td>\n",
       "      <td>56</td>\n",
       "      <td>COAT</td>\n",
       "      <td>ExpoMF</td>\n",
       "      <td>20</td>\n",
       "      <td>0.000010</td>\n",
       "      <td>0.911770</td>\n",
       "    </tr>\n",
       "    <tr>\n",
       "      <th>19</th>\n",
       "      <td>59</td>\n",
       "      <td>59</td>\n",
       "      <td>COAT</td>\n",
       "      <td>ExpoMF</td>\n",
       "      <td>40</td>\n",
       "      <td>0.010000</td>\n",
       "      <td>0.950467</td>\n",
       "    </tr>\n",
       "  </tbody>\n",
       "</table>\n",
       "</div>"
      ],
      "text/plain": [
       "    level_0  index Dataset  Method  lf_dim  reg_param       MSE\n",
       "0         2      2    COAT  ExpoMF      20   0.000001  0.911770\n",
       "1         5      5    COAT  ExpoMF      40   0.000001  0.950467\n",
       "2         8      8    COAT  ExpoMF      40   0.000100  0.950467\n",
       "3        11     11    COAT  ExpoMF       5   0.010000  0.391928\n",
       "4        14     14    COAT  ExpoMF       5   0.000010  0.391928\n",
       "5        17     17    COAT  ExpoMF      40   0.001000  0.950467\n",
       "6        20     20    COAT  ExpoMF      40   0.000010  0.950467\n",
       "7        23     23    COAT  ExpoMF      10   0.010000  0.567461\n",
       "8        26     26    COAT  ExpoMF       5   0.000100  0.391928\n",
       "9        29     29    COAT  ExpoMF       5   0.001000  0.391928\n",
       "10       32     32    COAT  ExpoMF      10   0.001000  0.567461\n",
       "11       35     35    COAT  ExpoMF      10   0.000010  0.567461\n",
       "12       38     38    COAT  ExpoMF      20   0.000100  0.911770\n",
       "13       41     41    COAT  ExpoMF      20   0.001000  0.911770\n",
       "14       44     44    COAT  ExpoMF       5   0.000001  0.391928\n",
       "15       47     47    COAT  ExpoMF      10   0.000001  0.567461\n",
       "16       50     50    COAT  ExpoMF      10   0.000100  0.567461\n",
       "17       53     53    COAT  ExpoMF      20   0.010000  0.911770\n",
       "18       56     56    COAT  ExpoMF      20   0.000010  0.911770\n",
       "19       59     59    COAT  ExpoMF      40   0.010000  0.950467"
      ]
     },
     "execution_count": 19,
     "metadata": {},
     "output_type": "execute_result"
    }
   ],
   "source": [
    "df_params_expomf"
   ]
  },
  {
   "cell_type": "code",
   "execution_count": 21,
   "id": "8e08b797",
   "metadata": {},
   "outputs": [],
   "source": [
    "lf_dim_best_mf, reg_param_best_mf = df_params_mf.iloc[best_param_idx_mf]['lf_dim'],\\\n",
    "                                    df_params_mf.iloc[best_param_idx_mf]['reg_param']\n",
    "\n",
    "lf_dim_best_mfips, reg_param_best_mfips = df_params_mfips.iloc[best_param_idx_mfips]['lf_dim'],\\\n",
    "                            df_params_mfips.iloc[best_param_idx_mfips]['reg_param']\n",
    "\n",
    "lf_dim_best_expomf, reg_param_best_expomf = df_params_expomf.iloc[best_param_idx_expomf]['lf_dim'],\\\n",
    "                            df_params_expomf.iloc[best_param_idx_expomf]['reg_param']"
   ]
  },
  {
   "cell_type": "code",
   "execution_count": 22,
   "id": "50812498",
   "metadata": {},
   "outputs": [],
   "source": [
    "train_df_item, test_df_item, train_ua_df, test_ua_df, prop_ua_df, item_feats_df = res[0], res[1], res[2], res[3], res[4], res[5]"
   ]
  },
  {
   "cell_type": "code",
   "execution_count": 59,
   "id": "90f8b4d7",
   "metadata": {},
   "outputs": [
    {
     "data": {
      "text/plain": [
       "299"
      ]
     },
     "execution_count": 59,
     "metadata": {},
     "output_type": "execute_result"
    }
   ],
   "source": [
    "train_df_item['pid'].max()"
   ]
  },
  {
   "cell_type": "code",
   "execution_count": 352,
   "id": "39b7ff6f",
   "metadata": {},
   "outputs": [
    {
     "name": "stdout",
     "output_type": "stream",
     "text": [
      "Starting cross-val hyper-param tuning\n",
      "Model: \"model_116\"\n",
      "__________________________________________________________________________________________________\n",
      "Layer (type)                    Output Shape         Param #     Connected to                     \n",
      "==================================================================================================\n",
      "input_233 (InputLayer)          [(None, 1)]          0                                            \n",
      "__________________________________________________________________________________________________\n",
      "input_234 (InputLayer)          [(None, 1)]          0                                            \n",
      "__________________________________________________________________________________________________\n",
      "embedding_232 (Embedding)       (None, 1, 40)        11600       input_233[0][0]                  \n",
      "__________________________________________________________________________________________________\n",
      "embedding_233 (Embedding)       (None, 1, 40)        1320        input_234[0][0]                  \n",
      "__________________________________________________________________________________________________\n",
      "reshape_232 (Reshape)           (None, 40)           0           embedding_232[0][0]              \n",
      "__________________________________________________________________________________________________\n",
      "reshape_233 (Reshape)           (None, 40)           0           embedding_233[0][0]              \n",
      "__________________________________________________________________________________________________\n",
      "dot_116 (Dot)                   (None, 1)            0           reshape_232[0][0]                \n",
      "                                                                 reshape_233[0][0]                \n",
      "__________________________________________________________________________________________________\n",
      "dense_116 (Dense)               (None, 1)            2           dot_116[0][0]                    \n",
      "==================================================================================================\n",
      "Total params: 12,922\n",
      "Trainable params: 12,922\n",
      "Non-trainable params: 0\n",
      "__________________________________________________________________________________________________\n",
      "Model: \"model_117\"\n",
      "__________________________________________________________________________________________________\n",
      "Layer (type)                    Output Shape         Param #     Connected to                     \n",
      "==================================================================================================\n",
      "input_235 (InputLayer)          [(None, 1)]          0                                            \n",
      "__________________________________________________________________________________________________\n",
      "input_236 (InputLayer)          [(None, 1)]          0                                            \n",
      "__________________________________________________________________________________________________\n",
      "embedding_234 (Embedding)       (None, 1, 40)        11600       input_235[0][0]                  \n",
      "__________________________________________________________________________________________________\n",
      "embedding_235 (Embedding)       (None, 1, 40)        1320        input_236[0][0]                  \n",
      "__________________________________________________________________________________________________\n",
      "reshape_234 (Reshape)           (None, 40)           0           embedding_234[0][0]              \n",
      "__________________________________________________________________________________________________\n",
      "reshape_235 (Reshape)           (None, 40)           0           embedding_235[0][0]              \n",
      "__________________________________________________________________________________________________\n",
      "dot_117 (Dot)                   (None, 1)            0           reshape_234[0][0]                \n",
      "                                                                 reshape_235[0][0]                \n",
      "__________________________________________________________________________________________________\n",
      "dense_117 (Dense)               (None, 1)            2           dot_117[0][0]                    \n",
      "==================================================================================================\n",
      "Total params: 12,922\n",
      "Trainable params: 12,922\n",
      "Non-trainable params: 0\n",
      "__________________________________________________________________________________________________\n",
      "Model: \"model_118\"\n",
      "__________________________________________________________________________________________________\n",
      "Layer (type)                    Output Shape         Param #     Connected to                     \n",
      "==================================================================================================\n",
      "input_237 (InputLayer)          [(None, 1)]          0                                            \n",
      "__________________________________________________________________________________________________\n",
      "input_238 (InputLayer)          [(None, 1)]          0                                            \n",
      "__________________________________________________________________________________________________\n",
      "embedding_236 (Embedding)       (None, 1, 40)        11600       input_237[0][0]                  \n",
      "__________________________________________________________________________________________________\n",
      "embedding_237 (Embedding)       (None, 1, 40)        1320        input_238[0][0]                  \n",
      "__________________________________________________________________________________________________\n",
      "reshape_236 (Reshape)           (None, 40)           0           embedding_236[0][0]              \n",
      "__________________________________________________________________________________________________\n",
      "reshape_237 (Reshape)           (None, 40)           0           embedding_237[0][0]              \n",
      "__________________________________________________________________________________________________\n",
      "dot_118 (Dot)                   (None, 1)            0           reshape_236[0][0]                \n",
      "                                                                 reshape_237[0][0]                \n",
      "__________________________________________________________________________________________________\n",
      "dense_118 (Dense)               (None, 1)            2           dot_118[0][0]                    \n",
      "==================================================================================================\n",
      "Total params: 12,922\n",
      "Trainable params: 12,922\n",
      "Non-trainable params: 0\n",
      "__________________________________________________________________________________________________\n",
      "Model: \"model_119\"\n",
      "__________________________________________________________________________________________________\n",
      "Layer (type)                    Output Shape         Param #     Connected to                     \n",
      "==================================================================================================\n",
      "input_239 (InputLayer)          [(None, 1)]          0                                            \n",
      "__________________________________________________________________________________________________\n",
      "input_240 (InputLayer)          [(None, 1)]          0                                            \n",
      "__________________________________________________________________________________________________\n",
      "embedding_238 (Embedding)       (None, 1, 40)        11600       input_239[0][0]                  \n",
      "__________________________________________________________________________________________________\n",
      "embedding_239 (Embedding)       (None, 1, 40)        1320        input_240[0][0]                  \n",
      "__________________________________________________________________________________________________\n",
      "reshape_238 (Reshape)           (None, 40)           0           embedding_238[0][0]              \n",
      "__________________________________________________________________________________________________\n",
      "reshape_239 (Reshape)           (None, 40)           0           embedding_239[0][0]              \n",
      "__________________________________________________________________________________________________\n",
      "dot_119 (Dot)                   (None, 1)            0           reshape_238[0][0]                \n",
      "                                                                 reshape_239[0][0]                \n",
      "__________________________________________________________________________________________________\n",
      "dense_119 (Dense)               (None, 1)            2           dot_119[0][0]                    \n",
      "==================================================================================================\n",
      "Total params: 12,922\n",
      "Trainable params: 12,922\n",
      "Non-trainable params: 0\n",
      "__________________________________________________________________________________________________\n"
     ]
    },
    {
     "name": "stdout",
     "output_type": "stream",
     "text": [
      "Model: \"model_120\"\n",
      "__________________________________________________________________________________________________\n",
      "Layer (type)                    Output Shape         Param #     Connected to                     \n",
      "==================================================================================================\n",
      "input_241 (InputLayer)          [(None, 1)]          0                                            \n",
      "__________________________________________________________________________________________________\n",
      "input_242 (InputLayer)          [(None, 1)]          0                                            \n",
      "__________________________________________________________________________________________________\n",
      "embedding_240 (Embedding)       (None, 1, 40)        11600       input_241[0][0]                  \n",
      "__________________________________________________________________________________________________\n",
      "embedding_241 (Embedding)       (None, 1, 40)        1320        input_242[0][0]                  \n",
      "__________________________________________________________________________________________________\n",
      "reshape_240 (Reshape)           (None, 40)           0           embedding_240[0][0]              \n",
      "__________________________________________________________________________________________________\n",
      "reshape_241 (Reshape)           (None, 40)           0           embedding_241[0][0]              \n",
      "__________________________________________________________________________________________________\n",
      "dot_120 (Dot)                   (None, 1)            0           reshape_240[0][0]                \n",
      "                                                                 reshape_241[0][0]                \n",
      "__________________________________________________________________________________________________\n",
      "dense_120 (Dense)               (None, 1)            2           dot_120[0][0]                    \n",
      "==================================================================================================\n",
      "Total params: 12,922\n",
      "Trainable params: 12,922\n",
      "Non-trainable params: 0\n",
      "__________________________________________________________________________________________________\n",
      "Model: \"model_121\"\n",
      "__________________________________________________________________________________________________\n",
      "Layer (type)                    Output Shape         Param #     Connected to                     \n",
      "==================================================================================================\n",
      "input_243 (InputLayer)          [(None, 1)]          0                                            \n",
      "__________________________________________________________________________________________________\n",
      "input_244 (InputLayer)          [(None, 1)]          0                                            \n",
      "__________________________________________________________________________________________________\n",
      "embedding_242 (Embedding)       (None, 1, 40)        11600       input_243[0][0]                  \n",
      "__________________________________________________________________________________________________\n",
      "embedding_243 (Embedding)       (None, 1, 40)        1320        input_244[0][0]                  \n",
      "__________________________________________________________________________________________________\n",
      "reshape_242 (Reshape)           (None, 40)           0           embedding_242[0][0]              \n",
      "__________________________________________________________________________________________________\n",
      "reshape_243 (Reshape)           (None, 40)           0           embedding_243[0][0]              \n",
      "__________________________________________________________________________________________________\n",
      "dot_121 (Dot)                   (None, 1)            0           reshape_242[0][0]                \n",
      "                                                                 reshape_243[0][0]                \n",
      "__________________________________________________________________________________________________\n",
      "dense_121 (Dense)               (None, 1)            2           dot_121[0][0]                    \n",
      "==================================================================================================\n",
      "Total params: 12,922\n",
      "Trainable params: 12,922\n",
      "Non-trainable params: 0\n",
      "__________________________________________________________________________________________________\n",
      "Model: \"model_122\"\n",
      "__________________________________________________________________________________________________\n",
      "Layer (type)                    Output Shape         Param #     Connected to                     \n",
      "==================================================================================================\n",
      "input_245 (InputLayer)          [(None, 1)]          0                                            \n",
      "__________________________________________________________________________________________________\n",
      "input_246 (InputLayer)          [(None, 1)]          0                                            \n",
      "__________________________________________________________________________________________________\n",
      "embedding_244 (Embedding)       (None, 1, 40)        11600       input_245[0][0]                  \n",
      "__________________________________________________________________________________________________\n",
      "embedding_245 (Embedding)       (None, 1, 40)        1320        input_246[0][0]                  \n",
      "__________________________________________________________________________________________________\n",
      "reshape_244 (Reshape)           (None, 40)           0           embedding_244[0][0]              \n",
      "__________________________________________________________________________________________________\n",
      "reshape_245 (Reshape)           (None, 40)           0           embedding_245[0][0]              \n",
      "__________________________________________________________________________________________________\n",
      "dot_122 (Dot)                   (None, 1)            0           reshape_244[0][0]                \n",
      "                                                                 reshape_245[0][0]                \n",
      "__________________________________________________________________________________________________\n",
      "dense_122 (Dense)               (None, 1)            2           dot_122[0][0]                    \n",
      "==================================================================================================\n",
      "Total params: 12,922\n",
      "Trainable params: 12,922\n",
      "Non-trainable params: 0\n",
      "__________________________________________________________________________________________________\n",
      "Model: \"model_123\"\n",
      "__________________________________________________________________________________________________\n",
      "Layer (type)                    Output Shape         Param #     Connected to                     \n",
      "==================================================================================================\n",
      "input_247 (InputLayer)          [(None, 1)]          0                                            \n",
      "__________________________________________________________________________________________________\n",
      "input_248 (InputLayer)          [(None, 1)]          0                                            \n",
      "__________________________________________________________________________________________________\n",
      "embedding_246 (Embedding)       (None, 1, 40)        11600       input_247[0][0]                  \n",
      "__________________________________________________________________________________________________\n",
      "embedding_247 (Embedding)       (None, 1, 40)        1320        input_248[0][0]                  \n",
      "__________________________________________________________________________________________________\n",
      "reshape_246 (Reshape)           (None, 40)           0           embedding_246[0][0]              \n",
      "__________________________________________________________________________________________________\n",
      "reshape_247 (Reshape)           (None, 40)           0           embedding_247[0][0]              \n",
      "__________________________________________________________________________________________________\n",
      "dot_123 (Dot)                   (None, 1)            0           reshape_246[0][0]                \n",
      "                                                                 reshape_247[0][0]                \n",
      "__________________________________________________________________________________________________\n",
      "dense_123 (Dense)               (None, 1)            2           dot_123[0][0]                    \n",
      "==================================================================================================\n",
      "Total params: 12,922\n",
      "Trainable params: 12,922\n",
      "Non-trainable params: 0\n",
      "__________________________________________________________________________________________________\n"
     ]
    },
    {
     "name": "stdout",
     "output_type": "stream",
     "text": [
      "Model: \"model_124\"\n",
      "__________________________________________________________________________________________________\n",
      "Layer (type)                    Output Shape         Param #     Connected to                     \n",
      "==================================================================================================\n",
      "input_249 (InputLayer)          [(None, 1)]          0                                            \n",
      "__________________________________________________________________________________________________\n",
      "input_250 (InputLayer)          [(None, 1)]          0                                            \n",
      "__________________________________________________________________________________________________\n",
      "embedding_248 (Embedding)       (None, 1, 40)        11600       input_249[0][0]                  \n",
      "__________________________________________________________________________________________________\n",
      "embedding_249 (Embedding)       (None, 1, 40)        1320        input_250[0][0]                  \n",
      "__________________________________________________________________________________________________\n",
      "reshape_248 (Reshape)           (None, 40)           0           embedding_248[0][0]              \n",
      "__________________________________________________________________________________________________\n",
      "reshape_249 (Reshape)           (None, 40)           0           embedding_249[0][0]              \n",
      "__________________________________________________________________________________________________\n",
      "dot_124 (Dot)                   (None, 1)            0           reshape_248[0][0]                \n",
      "                                                                 reshape_249[0][0]                \n",
      "__________________________________________________________________________________________________\n",
      "dense_124 (Dense)               (None, 1)            2           dot_124[0][0]                    \n",
      "==================================================================================================\n",
      "Total params: 12,922\n",
      "Trainable params: 12,922\n",
      "Non-trainable params: 0\n",
      "__________________________________________________________________________________________________\n",
      "Model: \"model_125\"\n",
      "__________________________________________________________________________________________________\n",
      "Layer (type)                    Output Shape         Param #     Connected to                     \n",
      "==================================================================================================\n",
      "input_251 (InputLayer)          [(None, 1)]          0                                            \n",
      "__________________________________________________________________________________________________\n",
      "input_252 (InputLayer)          [(None, 1)]          0                                            \n",
      "__________________________________________________________________________________________________\n",
      "embedding_250 (Embedding)       (None, 1, 40)        11600       input_251[0][0]                  \n",
      "__________________________________________________________________________________________________\n",
      "embedding_251 (Embedding)       (None, 1, 40)        1320        input_252[0][0]                  \n",
      "__________________________________________________________________________________________________\n",
      "reshape_250 (Reshape)           (None, 40)           0           embedding_250[0][0]              \n",
      "__________________________________________________________________________________________________\n",
      "reshape_251 (Reshape)           (None, 40)           0           embedding_251[0][0]              \n",
      "__________________________________________________________________________________________________\n",
      "dot_125 (Dot)                   (None, 1)            0           reshape_250[0][0]                \n",
      "                                                                 reshape_251[0][0]                \n",
      "__________________________________________________________________________________________________\n",
      "dense_125 (Dense)               (None, 1)            2           dot_125[0][0]                    \n",
      "==================================================================================================\n",
      "Total params: 12,922\n",
      "Trainable params: 12,922\n",
      "Non-trainable params: 0\n",
      "__________________________________________________________________________________________________\n",
      "Model: \"model_126\"\n",
      "__________________________________________________________________________________________________\n",
      "Layer (type)                    Output Shape         Param #     Connected to                     \n",
      "==================================================================================================\n",
      "input_253 (InputLayer)          [(None, 1)]          0                                            \n",
      "__________________________________________________________________________________________________\n",
      "input_254 (InputLayer)          [(None, 1)]          0                                            \n",
      "__________________________________________________________________________________________________\n",
      "embedding_252 (Embedding)       (None, 1, 40)        11600       input_253[0][0]                  \n",
      "__________________________________________________________________________________________________\n",
      "embedding_253 (Embedding)       (None, 1, 40)        1320        input_254[0][0]                  \n",
      "__________________________________________________________________________________________________\n",
      "reshape_252 (Reshape)           (None, 40)           0           embedding_252[0][0]              \n",
      "__________________________________________________________________________________________________\n",
      "reshape_253 (Reshape)           (None, 40)           0           embedding_253[0][0]              \n",
      "__________________________________________________________________________________________________\n",
      "dot_126 (Dot)                   (None, 1)            0           reshape_252[0][0]                \n",
      "                                                                 reshape_253[0][0]                \n",
      "__________________________________________________________________________________________________\n",
      "dense_126 (Dense)               (None, 1)            2           dot_126[0][0]                    \n",
      "==================================================================================================\n",
      "Total params: 12,922\n",
      "Trainable params: 12,922\n",
      "Non-trainable params: 0\n",
      "__________________________________________________________________________________________________\n",
      "Model: \"model_127\"\n",
      "__________________________________________________________________________________________________\n",
      "Layer (type)                    Output Shape         Param #     Connected to                     \n",
      "==================================================================================================\n",
      "input_255 (InputLayer)          [(None, 1)]          0                                            \n",
      "__________________________________________________________________________________________________\n",
      "input_256 (InputLayer)          [(None, 1)]          0                                            \n",
      "__________________________________________________________________________________________________\n",
      "embedding_254 (Embedding)       (None, 1, 40)        11600       input_255[0][0]                  \n",
      "__________________________________________________________________________________________________\n",
      "embedding_255 (Embedding)       (None, 1, 40)        1320        input_256[0][0]                  \n",
      "__________________________________________________________________________________________________\n",
      "reshape_254 (Reshape)           (None, 40)           0           embedding_254[0][0]              \n",
      "__________________________________________________________________________________________________\n",
      "reshape_255 (Reshape)           (None, 40)           0           embedding_255[0][0]              \n",
      "__________________________________________________________________________________________________\n",
      "dot_127 (Dot)                   (None, 1)            0           reshape_254[0][0]                \n",
      "                                                                 reshape_255[0][0]                \n",
      "__________________________________________________________________________________________________\n",
      "dense_127 (Dense)               (None, 1)            2           dot_127[0][0]                    \n",
      "==================================================================================================\n",
      "Total params: 12,922\n",
      "Trainable params: 12,922\n",
      "Non-trainable params: 0\n",
      "__________________________________________________________________________________________________\n"
     ]
    },
    {
     "name": "stdout",
     "output_type": "stream",
     "text": [
      "Model: \"model_128\"\n",
      "__________________________________________________________________________________________________\n",
      "Layer (type)                    Output Shape         Param #     Connected to                     \n",
      "==================================================================================================\n",
      "input_257 (InputLayer)          [(None, 1)]          0                                            \n",
      "__________________________________________________________________________________________________\n",
      "input_258 (InputLayer)          [(None, 1)]          0                                            \n",
      "__________________________________________________________________________________________________\n",
      "embedding_256 (Embedding)       (None, 1, 40)        11600       input_257[0][0]                  \n",
      "__________________________________________________________________________________________________\n",
      "embedding_257 (Embedding)       (None, 1, 40)        1320        input_258[0][0]                  \n",
      "__________________________________________________________________________________________________\n",
      "reshape_256 (Reshape)           (None, 40)           0           embedding_256[0][0]              \n",
      "__________________________________________________________________________________________________\n",
      "reshape_257 (Reshape)           (None, 40)           0           embedding_257[0][0]              \n",
      "__________________________________________________________________________________________________\n",
      "dot_128 (Dot)                   (None, 1)            0           reshape_256[0][0]                \n",
      "                                                                 reshape_257[0][0]                \n",
      "__________________________________________________________________________________________________\n",
      "dense_128 (Dense)               (None, 1)            2           dot_128[0][0]                    \n",
      "==================================================================================================\n",
      "Total params: 12,922\n",
      "Trainable params: 12,922\n",
      "Non-trainable params: 0\n",
      "__________________________________________________________________________________________________\n",
      "Model: \"model_129\"\n",
      "__________________________________________________________________________________________________\n",
      "Layer (type)                    Output Shape         Param #     Connected to                     \n",
      "==================================================================================================\n",
      "input_259 (InputLayer)          [(None, 1)]          0                                            \n",
      "__________________________________________________________________________________________________\n",
      "input_260 (InputLayer)          [(None, 1)]          0                                            \n",
      "__________________________________________________________________________________________________\n",
      "embedding_258 (Embedding)       (None, 1, 40)        11600       input_259[0][0]                  \n",
      "__________________________________________________________________________________________________\n",
      "embedding_259 (Embedding)       (None, 1, 40)        1320        input_260[0][0]                  \n",
      "__________________________________________________________________________________________________\n",
      "reshape_258 (Reshape)           (None, 40)           0           embedding_258[0][0]              \n",
      "__________________________________________________________________________________________________\n",
      "reshape_259 (Reshape)           (None, 40)           0           embedding_259[0][0]              \n",
      "__________________________________________________________________________________________________\n",
      "dot_129 (Dot)                   (None, 1)            0           reshape_258[0][0]                \n",
      "                                                                 reshape_259[0][0]                \n",
      "__________________________________________________________________________________________________\n",
      "dense_129 (Dense)               (None, 1)            2           dot_129[0][0]                    \n",
      "==================================================================================================\n",
      "Total params: 12,922\n",
      "Trainable params: 12,922\n",
      "Non-trainable params: 0\n",
      "__________________________________________________________________________________________________\n",
      "Model: \"model_130\"\n",
      "__________________________________________________________________________________________________\n",
      "Layer (type)                    Output Shape         Param #     Connected to                     \n",
      "==================================================================================================\n",
      "input_261 (InputLayer)          [(None, 1)]          0                                            \n",
      "__________________________________________________________________________________________________\n",
      "input_262 (InputLayer)          [(None, 1)]          0                                            \n",
      "__________________________________________________________________________________________________\n",
      "embedding_260 (Embedding)       (None, 1, 40)        11600       input_261[0][0]                  \n",
      "__________________________________________________________________________________________________\n",
      "embedding_261 (Embedding)       (None, 1, 40)        1320        input_262[0][0]                  \n",
      "__________________________________________________________________________________________________\n",
      "reshape_260 (Reshape)           (None, 40)           0           embedding_260[0][0]              \n",
      "__________________________________________________________________________________________________\n",
      "reshape_261 (Reshape)           (None, 40)           0           embedding_261[0][0]              \n",
      "__________________________________________________________________________________________________\n",
      "dot_130 (Dot)                   (None, 1)            0           reshape_260[0][0]                \n",
      "                                                                 reshape_261[0][0]                \n",
      "__________________________________________________________________________________________________\n",
      "dense_130 (Dense)               (None, 1)            2           dot_130[0][0]                    \n",
      "==================================================================================================\n",
      "Total params: 12,922\n",
      "Trainable params: 12,922\n",
      "Non-trainable params: 0\n",
      "__________________________________________________________________________________________________\n",
      "Model: \"model_131\"\n",
      "__________________________________________________________________________________________________\n",
      "Layer (type)                    Output Shape         Param #     Connected to                     \n",
      "==================================================================================================\n",
      "input_263 (InputLayer)          [(None, 1)]          0                                            \n",
      "__________________________________________________________________________________________________\n",
      "input_264 (InputLayer)          [(None, 1)]          0                                            \n",
      "__________________________________________________________________________________________________\n",
      "embedding_262 (Embedding)       (None, 1, 40)        11600       input_263[0][0]                  \n",
      "__________________________________________________________________________________________________\n",
      "embedding_263 (Embedding)       (None, 1, 40)        1320        input_264[0][0]                  \n",
      "__________________________________________________________________________________________________\n",
      "reshape_262 (Reshape)           (None, 40)           0           embedding_262[0][0]              \n",
      "__________________________________________________________________________________________________\n",
      "reshape_263 (Reshape)           (None, 40)           0           embedding_263[0][0]              \n",
      "__________________________________________________________________________________________________\n",
      "dot_131 (Dot)                   (None, 1)            0           reshape_262[0][0]                \n",
      "                                                                 reshape_263[0][0]                \n",
      "__________________________________________________________________________________________________\n",
      "dense_131 (Dense)               (None, 1)            2           dot_131[0][0]                    \n",
      "==================================================================================================\n",
      "Total params: 12,922\n",
      "Trainable params: 12,922\n",
      "Non-trainable params: 0\n",
      "__________________________________________________________________________________________________\n"
     ]
    },
    {
     "name": "stdout",
     "output_type": "stream",
     "text": [
      "Model: \"model_132\"\n",
      "__________________________________________________________________________________________________\n",
      "Layer (type)                    Output Shape         Param #     Connected to                     \n",
      "==================================================================================================\n",
      "input_265 (InputLayer)          [(None, 1)]          0                                            \n",
      "__________________________________________________________________________________________________\n",
      "input_266 (InputLayer)          [(None, 1)]          0                                            \n",
      "__________________________________________________________________________________________________\n",
      "embedding_264 (Embedding)       (None, 1, 40)        11600       input_265[0][0]                  \n",
      "__________________________________________________________________________________________________\n",
      "embedding_265 (Embedding)       (None, 1, 40)        1320        input_266[0][0]                  \n",
      "__________________________________________________________________________________________________\n",
      "reshape_264 (Reshape)           (None, 40)           0           embedding_264[0][0]              \n",
      "__________________________________________________________________________________________________\n",
      "reshape_265 (Reshape)           (None, 40)           0           embedding_265[0][0]              \n",
      "__________________________________________________________________________________________________\n",
      "dot_132 (Dot)                   (None, 1)            0           reshape_264[0][0]                \n",
      "                                                                 reshape_265[0][0]                \n",
      "__________________________________________________________________________________________________\n",
      "dense_132 (Dense)               (None, 1)            2           dot_132[0][0]                    \n",
      "==================================================================================================\n",
      "Total params: 12,922\n",
      "Trainable params: 12,922\n",
      "Non-trainable params: 0\n",
      "__________________________________________________________________________________________________\n",
      "Model: \"model_133\"\n",
      "__________________________________________________________________________________________________\n",
      "Layer (type)                    Output Shape         Param #     Connected to                     \n",
      "==================================================================================================\n",
      "input_267 (InputLayer)          [(None, 1)]          0                                            \n",
      "__________________________________________________________________________________________________\n",
      "input_268 (InputLayer)          [(None, 1)]          0                                            \n",
      "__________________________________________________________________________________________________\n",
      "embedding_266 (Embedding)       (None, 1, 40)        11600       input_267[0][0]                  \n",
      "__________________________________________________________________________________________________\n",
      "embedding_267 (Embedding)       (None, 1, 40)        1320        input_268[0][0]                  \n",
      "__________________________________________________________________________________________________\n",
      "reshape_266 (Reshape)           (None, 40)           0           embedding_266[0][0]              \n",
      "__________________________________________________________________________________________________\n",
      "reshape_267 (Reshape)           (None, 40)           0           embedding_267[0][0]              \n",
      "__________________________________________________________________________________________________\n",
      "dot_133 (Dot)                   (None, 1)            0           reshape_266[0][0]                \n",
      "                                                                 reshape_267[0][0]                \n",
      "__________________________________________________________________________________________________\n",
      "dense_133 (Dense)               (None, 1)            2           dot_133[0][0]                    \n",
      "==================================================================================================\n",
      "Total params: 12,922\n",
      "Trainable params: 12,922\n",
      "Non-trainable params: 0\n",
      "__________________________________________________________________________________________________\n",
      "Model: \"model_134\"\n",
      "__________________________________________________________________________________________________\n",
      "Layer (type)                    Output Shape         Param #     Connected to                     \n",
      "==================================================================================================\n",
      "input_269 (InputLayer)          [(None, 1)]          0                                            \n",
      "__________________________________________________________________________________________________\n",
      "input_270 (InputLayer)          [(None, 1)]          0                                            \n",
      "__________________________________________________________________________________________________\n",
      "embedding_268 (Embedding)       (None, 1, 40)        11600       input_269[0][0]                  \n",
      "__________________________________________________________________________________________________\n",
      "embedding_269 (Embedding)       (None, 1, 40)        1320        input_270[0][0]                  \n",
      "__________________________________________________________________________________________________\n",
      "reshape_268 (Reshape)           (None, 40)           0           embedding_268[0][0]              \n",
      "__________________________________________________________________________________________________\n",
      "reshape_269 (Reshape)           (None, 40)           0           embedding_269[0][0]              \n",
      "__________________________________________________________________________________________________\n",
      "dot_134 (Dot)                   (None, 1)            0           reshape_268[0][0]                \n",
      "                                                                 reshape_269[0][0]                \n",
      "__________________________________________________________________________________________________\n",
      "dense_134 (Dense)               (None, 1)            2           dot_134[0][0]                    \n",
      "==================================================================================================\n",
      "Total params: 12,922\n",
      "Trainable params: 12,922\n",
      "Non-trainable params: 0\n",
      "__________________________________________________________________________________________________\n",
      "Model: \"model_135\"\n",
      "__________________________________________________________________________________________________\n",
      "Layer (type)                    Output Shape         Param #     Connected to                     \n",
      "==================================================================================================\n",
      "input_271 (InputLayer)          [(None, 1)]          0                                            \n",
      "__________________________________________________________________________________________________\n",
      "input_272 (InputLayer)          [(None, 1)]          0                                            \n",
      "__________________________________________________________________________________________________\n",
      "embedding_270 (Embedding)       (None, 1, 40)        11600       input_271[0][0]                  \n",
      "__________________________________________________________________________________________________\n",
      "embedding_271 (Embedding)       (None, 1, 40)        1320        input_272[0][0]                  \n",
      "__________________________________________________________________________________________________\n",
      "reshape_270 (Reshape)           (None, 40)           0           embedding_270[0][0]              \n",
      "__________________________________________________________________________________________________\n",
      "reshape_271 (Reshape)           (None, 40)           0           embedding_271[0][0]              \n",
      "__________________________________________________________________________________________________\n",
      "dot_135 (Dot)                   (None, 1)            0           reshape_270[0][0]                \n",
      "                                                                 reshape_271[0][0]                \n",
      "__________________________________________________________________________________________________\n",
      "dense_135 (Dense)               (None, 1)            2           dot_135[0][0]                    \n",
      "==================================================================================================\n",
      "Total params: 12,922\n",
      "Trainable params: 12,922\n",
      "Non-trainable params: 0\n",
      "__________________________________________________________________________________________________\n"
     ]
    }
   ],
   "source": [
    "import pdb\n",
    "X_test = [test_ua_df[['uid', 'pid']].values[:, 0], test_ua_df[['uid', 'pid']].values[:, 1]]\n",
    "y_gt = test_ua_df['rating'].values\n",
    "# train MF plain model\n",
    "per_dict = {}\n",
    "per_dict_ips = {}\n",
    "print(\"Starting cross-val hyper-param tuning\")\n",
    "#for ulf_dim in ulf_range:\n",
    "#for ilf_dim in ilf_range:\n",
    "#for reg_param in reg_param_range:\n",
    "#ulf_dim = args.user_lf\n",
    "#reg_param = args.reg_param\n",
    "\n",
    "maes_mf, mses_mf, maes_mfips, mses_mfips, maes_expomf, mses_expomf = [], [], [], [], [], []\n",
    "ndcgs_mf, ndcgs_mfips, ndcgs_expomf = [], [], []\n",
    "\n",
    "logging.info('Starting final %d runs for COAT data to get models performance metric'%(config['runs']))\n",
    "runs = 10\n",
    "kurtosis_mf = 0.0\n",
    "kurtosis_mfips = 0.0\n",
    "kurtosis_expomf = 0.0\n",
    "kl_mf = 0.0\n",
    "kl_mfips = 0.0\n",
    "kl_expomf = 0.0\n",
    "\n",
    "for run in range(runs):\n",
    "    history_mf = train_mf(train_ua_df, test_ua_df, prop_ua_df, \\\n",
    "                ulf_dim=lf_dim_best_mf, ilf_dim=lf_dim_best_mf, reg_param=reg_param_best_mf, \\\n",
    "                ips=0, config=config)\n",
    "    history_mfips = train_mf(train_ua_df, test_ua_df, prop_ua_df, \\\n",
    "                    ulf_dim=lf_dim_best_mfips, ilf_dim=lf_dim_best_mfips, reg_param=reg_param_best_mfips, \\\n",
    "                        ips=1, config=config)\n",
    "    history_expomf = train_expoMF(train_ua_df, test_ua_df,  \\\n",
    "                    ulf_dim=lf_dim_best_expomf, reg_param=reg_param_best_expomf, \\\n",
    "                        ips=1, config=config, logging=logging)\n",
    "    user_topic_scores = (history_mf.model.get_weights()[2] * (history_mf.model.get_weights()[0] @ history_mf.model.get_weights()[1].T) + history_mf.model.get_weights()[3] )\n",
    "    user_topic_scores_expomf = (history_expomf.theta @ history_expomf.beta.T) \n",
    "    user_topic_scores_ips = (history_mfips.model.get_weights()[2] * (history_mfips.model.get_weights()[0] @ history_mfips.model.get_weights()[1].T) + history_mfips.model.get_weights()[3] )\n",
    "    \n",
    "    count_mf = Counter((user_topic_scores).argmax(axis=1).flatten())\n",
    "    count_mf = {k: v for k, v in sorted(count_mf.items(), key=lambda item: item[1])}\n",
    "    count_mf = np.array(list(count_mf.values()))/ sum(count_mf.values())\n",
    "    unif_mf = [1/float(len(count_mf))] * len(count_mf)\n",
    "    #pdb.set_trace()\n",
    "    kl_mf += sum(kl_div(count_mf, unif_mf))\n",
    "    \n",
    "    count_mfips = Counter((user_topic_scores_ips).argmax(axis=1).flatten())\n",
    "    count_mfips = {k: v for k, v in sorted(count_mfips.items(), key=lambda item: item[1])}\n",
    "    count_mfips = np.array(list(count_mfips.values()))/ sum(count_mfips.values())\n",
    "    unif_mfips = [1/float(len(count_mfips))] * len(count_mfips)\n",
    "    #pdb.set_trace()\n",
    "    kl_mfips += sum(kl_div(count_mfips, unif_mfips))\n",
    "    \n",
    "    count_expomf = Counter((user_topic_scores_expomf).argmax(axis=1).flatten())\n",
    "    count_expomf = {k: v for k, v in sorted(count_expomf.items(), key=lambda item: item[1])}\n",
    "    count_expomf = np.array(list(count_expomf.values()))/ sum(count_expomf.values())\n",
    "    unif_expomf = [1/float(len(count_expomf))] * len(count_expomf)\n",
    "    #pdb.set_trace()\n",
    "    kl_expomf += sum(kl_div(count_expomf, unif_expomf))\n",
    "    \n",
    "    \n",
    "    kurtosis_mfips += kurtosis(list(Counter((user_topic_scores_ips).argmax(axis=1).flatten()).values()))\n",
    "    kurtosis_mf += kurtosis(list(Counter((user_topic_scores+1).argmax(axis=1).flatten()).values()))\n",
    "    kurtosis_expomf += kurtosis(list(Counter((user_topic_scores_expomf).argmax(axis=1).flatten()).values()))\n"
   ]
  },
  {
   "cell_type": "code",
   "execution_count": 353,
   "id": "3264200b",
   "metadata": {},
   "outputs": [
    {
     "data": {
      "text/plain": [
       "-1.5"
      ]
     },
     "execution_count": 353,
     "metadata": {},
     "output_type": "execute_result"
    }
   ],
   "source": [
    "kurtosis([3,1,2])"
   ]
  },
  {
   "cell_type": "code",
   "execution_count": 354,
   "id": "6ea5f056",
   "metadata": {},
   "outputs": [
    {
     "name": "stdout",
     "output_type": "stream",
     "text": [
      "Kurtosis-Expomf 0.949674\n",
      "Kurtosis-mf 1.630055\n",
      "Kurtosis-mf IPS -0.155069\n"
     ]
    }
   ],
   "source": [
    "print(\"Kurtosis-Expomf %f\"%(kurtosis_expomf/10))\n",
    "print(\"Kurtosis-mf %f\"%(kurtosis_mf/10))\n",
    "print(\"Kurtosis-mf IPS %f\"%(kurtosis_mfips/10))"
   ]
  },
  {
   "cell_type": "code",
   "execution_count": 355,
   "id": "9b190748",
   "metadata": {},
   "outputs": [
    {
     "name": "stdout",
     "output_type": "stream",
     "text": [
      "kl-Expomf 0.470890\n",
      "KL-mf 0.777804\n",
      "KL-mf IPS 0.424433\n"
     ]
    }
   ],
   "source": [
    "print(\"kl-Expomf %f\"%(kl_expomf/10))\n",
    "print(\"KL-mf %f\"%(kl_mf/10))\n",
    "print(\"KL-mf IPS %f\"%(kl_mfips/10))"
   ]
  },
  {
   "cell_type": "code",
   "execution_count": 318,
   "id": "46558590",
   "metadata": {},
   "outputs": [
    {
     "data": {
      "text/plain": [
       "{'loss': [7.087019443511963,\n",
       "  1.223165512084961,\n",
       "  0.8820462822914124,\n",
       "  0.8666879534721375,\n",
       "  0.8511831760406494,\n",
       "  0.826255738735199,\n",
       "  0.7945048809051514,\n",
       "  0.7547330260276794,\n",
       "  0.7128660678863525,\n",
       "  0.6650223731994629]}"
      ]
     },
     "execution_count": 318,
     "metadata": {},
     "output_type": "execute_result"
    }
   ],
   "source": [
    "history_mf.history"
   ]
  },
  {
   "cell_type": "code",
   "execution_count": 319,
   "id": "d68e0f66",
   "metadata": {},
   "outputs": [],
   "source": [
    "user_topic_scores = (history_mf.model.get_weights()[2] * (history_mf.model.get_weights()[0] @ history_mf.model.get_weights()[1].T) + history_mf.model.get_weights()[3] )"
   ]
  },
  {
   "cell_type": "code",
   "execution_count": 320,
   "id": "83fcd1db",
   "metadata": {},
   "outputs": [
    {
     "data": {
      "text/plain": [
       "Counter({11: 107,\n",
       "         5: 7,\n",
       "         19: 53,\n",
       "         29: 2,\n",
       "         2: 103,\n",
       "         10: 3,\n",
       "         27: 3,\n",
       "         25: 6,\n",
       "         4: 5,\n",
       "         12: 1})"
      ]
     },
     "execution_count": 320,
     "metadata": {},
     "output_type": "execute_result"
    }
   ],
   "source": [
    "Counter(user_topic_scores.argmax(axis=1).flatten())"
   ]
  },
  {
   "cell_type": "code",
   "execution_count": 321,
   "id": "2c70af39",
   "metadata": {},
   "outputs": [
    {
     "data": {
      "text/plain": [
       "(290,)"
      ]
     },
     "execution_count": 321,
     "metadata": {},
     "output_type": "execute_result"
    }
   ],
   "source": [
    "user_topic_scores.argmax(axis=1).shape"
   ]
  },
  {
   "cell_type": "code",
   "execution_count": 322,
   "id": "dd9f2172",
   "metadata": {},
   "outputs": [
    {
     "data": {
      "text/plain": [
       "<BarContainer object of 10 artists>"
      ]
     },
     "execution_count": 322,
     "metadata": {},
     "output_type": "execute_result"
    },
    {
     "data": {
      "image/png": "[encoded data removed]",
      "text/plain": [
       "<Figure size 432x288 with 1 Axes>"
      ]
     },
     "metadata": {
      "needs_background": "light"
     },
     "output_type": "display_data"
    }
   ],
   "source": [
    "from collections import Counter\n",
    "#topic_counts = list(Counter(user_topic_scores.astype(np.int).flatten()).values())\n",
    "topic_counts = list(Counter(user_topic_scores.argmax(axis=1).flatten()).values())\n",
    "plot.bar(range(len(topic_counts)),sorted(topic_counts, reverse=True),align='center')\n",
    "#list(Counter(user_topic_scores.argmax(axis=1)).values())"
   ]
  },
  {
   "cell_type": "code",
   "execution_count": 323,
   "id": "f16534f0",
   "metadata": {},
   "outputs": [
    {
     "data": {
      "text/plain": [
       "10"
      ]
     },
     "execution_count": 323,
     "metadata": {},
     "output_type": "execute_result"
    }
   ],
   "source": [
    "len(Counter((user_topic_scores+1).argmax(axis=1).flatten()))"
   ]
  },
  {
   "cell_type": "code",
   "execution_count": 324,
   "id": "fb2e74f9",
   "metadata": {},
   "outputs": [
    {
     "data": {
      "text/plain": [
       "(290,)"
      ]
     },
     "execution_count": 324,
     "metadata": {},
     "output_type": "execute_result"
    }
   ],
   "source": [
    "(user_topic_scores_ips+1).argmax(axis=1).shape"
   ]
  },
  {
   "cell_type": "code",
   "execution_count": 325,
   "id": "d0769b2d",
   "metadata": {},
   "outputs": [],
   "source": [
    "user_topic_scores_ips = (history_mfips.model.get_weights()[2] * (history_mfips.model.get_weights()[0] @ history_mfips.model.get_weights()[1].T) + history_mfips.model.get_weights()[3] )"
   ]
  },
  {
   "cell_type": "code",
   "execution_count": 326,
   "id": "70878e23",
   "metadata": {},
   "outputs": [
    {
     "data": {
      "text/plain": [
       "<BarContainer object of 8 artists>"
      ]
     },
     "execution_count": 326,
     "metadata": {},
     "output_type": "execute_result"
    },
    {
     "data": {
      "image/png": "[encoded data removed]",
      "text/plain": [
       "<Figure size 432x288 with 1 Axes>"
      ]
     },
     "metadata": {
      "needs_background": "light"
     },
     "output_type": "display_data"
    }
   ],
   "source": [
    "#topic_counts = list(Counter((user_topic_scores_ips+1).astype(np.int).flatten()).values())\n",
    "topic_counts = list(Counter((user_topic_scores_ips+1).argmax(axis=1).flatten()).values())\n",
    "plot.bar(range(len(topic_counts)),sorted(topic_counts, reverse=True),align='center')\n"
   ]
  },
  {
   "cell_type": "code",
   "execution_count": 327,
   "id": "b499ed56",
   "metadata": {},
   "outputs": [
    {
     "data": {
      "text/plain": [
       "8"
      ]
     },
     "execution_count": 327,
     "metadata": {},
     "output_type": "execute_result"
    }
   ],
   "source": [
    "len(Counter((user_topic_scores_ips+1).argmax(axis=1).flatten()))"
   ]
  },
  {
   "cell_type": "code",
   "execution_count": 340,
   "id": "47a186da",
   "metadata": {},
   "outputs": [],
   "source": [
    "from scipy.stats import norm, kurtosis\n",
    "from scipy.special import kl_div"
   ]
  },
  {
   "cell_type": "code",
   "execution_count": 329,
   "id": "bfbcf40d",
   "metadata": {},
   "outputs": [
    {
     "data": {
      "text/plain": [
       "-1.4620491781840879"
      ]
     },
     "execution_count": 329,
     "metadata": {},
     "output_type": "execute_result"
    }
   ],
   "source": [
    "kurtosis(list(Counter((user_topic_scores_ips).argmax(axis=1).flatten()).values()))"
   ]
  },
  {
   "cell_type": "code",
   "execution_count": 330,
   "id": "71339029",
   "metadata": {},
   "outputs": [
    {
     "data": {
      "text/plain": [
       "-0.4479593471742165"
      ]
     },
     "execution_count": 330,
     "metadata": {},
     "output_type": "execute_result"
    }
   ],
   "source": [
    "kurtosis(list(Counter((user_topic_scores+1).argmax(axis=1).flatten()).values()))"
   ]
  },
  {
   "cell_type": "code",
   "execution_count": 99,
   "id": "00653b6f",
   "metadata": {},
   "outputs": [
    {
     "data": {
      "text/plain": [
       "Counter({11: 135, 31: 30, 22: 1, 19: 17, 2: 73, 8: 3, 12: 1, 4: 23, 25: 7})"
      ]
     },
     "execution_count": 99,
     "metadata": {},
     "output_type": "execute_result"
    }
   ],
   "source": [
    "Counter(user_topic_scores.argmax(axis=1))"
   ]
  },
  {
   "cell_type": "code",
   "execution_count": 222,
   "id": "463283b9",
   "metadata": {},
   "outputs": [],
   "source": [
    "y_pred_mf = history_mf.model.predict(X_test)\n",
    "y_pred_mfips = history_mfips.model.predict(X_test)"
   ]
  },
  {
   "cell_type": "code",
   "execution_count": 228,
   "id": "8f47938d",
   "metadata": {},
   "outputs": [
    {
     "data": {
      "text/plain": [
       "Counter({3: 1476, 2: 2509, 1: 711, 4: 183, 5: 11})"
      ]
     },
     "execution_count": 228,
     "metadata": {},
     "output_type": "execute_result"
    }
   ],
   "source": [
    "Counter(y_pred_mf.flatten().astype(np.int))"
   ]
  },
  {
   "cell_type": "code",
   "execution_count": 229,
   "id": "e4479cb7",
   "metadata": {},
   "outputs": [
    {
     "data": {
      "text/plain": [
       "Counter({4: 156, 2: 2320, 3: 979, 1: 1399, 0: 24, 5: 12})"
      ]
     },
     "execution_count": 229,
     "metadata": {},
     "output_type": "execute_result"
    }
   ],
   "source": [
    "Counter(y_pred_mfips.flatten().astype(np.int))"
   ]
  },
  {
   "cell_type": "code",
   "execution_count": 113,
   "id": "769ced34",
   "metadata": {},
   "outputs": [
    {
     "ename": "AttributeError",
     "evalue": "'Line2D' object has no property 'density'",
     "output_type": "error",
     "traceback": [
      "\u001b[0;31m---------------------------------------------------------------------------\u001b[0m",
      "\u001b[0;31mAttributeError\u001b[0m                            Traceback (most recent call last)",
      "\u001b[0;32m<ipython-input-113-a91e91076571>\u001b[0m in \u001b[0;36m<module>\u001b[0;34m\u001b[0m\n\u001b[1;32m      1\u001b[0m \u001b[0;32mimport\u001b[0m \u001b[0mmatplotlib\u001b[0m\u001b[0;34m.\u001b[0m\u001b[0mpyplot\u001b[0m \u001b[0;32mas\u001b[0m \u001b[0mplot\u001b[0m\u001b[0;34m\u001b[0m\u001b[0;34m\u001b[0m\u001b[0m\n\u001b[1;32m      2\u001b[0m \u001b[0;34m\u001b[0m\u001b[0m\n\u001b[0;32m----> 3\u001b[0;31m \u001b[0mplot\u001b[0m\u001b[0;34m.\u001b[0m\u001b[0mplot\u001b[0m\u001b[0;34m(\u001b[0m\u001b[0mlist\u001b[0m\u001b[0;34m(\u001b[0m\u001b[0mCounter\u001b[0m\u001b[0;34m(\u001b[0m\u001b[0muser_topic_scores\u001b[0m\u001b[0;34m.\u001b[0m\u001b[0margmax\u001b[0m\u001b[0;34m(\u001b[0m\u001b[0maxis\u001b[0m\u001b[0;34m=\u001b[0m\u001b[0;36m1\u001b[0m\u001b[0;34m)\u001b[0m\u001b[0;34m)\u001b[0m\u001b[0;34m.\u001b[0m\u001b[0mvalues\u001b[0m\u001b[0;34m(\u001b[0m\u001b[0;34m)\u001b[0m\u001b[0;34m)\u001b[0m\u001b[0;34m,\u001b[0m\u001b[0mdensity\u001b[0m\u001b[0;34m=\u001b[0m\u001b[0;36m1\u001b[0m\u001b[0;34m,\u001b[0m \u001b[0mbins\u001b[0m\u001b[0;34m=\u001b[0m\u001b[0;36m20\u001b[0m\u001b[0;34m)\u001b[0m\u001b[0;34m\u001b[0m\u001b[0;34m\u001b[0m\u001b[0m\n\u001b[0m",
      "\u001b[0;32m/ivi/ilps/personal/sgupta/anaconda3/envs/fair_ranking/lib/python3.6/site-packages/matplotlib/pyplot.py\u001b[0m in \u001b[0;36mplot\u001b[0;34m(scalex, scaley, data, *args, **kwargs)\u001b[0m\n\u001b[1;32m   2840\u001b[0m     return gca().plot(\n\u001b[1;32m   2841\u001b[0m         \u001b[0;34m*\u001b[0m\u001b[0margs\u001b[0m\u001b[0;34m,\u001b[0m \u001b[0mscalex\u001b[0m\u001b[0;34m=\u001b[0m\u001b[0mscalex\u001b[0m\u001b[0;34m,\u001b[0m \u001b[0mscaley\u001b[0m\u001b[0;34m=\u001b[0m\u001b[0mscaley\u001b[0m\u001b[0;34m,\u001b[0m\u001b[0;34m\u001b[0m\u001b[0;34m\u001b[0m\u001b[0m\n\u001b[0;32m-> 2842\u001b[0;31m         **({\"data\": data} if data is not None else {}), **kwargs)\n\u001b[0m\u001b[1;32m   2843\u001b[0m \u001b[0;34m\u001b[0m\u001b[0m\n\u001b[1;32m   2844\u001b[0m \u001b[0;34m\u001b[0m\u001b[0m\n",
      "\u001b[0;32m/ivi/ilps/personal/sgupta/anaconda3/envs/fair_ranking/lib/python3.6/site-packages/matplotlib/axes/_axes.py\u001b[0m in \u001b[0;36mplot\u001b[0;34m(self, scalex, scaley, data, *args, **kwargs)\u001b[0m\n\u001b[1;32m   1741\u001b[0m         \"\"\"\n\u001b[1;32m   1742\u001b[0m         \u001b[0mkwargs\u001b[0m \u001b[0;34m=\u001b[0m \u001b[0mcbook\u001b[0m\u001b[0;34m.\u001b[0m\u001b[0mnormalize_kwargs\u001b[0m\u001b[0;34m(\u001b[0m\u001b[0mkwargs\u001b[0m\u001b[0;34m,\u001b[0m \u001b[0mmlines\u001b[0m\u001b[0;34m.\u001b[0m\u001b[0mLine2D\u001b[0m\u001b[0;34m)\u001b[0m\u001b[0;34m\u001b[0m\u001b[0;34m\u001b[0m\u001b[0m\n\u001b[0;32m-> 1743\u001b[0;31m         \u001b[0mlines\u001b[0m \u001b[0;34m=\u001b[0m \u001b[0;34m[\u001b[0m\u001b[0;34m*\u001b[0m\u001b[0mself\u001b[0m\u001b[0;34m.\u001b[0m\u001b[0m_get_lines\u001b[0m\u001b[0;34m(\u001b[0m\u001b[0;34m*\u001b[0m\u001b[0margs\u001b[0m\u001b[0;34m,\u001b[0m \u001b[0mdata\u001b[0m\u001b[0;34m=\u001b[0m\u001b[0mdata\u001b[0m\u001b[0;34m,\u001b[0m \u001b[0;34m**\u001b[0m\u001b[0mkwargs\u001b[0m\u001b[0;34m)\u001b[0m\u001b[0;34m]\u001b[0m\u001b[0;34m\u001b[0m\u001b[0;34m\u001b[0m\u001b[0m\n\u001b[0m\u001b[1;32m   1744\u001b[0m         \u001b[0;32mfor\u001b[0m \u001b[0mline\u001b[0m \u001b[0;32min\u001b[0m \u001b[0mlines\u001b[0m\u001b[0;34m:\u001b[0m\u001b[0;34m\u001b[0m\u001b[0;34m\u001b[0m\u001b[0m\n\u001b[1;32m   1745\u001b[0m             \u001b[0mself\u001b[0m\u001b[0;34m.\u001b[0m\u001b[0madd_line\u001b[0m\u001b[0;34m(\u001b[0m\u001b[0mline\u001b[0m\u001b[0;34m)\u001b[0m\u001b[0;34m\u001b[0m\u001b[0;34m\u001b[0m\u001b[0m\n",
      "\u001b[0;32m/ivi/ilps/personal/sgupta/anaconda3/envs/fair_ranking/lib/python3.6/site-packages/matplotlib/axes/_base.py\u001b[0m in \u001b[0;36m__call__\u001b[0;34m(self, data, *args, **kwargs)\u001b[0m\n\u001b[1;32m    271\u001b[0m                 \u001b[0mthis\u001b[0m \u001b[0;34m+=\u001b[0m \u001b[0margs\u001b[0m\u001b[0;34m[\u001b[0m\u001b[0;36m0\u001b[0m\u001b[0;34m]\u001b[0m\u001b[0;34m,\u001b[0m\u001b[0;34m\u001b[0m\u001b[0;34m\u001b[0m\u001b[0m\n\u001b[1;32m    272\u001b[0m                 \u001b[0margs\u001b[0m \u001b[0;34m=\u001b[0m \u001b[0margs\u001b[0m\u001b[0;34m[\u001b[0m\u001b[0;36m1\u001b[0m\u001b[0;34m:\u001b[0m\u001b[0;34m]\u001b[0m\u001b[0;34m\u001b[0m\u001b[0;34m\u001b[0m\u001b[0m\n\u001b[0;32m--> 273\u001b[0;31m             \u001b[0;32myield\u001b[0m \u001b[0;32mfrom\u001b[0m \u001b[0mself\u001b[0m\u001b[0;34m.\u001b[0m\u001b[0m_plot_args\u001b[0m\u001b[0;34m(\u001b[0m\u001b[0mthis\u001b[0m\u001b[0;34m,\u001b[0m \u001b[0mkwargs\u001b[0m\u001b[0;34m)\u001b[0m\u001b[0;34m\u001b[0m\u001b[0;34m\u001b[0m\u001b[0m\n\u001b[0m\u001b[1;32m    274\u001b[0m \u001b[0;34m\u001b[0m\u001b[0m\n\u001b[1;32m    275\u001b[0m     \u001b[0;32mdef\u001b[0m \u001b[0mget_next_color\u001b[0m\u001b[0;34m(\u001b[0m\u001b[0mself\u001b[0m\u001b[0;34m)\u001b[0m\u001b[0;34m:\u001b[0m\u001b[0;34m\u001b[0m\u001b[0;34m\u001b[0m\u001b[0m\n",
      "\u001b[0;32m/ivi/ilps/personal/sgupta/anaconda3/envs/fair_ranking/lib/python3.6/site-packages/matplotlib/axes/_base.py\u001b[0m in \u001b[0;36m_plot_args\u001b[0;34m(self, tup, kwargs)\u001b[0m\n\u001b[1;32m    417\u001b[0m             \u001b[0;32mraise\u001b[0m \u001b[0mValueError\u001b[0m\u001b[0;34m(\u001b[0m\u001b[0;34mf\"x has {ncx} columns but y has {ncy} columns\"\u001b[0m\u001b[0;34m)\u001b[0m\u001b[0;34m\u001b[0m\u001b[0;34m\u001b[0m\u001b[0m\n\u001b[1;32m    418\u001b[0m         return [func(x[:, j % ncx], y[:, j % ncy], kw, kwargs)\n\u001b[0;32m--> 419\u001b[0;31m                 for j in range(max(ncx, ncy))]\n\u001b[0m\u001b[1;32m    420\u001b[0m \u001b[0;34m\u001b[0m\u001b[0m\n\u001b[1;32m    421\u001b[0m \u001b[0;34m\u001b[0m\u001b[0m\n",
      "\u001b[0;32m/ivi/ilps/personal/sgupta/anaconda3/envs/fair_ranking/lib/python3.6/site-packages/matplotlib/axes/_base.py\u001b[0m in \u001b[0;36m<listcomp>\u001b[0;34m(.0)\u001b[0m\n\u001b[1;32m    417\u001b[0m             \u001b[0;32mraise\u001b[0m \u001b[0mValueError\u001b[0m\u001b[0;34m(\u001b[0m\u001b[0;34mf\"x has {ncx} columns but y has {ncy} columns\"\u001b[0m\u001b[0;34m)\u001b[0m\u001b[0;34m\u001b[0m\u001b[0;34m\u001b[0m\u001b[0m\n\u001b[1;32m    418\u001b[0m         return [func(x[:, j % ncx], y[:, j % ncy], kw, kwargs)\n\u001b[0;32m--> 419\u001b[0;31m                 for j in range(max(ncx, ncy))]\n\u001b[0m\u001b[1;32m    420\u001b[0m \u001b[0;34m\u001b[0m\u001b[0m\n\u001b[1;32m    421\u001b[0m \u001b[0;34m\u001b[0m\u001b[0m\n",
      "\u001b[0;32m/ivi/ilps/personal/sgupta/anaconda3/envs/fair_ranking/lib/python3.6/site-packages/matplotlib/axes/_base.py\u001b[0m in \u001b[0;36m_makeline\u001b[0;34m(self, x, y, kw, kwargs)\u001b[0m\n\u001b[1;32m    310\u001b[0m         \u001b[0mdefault_dict\u001b[0m \u001b[0;34m=\u001b[0m \u001b[0mself\u001b[0m\u001b[0;34m.\u001b[0m\u001b[0m_getdefaults\u001b[0m\u001b[0;34m(\u001b[0m\u001b[0mset\u001b[0m\u001b[0;34m(\u001b[0m\u001b[0;34m)\u001b[0m\u001b[0;34m,\u001b[0m \u001b[0mkw\u001b[0m\u001b[0;34m)\u001b[0m\u001b[0;34m\u001b[0m\u001b[0;34m\u001b[0m\u001b[0m\n\u001b[1;32m    311\u001b[0m         \u001b[0mself\u001b[0m\u001b[0;34m.\u001b[0m\u001b[0m_setdefaults\u001b[0m\u001b[0;34m(\u001b[0m\u001b[0mdefault_dict\u001b[0m\u001b[0;34m,\u001b[0m \u001b[0mkw\u001b[0m\u001b[0;34m)\u001b[0m\u001b[0;34m\u001b[0m\u001b[0;34m\u001b[0m\u001b[0m\n\u001b[0;32m--> 312\u001b[0;31m         \u001b[0mseg\u001b[0m \u001b[0;34m=\u001b[0m \u001b[0mmlines\u001b[0m\u001b[0;34m.\u001b[0m\u001b[0mLine2D\u001b[0m\u001b[0;34m(\u001b[0m\u001b[0mx\u001b[0m\u001b[0;34m,\u001b[0m \u001b[0my\u001b[0m\u001b[0;34m,\u001b[0m \u001b[0;34m**\u001b[0m\u001b[0mkw\u001b[0m\u001b[0;34m)\u001b[0m\u001b[0;34m\u001b[0m\u001b[0;34m\u001b[0m\u001b[0m\n\u001b[0m\u001b[1;32m    313\u001b[0m         \u001b[0;32mreturn\u001b[0m \u001b[0mseg\u001b[0m\u001b[0;34m\u001b[0m\u001b[0;34m\u001b[0m\u001b[0m\n\u001b[1;32m    314\u001b[0m \u001b[0;34m\u001b[0m\u001b[0m\n",
      "\u001b[0;32m/ivi/ilps/personal/sgupta/anaconda3/envs/fair_ranking/lib/python3.6/site-packages/matplotlib/lines.py\u001b[0m in \u001b[0;36m__init__\u001b[0;34m(self, xdata, ydata, linewidth, linestyle, color, marker, markersize, markeredgewidth, markeredgecolor, markerfacecolor, markerfacecoloralt, fillstyle, antialiased, dash_capstyle, solid_capstyle, dash_joinstyle, solid_joinstyle, pickradius, drawstyle, markevery, **kwargs)\u001b[0m\n\u001b[1;32m    388\u001b[0m         \u001b[0;31m# update kwargs before updating data to give the caller a\u001b[0m\u001b[0;34m\u001b[0m\u001b[0;34m\u001b[0m\u001b[0;34m\u001b[0m\u001b[0m\n\u001b[1;32m    389\u001b[0m         \u001b[0;31m# chance to init axes (and hence unit support)\u001b[0m\u001b[0;34m\u001b[0m\u001b[0;34m\u001b[0m\u001b[0;34m\u001b[0m\u001b[0m\n\u001b[0;32m--> 390\u001b[0;31m         \u001b[0mself\u001b[0m\u001b[0;34m.\u001b[0m\u001b[0mupdate\u001b[0m\u001b[0;34m(\u001b[0m\u001b[0mkwargs\u001b[0m\u001b[0;34m)\u001b[0m\u001b[0;34m\u001b[0m\u001b[0;34m\u001b[0m\u001b[0m\n\u001b[0m\u001b[1;32m    391\u001b[0m         \u001b[0mself\u001b[0m\u001b[0;34m.\u001b[0m\u001b[0mpickradius\u001b[0m \u001b[0;34m=\u001b[0m \u001b[0mpickradius\u001b[0m\u001b[0;34m\u001b[0m\u001b[0;34m\u001b[0m\u001b[0m\n\u001b[1;32m    392\u001b[0m         \u001b[0mself\u001b[0m\u001b[0;34m.\u001b[0m\u001b[0mind_offset\u001b[0m \u001b[0;34m=\u001b[0m \u001b[0;36m0\u001b[0m\u001b[0;34m\u001b[0m\u001b[0;34m\u001b[0m\u001b[0m\n",
      "\u001b[0;32m/ivi/ilps/personal/sgupta/anaconda3/envs/fair_ranking/lib/python3.6/site-packages/matplotlib/artist.py\u001b[0m in \u001b[0;36mupdate\u001b[0;34m(self, props)\u001b[0m\n\u001b[1;32m    994\u001b[0m                     \u001b[0mfunc\u001b[0m \u001b[0;34m=\u001b[0m \u001b[0mgetattr\u001b[0m\u001b[0;34m(\u001b[0m\u001b[0mself\u001b[0m\u001b[0;34m,\u001b[0m \u001b[0;34mf\"set_{k}\"\u001b[0m\u001b[0;34m,\u001b[0m \u001b[0;32mNone\u001b[0m\u001b[0;34m)\u001b[0m\u001b[0;34m\u001b[0m\u001b[0;34m\u001b[0m\u001b[0m\n\u001b[1;32m    995\u001b[0m                     \u001b[0;32mif\u001b[0m \u001b[0;32mnot\u001b[0m \u001b[0mcallable\u001b[0m\u001b[0;34m(\u001b[0m\u001b[0mfunc\u001b[0m\u001b[0;34m)\u001b[0m\u001b[0;34m:\u001b[0m\u001b[0;34m\u001b[0m\u001b[0;34m\u001b[0m\u001b[0m\n\u001b[0;32m--> 996\u001b[0;31m                         raise AttributeError(f\"{type(self).__name__!r} object \"\n\u001b[0m\u001b[1;32m    997\u001b[0m                                              f\"has no property {k!r}\")\n\u001b[1;32m    998\u001b[0m                     \u001b[0mret\u001b[0m\u001b[0;34m.\u001b[0m\u001b[0mappend\u001b[0m\u001b[0;34m(\u001b[0m\u001b[0mfunc\u001b[0m\u001b[0;34m(\u001b[0m\u001b[0mv\u001b[0m\u001b[0;34m)\u001b[0m\u001b[0;34m)\u001b[0m\u001b[0;34m\u001b[0m\u001b[0;34m\u001b[0m\u001b[0m\n",
      "\u001b[0;31mAttributeError\u001b[0m: 'Line2D' object has no property 'density'"
     ]
    },
    {
     "data": {
      "image/png": "[encoded data removed]",
      "text/plain": [
       "<Figure size 432x288 with 1 Axes>"
      ]
     },
     "metadata": {
      "needs_background": "light"
     },
     "output_type": "display_data"
    }
   ],
   "source": [
    "import matplotlib.pyplot as plot\n",
    "\n",
    "plot.plot(list(Counter(user_topic_scores.argmax(axis=1)).values()),density=1, bins=20) "
   ]
  },
  {
   "cell_type": "code",
   "execution_count": null,
   "id": "4aeb9a0e",
   "metadata": {},
   "outputs": [],
   "source": []
  },
  {
   "cell_type": "code",
   "execution_count": 67,
   "id": "0dba28dd",
   "metadata": {},
   "outputs": [],
   "source": [
    "col_names = []\n",
    "for line in open(os.path.join('../data/raw/coat/user_item_features', 'item_features_map.txt'), 'r'):\n",
    "    col_names.append(line.strip())\n"
   ]
  },
  {
   "cell_type": "code",
   "execution_count": 68,
   "id": "a5b8e920",
   "metadata": {},
   "outputs": [
    {
     "data": {
      "text/plain": [
       "['gender:men',\n",
       " 'gender:women',\n",
       " 'jackettype:bomber',\n",
       " 'jackettype:cropped',\n",
       " 'jackettype:field',\n",
       " 'jackettype:fleece',\n",
       " 'jackettype:insulated',\n",
       " 'jackettype:motorcycle',\n",
       " 'jackettype:other',\n",
       " 'jackettype:packable',\n",
       " 'jackettype:parkas',\n",
       " 'jackettype:pea',\n",
       " 'jackettype:rain',\n",
       " 'jackettype:shells',\n",
       " 'jackettype:track',\n",
       " 'jackettype:trench',\n",
       " 'jackettype:vests',\n",
       " 'jackettype:waterproof',\n",
       " 'color:beige',\n",
       " 'color:black',\n",
       " 'color:blue',\n",
       " 'color:brown',\n",
       " 'color:gray',\n",
       " 'color:green',\n",
       " 'color:multi',\n",
       " 'color:navy',\n",
       " 'color:olive',\n",
       " 'color:other',\n",
       " 'color:pink',\n",
       " 'color:purple',\n",
       " 'color:red',\n",
       " 'onfrontpage:yes',\n",
       " 'onfrontpage:no']"
      ]
     },
     "execution_count": 68,
     "metadata": {},
     "output_type": "execute_result"
    }
   ],
   "source": [
    "col_names"
   ]
  },
  {
   "cell_type": "code",
   "execution_count": 69,
   "id": "2eb71fdc",
   "metadata": {},
   "outputs": [],
   "source": [
    "item_feats = np.loadtxt(os.path.join('../data/raw/coat/user_item_features', 'item_features.ascii'))"
   ]
  },
  {
   "cell_type": "code",
   "execution_count": 82,
   "id": "7aea2734",
   "metadata": {},
   "outputs": [
    {
     "data": {
      "text/plain": [
       "(array([ 0,  0,  0, ..., 32, 32, 32]),\n",
       " array([  0,   1,   2, ..., 297, 298, 299]))"
      ]
     },
     "execution_count": 82,
     "metadata": {},
     "output_type": "execute_result"
    }
   ],
   "source": [
    "np.where(item_feats.T == 1)"
   ]
  },
  {
   "cell_type": "code",
   "execution_count": 41,
   "id": "3b6be4c8",
   "metadata": {},
   "outputs": [],
   "source": [
    "y_pred_mf = history_mf.model.predict(X_test)"
   ]
  },
  {
   "cell_type": "code",
   "execution_count": 51,
   "id": "ff6e8692",
   "metadata": {},
   "outputs": [
    {
     "data": {
      "text/plain": [
       "5.536191"
      ]
     },
     "execution_count": 51,
     "metadata": {},
     "output_type": "execute_result"
    }
   ],
   "source": [
    "y_pred_mf.max()"
   ]
  },
  {
   "cell_type": "code",
   "execution_count": 94,
   "id": "6e12b410",
   "metadata": {},
   "outputs": [
    {
     "data": {
      "text/plain": [
       "[array([[-0.19978216, -0.1537097 , -0.19424263, ...,  0.17286858,\n",
       "         -0.25711918,  0.10904978],\n",
       "        [-0.05090541, -0.03899537, -0.09592912, ...,  0.08447007,\n",
       "         -0.07513382,  0.14959675],\n",
       "        [-0.10448894, -0.13059027, -0.10833335, ...,  0.16680837,\n",
       "          0.04283736,  0.06519396],\n",
       "        ...,\n",
       "        [-0.09738317, -0.08344048, -0.16746895, ...,  0.11266895,\n",
       "          0.16250823,  0.14642015],\n",
       "        [-0.10171963, -0.07801136, -0.12614352, ...,  0.10504811,\n",
       "         -0.04448077,  0.14472958],\n",
       "        [-0.07229791, -0.1351395 , -0.12186116, ...,  0.09137271,\n",
       "          0.07827122,  0.1677315 ]], dtype=float32),\n",
       " array([[-0.3667073 , -0.37699977, -0.31040722, ...,  0.14624433,\n",
       "         -0.10071659,  0.45431462],\n",
       "        [-0.15642197, -0.3445183 , -0.35588202, ...,  0.42915514,\n",
       "         -0.18906666,  0.09793819],\n",
       "        [-0.33941808, -0.34788367, -0.2758867 , ...,  0.2938753 ,\n",
       "          0.02278627,  0.420508  ],\n",
       "        ...,\n",
       "        [-0.22543044, -0.38158324, -0.29385322, ...,  0.3275117 ,\n",
       "         -0.28176528,  0.25368613],\n",
       "        [-0.26243082, -0.26818758, -0.2791798 , ...,  0.28502974,\n",
       "         -0.00556685,  0.4165544 ],\n",
       "        [-0.37544352, -0.33595276, -0.4554681 , ...,  0.32824263,\n",
       "         -0.07577147,  0.3577781 ]], dtype=float32),\n",
       " array([[1.5454867]], dtype=float32),\n",
       " array([0.48592383], dtype=float32)]"
      ]
     },
     "execution_count": 94,
     "metadata": {},
     "output_type": "execute_result"
    }
   ],
   "source": [
    "history_mf.model.get_weights()"
   ]
  },
  {
   "cell_type": "code",
   "execution_count": null,
   "id": "7c80f566",
   "metadata": {},
   "outputs": [],
   "source": []
  }
 ],
 "metadata": {
  "kernelspec": {
   "display_name": "Python 3",
   "language": "python",
   "name": "python3"
  },
  "language_info": {
   "codemirror_mode": {
    "name": "ipython",
    "version": 3
   },
   "file_extension": ".py",
   "mimetype": "text/x-python",
   "name": "python",
   "nbconvert_exporter": "python",
   "pygments_lexer": "ipython3",
   "version": "3.6.13"
  }
 },
 "nbformat": 4,
 "nbformat_minor": 5
}
